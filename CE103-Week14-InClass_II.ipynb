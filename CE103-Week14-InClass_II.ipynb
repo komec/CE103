{
 "cells": [
  {
   "cell_type": "markdown",
   "metadata": {},
   "source": [
    "### CE 103- INTRODUCTION TO COMPUTERS and PROGRAMMING"
   ]
  },
  {
   "cell_type": "markdown",
   "metadata": {},
   "source": [
    "# Week 14 _ In Class Assigment II\n",
    "\n",
    "\n",
    "Dear students, \n",
    "\n",
    "You have a week to complete your second In Class assignment. You will be working as teams, please be sure that all of you as a team member spend same effort for this assignment. \n",
    "\n",
    "\n",
    "**Title of the task: \"Create your own step counter (pedometer)\"**\n",
    "\n",
    "Please follow the intructions below and do not hesitate to ask question, if any, during your process. \n",
    "\n",
    "\n",
    "1 - Use the same application that you used for the previous project.\n",
    "\n",
    "2 - Run the application and select 'Accelerometer' to record data and save it as file in \".csv\" format. \n",
    "\n",
    "3 - Stand up and start walking while holding your phone tight in your hand. If you start walking, your arms will move forth and backward similar to a pendulum. Interestingly, when you step your left foot forward, your right arm will be on forward, too. Next, your right foot will move with your left arm. The movement of your arms will eventually create a pendulum motion and also lateral translation. Do walk more then 2 minutes and count your steps. \n",
    "\n",
    "![](./Figures/inclass_II.png)\n",
    "\n",
    "4 - Transfer the movement record data to your PC. Analyse the data and plot time series figure. Creeate your own step counting module. Conclude your assignment by comparing the steps you counted with the results from your data analysis.\n",
    "\n",
    "Hints:\n",
    "\n",
    "a. Remember the theoritical information from CE105 course.\n",
    "\n",
    "b. You may want to read the reference paper below to get help in detail :\n",
    "\n",
    "https://www.researchgate.net/publication/313164057_Step_Counting_Using_Smartphone_Accelerometer_and_Fast_Fourier_Trransform\n"
   ]
  },
  {
   "cell_type": "markdown",
   "metadata": {},
   "source": [
    "---"
   ]
  }
 ],
 "metadata": {
  "kernelspec": {
   "display_name": "Python 3",
   "language": "python",
   "name": "python3"
  },
  "language_info": {
   "codemirror_mode": {
    "name": "ipython",
    "version": 3
   },
   "file_extension": ".py",
   "mimetype": "text/x-python",
   "name": "python",
   "nbconvert_exporter": "python",
   "pygments_lexer": "ipython3",
   "version": "3.8.7"
  }
 },
 "nbformat": 4,
 "nbformat_minor": 4
}
