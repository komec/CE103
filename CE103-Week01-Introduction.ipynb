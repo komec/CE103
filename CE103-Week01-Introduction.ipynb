{
 "cells": [
  {
   "cell_type": "markdown",
   "metadata": {},
   "source": [
    "### CE 103- INTRODUCTION TO COMPUTERS and PROGRAMMING"
   ]
  },
  {
   "cell_type": "markdown",
   "metadata": {},
   "source": [
    "### _The topics of the week !_\n",
    "\n",
    "- Programming Algorithm\n",
    "- Launching Python, Variable, List\n",
    "- Interactive Python as a Calculator\n",
    "- Homework #1 assignment"
   ]
  },
  {
   "cell_type": "markdown",
   "metadata": {},
   "source": [
    "---\n",
    "## Programming Algorithm\n",
    "\n",
    "Algorithms tell the programmers how to code the program. It is important editting to a strong algorithm than coding a program. Flowchart represents a diagram that graphically depicts the steps in a program.​An algorithm steps basically be like as below.\n",
    "\n",
    "![](../Figures/algorithm.png) \n",
    "\n",
    "Figure 1 : Flowchart diagram of basic programming seps. Ovals are terminal symbols, Parallelograms are input and output symbols, Rectangles are processing symbols, Symbols are connected by arrows that represent the flow of the program, Statements in a program execute in the order that they appear\n",
    "\n",
    "\n",
    "### Typical steps of programming:\n",
    "\n",
    ">Design the program​\n",
    "\n",
    ">>Write the code​\n",
    "\n",
    ">>>Correct syntax errors​\n",
    "\n",
    ">>>>Test the program​\n",
    "\n",
    ">>>>>Correct logic errors​"
   ]
  },
  {
   "cell_type": "markdown",
   "metadata": {},
   "source": [
    "---\n",
    "## Introduction to Python\n",
    "\n",
    "Python is a open source general-purpose programming language. It is available across many platforms including Windows, Linux and Mac OS.\n",
    "\n",
    "The history of the Python programming language dates back to the late 1980s and its implementation was started in December 1989 by Guido van Rossum. \n",
    "\n",
    "The version of Python (i.e., Python 1.0) was introduced in 1991 and its eveluation has reached up to Version 3.x (till 2019).\n",
    "\n",
    "\n",
    "<p align=\"center\">  <img src=\"../Figures/guido.png\" width = 20% > </p>\n",
    "\n",
    "Figure 2 : Photograph of Guido van Rossum—Creator. (Image courtesy of Wikipedia.org).\n",
    "\n",
    "https://www.linkedin.com/in/guido-van-rossum-4a0756/\n",
    "\n",
    "<p align=\"center\">  <img src=\"../Figures/rossum.png\" width = 80% > </p>\n"
   ]
  },
  {
   "cell_type": "markdown",
   "metadata": {},
   "source": [
    "---\n",
    "### Scientific Tools of Python\n",
    "\n",
    "The Python ecosystem consists of these core scientific tools which are essential for analysing and simulating complex systems, these packages are SciPy library,SciPy, NumPy, Sympy and Matplotlib. **SciPy** library is mainly used for numerical integration and optimization. **NumPy** provides N-dimensional array objects which can be used to perform linear algebra, Fourier transform and other mathematical operations. **SymPy** library is used to generate symbolic mathematics. **Matplotlib** is the oldest and most popular plotting library available for Python. These tools are usefull for solving scientific problems.\n"
   ]
  },
  {
   "cell_type": "markdown",
   "metadata": {},
   "source": [
    "---\n",
    "## Launching Python \n",
    "\n"
   ]
  },
  {
   "cell_type": "markdown",
   "metadata": {},
   "source": [
    "There are several interfaces that allows us to use Python interactively. \n",
    "\n",
    "\n",
    "1. Anaconda Navigator - SPYDER\n",
    "    (www.anaconda.com -> “Products” -> “Individual Edition” -> \"Downloads\") select your OS.\n",
    "    \n",
    "<p align=\"center\">  <img src=\"../Figures/anaconda.png\" width = 50% > </p>\n",
    "\n",
    "2. IPython (Terminal)\n",
    "\n",
    "\n",
    "3. Jupyter Lab or Jupyter Notebook (https://jupyter.org/)\n",
    "\n",
    "<p align=\"center\">  <img src=\"../Figures/jupyter.png\" width = 50% > </p>\n",
    "\n",
    "4. Google COLAB (https://colab.research.google.com/?utm_source=scs-index)\n",
    "\n",
    "<p align=\"center\">  <img src=\"../Figures/colab.png\" width = 50% > </p>\n",
    "\n"
   ]
  },
  {
   "cell_type": "markdown",
   "metadata": {},
   "source": [
    "---\n",
    "## Installing and Using Jupyter Notebook\n",
    "Jupyter Notebook is an open source web application that uses a browserbased interface and it is one of the many possible ways to interact with Python and the scientific libraries. \n",
    "\n",
    "You can :\n",
    "\n",
    "• create and share documents,\n",
    "\n",
    "• write and execute Python code,\n",
    "\n",
    "• include tables, figures, equation, visualizations, etc. with Jupyter which is fast processor in the scientific computing algorithms."
   ]
  },
  {
   "cell_type": "markdown",
   "metadata": {},
   "source": [
    "---"
   ]
  },
  {
   "cell_type": "markdown",
   "metadata": {},
   "source": [
    "### Crash entry to programming world of PYTHON\n",
    "\n",
    "\n",
    "Basic reference tools for Python and Notebook\n",
    "\n",
    "If you prefer to use your local Python, type the coomand below in to your _terminal window_ to run your python code.\n",
    "\n",
    "$ **<font color=green>python<font>** **<font color=red>example.py<font>**\n",
    "\n",
    ",or, \n",
    "\n",
    "if you are using notebook interface,\n",
    "\n",
    "_**<font color=orange>Shift + Enter</font>**_ --> execute cell and jump to the next one\n",
    "\n",
    "_**<font color=orange>Ctrl/Cmd + Enter</font>**_ --> execute cell and don't jump to the next cell\n",
    "\n",
    "To write outputs in to the screen or plot figures;\n",
    "\n",
    "**<font color=green>print**</font>(**<font color=red>\"Hello\"</font>**)"
   ]
  },
  {
   "cell_type": "markdown",
   "metadata": {},
   "source": [
    "---\n",
    "## Python Programming Fundamentals\n",
    "\n",
    "Lets discuss the fundamentals of Python Programming language that we need to know to start writing basic Python codes. These are identifiers, keywords, variables and operators.\n",
    "\n",
    "### Identifiers\n",
    "An identifier is a name given to a variable, function, class or module. Here are the rules that we should know to set an identifier.\n",
    "\n",
    "• Can begin with an alphabet (A – Z and a – z and _) and be a combination of lowercase or uppercase or digits.\n",
    "\n",
    "• Do not start with a digit but can used in anywhere else such as legend1 can allow but 1legend is invalid.\n",
    "\n",
    "• Keywords cannot be used as identifiers.\n",
    "\n",
    "• Do not use spaces and special symbols like !, @, #, $, % etc. as identifiers.\n",
    "\n",
    "• Identifier can be of any length.\n",
    "\n",
    "### Keywords\n",
    "\n",
    "Keywords are a list of reserved words that have predefined meaning. They are special vocabulary and  should not be use as an identifier name which will cause an error. (__del, and, def, False, break__ etc.)\n",
    "\n",
    "![](../Figures/keywords.png)\n",
    "\n",
    "### Variables\n",
    "\n",
    "Variable is a placeholder to hold any type of data.\n",
    "\n",
    "• Can consist of any number of letters, underscores and digits.\n",
    "\n",
    "• Should not start with a number.\n",
    "\n",
    "• Keywords are not assigned as variables\n",
    "\n",
    "• They are case-sensitive.\n",
    "\n",
    "***variable_name = expression***\n"
   ]
  },
  {
   "cell_type": "code",
   "execution_count": 11,
   "metadata": {},
   "outputs": [
    {
     "data": {
      "text/plain": [
       "(3, 'D100', 'Python', 'hundred')"
      ]
     },
     "execution_count": 11,
     "metadata": {},
     "output_type": "execute_result"
    }
   ],
   "source": [
    "# set a variable name\n",
    "number = 3\n",
    "road = \"D100\"\n",
    "name = 'Python'\n",
    "century = \"hundred\"\n",
    "\n",
    "# print them on to the screen\n",
    "number, road, name, century"
   ]
  },
  {
   "cell_type": "code",
   "execution_count": 13,
   "metadata": {},
   "outputs": [
    {
     "name": "stdout",
     "output_type": "stream",
     "text": [
      "3\n"
     ]
    }
   ],
   "source": [
    "print(number)"
   ]
  },
  {
   "cell_type": "code",
   "execution_count": 15,
   "metadata": {},
   "outputs": [
    {
     "data": {
      "text/plain": [
       "('hundred', 'D100')"
      ]
     },
     "execution_count": 15,
     "metadata": {},
     "output_type": "execute_result"
    }
   ],
   "source": [
    "century, road"
   ]
  },
  {
   "cell_type": "code",
   "execution_count": null,
   "metadata": {},
   "outputs": [],
   "source": []
  },
  {
   "cell_type": "code",
   "execution_count": 17,
   "metadata": {},
   "outputs": [
    {
     "data": {
      "text/plain": [
       "5"
      ]
     },
     "execution_count": 17,
     "metadata": {},
     "output_type": "execute_result"
    }
   ],
   "source": [
    "__d = 5\n",
    "__d"
   ]
  },
  {
   "cell_type": "markdown",
   "metadata": {},
   "source": [
    "You can assign a single value to several variables simultaneously."
   ]
  },
  {
   "cell_type": "code",
   "execution_count": 2,
   "metadata": {},
   "outputs": [
    {
     "data": {
      "text/plain": [
       "(4, 4, 4)"
      ]
     },
     "execution_count": 2,
     "metadata": {},
     "output_type": "execute_result"
    }
   ],
   "source": [
    "a = b = c = 4\n",
    "a, b, c"
   ]
  },
  {
   "cell_type": "markdown",
   "metadata": {},
   "source": [
    "---\n",
    "### Operators\n",
    "\n",
    "Operators are symbols, such as +, –, =, >, and <. Python allows you to perform mathematical or logical operations to manipulate data values and produce a result based on some rules.\n",
    "\n",
    "Python language supports a wide range of operators. \n",
    "\n",
    "\n",
    "#### 1. Arithmetic Operators\n",
    "\n",
    "\n",
    "Arithmetic operators are used to execute arithmetic operations such as addition, subtraction, division, multiplication etc.\n",
    "\n",
    "![](Figures/arithmetic-operators.png) "
   ]
  },
  {
   "cell_type": "code",
   "execution_count": 18,
   "metadata": {},
   "outputs": [
    {
     "data": {
      "text/plain": [
       "9"
      ]
     },
     "execution_count": 18,
     "metadata": {},
     "output_type": "execute_result"
    }
   ],
   "source": [
    " 4 + 5"
   ]
  },
  {
   "cell_type": "code",
   "execution_count": 10,
   "metadata": {},
   "outputs": [
    {
     "data": {
      "text/plain": [
       "20.5"
      ]
     },
     "execution_count": 10,
     "metadata": {},
     "output_type": "execute_result"
    }
   ],
   "source": [
    "3 + 5 * 7 / 2"
   ]
  },
  {
   "cell_type": "code",
   "execution_count": 19,
   "metadata": {},
   "outputs": [
    {
     "data": {
      "text/plain": [
       "100"
      ]
     },
     "execution_count": 19,
     "metadata": {},
     "output_type": "execute_result"
    }
   ],
   "source": [
    "10 ** 2"
   ]
  },
  {
   "cell_type": "code",
   "execution_count": 6,
   "metadata": {},
   "outputs": [
    {
     "data": {
      "text/plain": [
       "3.3333333333333335"
      ]
     },
     "execution_count": 6,
     "metadata": {},
     "output_type": "execute_result"
    }
   ],
   "source": [
    "10 / 3"
   ]
  },
  {
   "cell_type": "code",
   "execution_count": 7,
   "metadata": {},
   "outputs": [
    {
     "data": {
      "text/plain": [
       "3"
      ]
     },
     "execution_count": 7,
     "metadata": {},
     "output_type": "execute_result"
    }
   ],
   "source": [
    "10 // 3"
   ]
  },
  {
   "cell_type": "code",
   "execution_count": 8,
   "metadata": {},
   "outputs": [
    {
     "data": {
      "text/plain": [
       "1"
      ]
     },
     "execution_count": 8,
     "metadata": {},
     "output_type": "execute_result"
    }
   ],
   "source": [
    "10 % 3"
   ]
  },
  {
   "cell_type": "code",
   "execution_count": 20,
   "metadata": {},
   "outputs": [
    {
     "data": {
      "text/plain": [
       "(16, 9.0, 1.0)"
      ]
     },
     "execution_count": 20,
     "metadata": {},
     "output_type": "execute_result"
    }
   ],
   "source": [
    "# find answer of the equations below\n",
    "\n",
    "a = 4\n",
    "b = 2\n",
    "c = 3\n",
    "\n",
    "apple = a ** b\n",
    "orange = a / b * c + 3\n",
    "d = apple // orange\n",
    "\n",
    "apple, orange, d"
   ]
  },
  {
   "cell_type": "code",
   "execution_count": 6,
   "metadata": {},
   "outputs": [
    {
     "data": {
      "text/plain": [
       "5.399999999999994"
      ]
     },
     "execution_count": 6,
     "metadata": {},
     "output_type": "execute_result"
    }
   ],
   "source": [
    "# find the remainder of the \"apple/orange\"\n",
    "\n",
    "apple%orange"
   ]
  },
  {
   "cell_type": "markdown",
   "metadata": {},
   "source": [
    "#### 2. Assignment Operators\n",
    "\n",
    "Assignment operators are used for assigning the values to a variable.\n",
    "\n"
   ]
  },
  {
   "cell_type": "code",
   "execution_count": 7,
   "metadata": {},
   "outputs": [
    {
     "data": {
      "text/plain": [
       "13"
      ]
     },
     "execution_count": 7,
     "metadata": {},
     "output_type": "execute_result"
    }
   ],
   "source": [
    "x = 5\n",
    "y = 8\n",
    "x + y"
   ]
  },
  {
   "cell_type": "markdown",
   "metadata": {},
   "source": [
    "---\n",
    "![](../Figures/assignmentoparetor.png)"
   ]
  },
  {
   "cell_type": "code",
   "execution_count": 22,
   "metadata": {},
   "outputs": [
    {
     "data": {
      "text/plain": [
       "8"
      ]
     },
     "execution_count": 22,
     "metadata": {},
     "output_type": "execute_result"
    }
   ],
   "source": [
    "# run the operator below and recognize how x changed in each run\n",
    "\n",
    "x = 4\n",
    "x += 4\n",
    "x\n"
   ]
  },
  {
   "cell_type": "markdown",
   "metadata": {},
   "source": [
    "#### 3. Comparison Operators\n",
    "\n",
    "They are used to compare the values of two operands and output is always a Boolean value, either True or False\n",
    "\n",
    "![](Figures/comparisonoperator.png)"
   ]
  },
  {
   "cell_type": "code",
   "execution_count": 23,
   "metadata": {},
   "outputs": [
    {
     "data": {
      "text/plain": [
       "True"
      ]
     },
     "execution_count": 23,
     "metadata": {},
     "output_type": "execute_result"
    }
   ],
   "source": [
    "5 == 5"
   ]
  },
  {
   "cell_type": "code",
   "execution_count": 24,
   "metadata": {},
   "outputs": [
    {
     "data": {
      "text/plain": [
       "True"
      ]
     },
     "execution_count": 24,
     "metadata": {},
     "output_type": "execute_result"
    }
   ],
   "source": [
    "5 <= 7"
   ]
  },
  {
   "cell_type": "markdown",
   "metadata": {},
   "source": [
    "---\n",
    "## Data Types\n",
    "\n",
    "Definition of the data type classifies and categorize data items. Its a way to understand which kind of value determines what operatoins can be performed. Different types of variable can do different things.\n",
    "\n",
    "        - int    (integers) (ex: 5,98,28829382983) \n",
    "        - float  (real numbers) (ex: 3.7)\n",
    "        - bool   (boolean values) (True or False)\n",
    "        - NoneType (special) (None; has one value)\n",
    "\n",
    "You can check the type of your ariable by clling \"type\" command. Python allows you to convert your data from one type to another. "
   ]
  },
  {
   "cell_type": "code",
   "execution_count": 26,
   "metadata": {},
   "outputs": [
    {
     "data": {
      "text/plain": [
       "float"
      ]
     },
     "execution_count": 26,
     "metadata": {},
     "output_type": "execute_result"
    }
   ],
   "source": [
    "type(6.6)"
   ]
  },
  {
   "cell_type": "code",
   "execution_count": 27,
   "metadata": {},
   "outputs": [
    {
     "data": {
      "text/plain": [
       "str"
      ]
     },
     "execution_count": 27,
     "metadata": {},
     "output_type": "execute_result"
    }
   ],
   "source": [
    "type('hello')"
   ]
  },
  {
   "cell_type": "code",
   "execution_count": 29,
   "metadata": {},
   "outputs": [
    {
     "data": {
      "text/plain": [
       "5"
      ]
     },
     "execution_count": 29,
     "metadata": {},
     "output_type": "execute_result"
    }
   ],
   "source": [
    "# type conversion\n",
    "int(5.98374)"
   ]
  },
  {
   "cell_type": "code",
   "execution_count": 14,
   "metadata": {},
   "outputs": [
    {
     "data": {
      "text/plain": [
       "3"
      ]
     },
     "execution_count": 14,
     "metadata": {},
     "output_type": "execute_result"
    }
   ],
   "source": [
    "# type conversion\n",
    "int(3.1)"
   ]
  },
  {
   "cell_type": "markdown",
   "metadata": {},
   "source": [
    "Lets go in detail with the basic data types below;\n",
    "\n",
    "### 1. Numbers\n",
    "\n",
    "Integers, floating point numbers and complex numbers are defined as int, float and complex class in Python. \n",
    "\n",
    "### 2. Boolean\n",
    "\n",
    "They are essential to set conditional statements which could be either True or False (treated as reserved words).\n",
    "\n",
    "### 3. String\n",
    "\n",
    "A string may consists letters, numbers, and other types of characters with spaces.\n",
    "\n",
    "You can check the type of your ariable by clling \"type\" command."
   ]
  },
  {
   "cell_type": "code",
   "execution_count": 33,
   "metadata": {},
   "outputs": [
    {
     "name": "stdout",
     "output_type": "stream",
     "text": [
      "<class 'list'>\n",
      "<class 'bool'>\n"
     ]
    }
   ],
   "source": [
    "x = [3.14]\n",
    "y = False\n",
    "\n",
    "print(type(x))\n",
    "print(type(y))"
   ]
  },
  {
   "cell_type": "markdown",
   "metadata": {},
   "source": [
    "---\n",
    "### 1. Types of numbers\n",
    "\n",
    "There ara basically three different types of numbers that we can use in Python.\n",
    "\n",
    "#### 1.1. Integers\n",
    "They can be positive or negative numbers which are written without decimals."
   ]
  },
  {
   "cell_type": "code",
   "execution_count": 34,
   "metadata": {},
   "outputs": [
    {
     "data": {
      "text/plain": [
       "-5.25"
      ]
     },
     "execution_count": 34,
     "metadata": {},
     "output_type": "execute_result"
    }
   ],
   "source": [
    "(5 + 2) * 3 / (-4)"
   ]
  },
  {
   "cell_type": "code",
   "execution_count": 17,
   "metadata": {},
   "outputs": [
    {
     "data": {
      "text/plain": [
       "6"
      ]
     },
     "execution_count": 17,
     "metadata": {},
     "output_type": "execute_result"
    }
   ],
   "source": [
    "13 // 2"
   ]
  },
  {
   "cell_type": "code",
   "execution_count": 18,
   "metadata": {},
   "outputs": [
    {
     "data": {
      "text/plain": [
       "12830791.72442304"
      ]
     },
     "execution_count": 18,
     "metadata": {},
     "output_type": "execute_result"
    }
   ],
   "source": [
    "3828374649983 / 298374"
   ]
  },
  {
   "cell_type": "markdown",
   "metadata": {},
   "source": [
    "#### 1.2. Floats\n",
    "\n",
    "They are rational numbers with fractional parts."
   ]
  },
  {
   "cell_type": "code",
   "execution_count": 19,
   "metadata": {},
   "outputs": [
    {
     "data": {
      "text/plain": [
       "32.0"
      ]
     },
     "execution_count": 19,
     "metadata": {},
     "output_type": "execute_result"
    }
   ],
   "source": [
    "8.0 * 4"
   ]
  },
  {
   "cell_type": "code",
   "execution_count": 20,
   "metadata": {},
   "outputs": [
    {
     "data": {
      "text/plain": [
       "6.333333333333333"
      ]
     },
     "execution_count": 20,
     "metadata": {},
     "output_type": "execute_result"
    }
   ],
   "source": [
    "19. / 3"
   ]
  },
  {
   "cell_type": "code",
   "execution_count": 21,
   "metadata": {},
   "outputs": [
    {
     "data": {
      "text/plain": [
       "6.0"
      ]
     },
     "execution_count": 21,
     "metadata": {},
     "output_type": "execute_result"
    }
   ],
   "source": [
    "13. // 2"
   ]
  },
  {
   "cell_type": "code",
   "execution_count": 22,
   "metadata": {},
   "outputs": [
    {
     "data": {
      "text/plain": [
       "2.0"
      ]
     },
     "execution_count": 22,
     "metadata": {},
     "output_type": "execute_result"
    }
   ],
   "source": [
    "11. % 3"
   ]
  },
  {
   "cell_type": "code",
   "execution_count": 23,
   "metadata": {},
   "outputs": [
    {
     "data": {
      "text/plain": [
       "8.835600000000001e+34"
      ]
     },
     "execution_count": 23,
     "metadata": {},
     "output_type": "execute_result"
    }
   ],
   "source": [
    "3.98e32 * 222"
   ]
  },
  {
   "cell_type": "markdown",
   "metadata": {},
   "source": [
    "#### 1.3. Complex Numbers\n",
    "\n",
    "Numbers with sum of real and imaginery parts. Use j instead of i which equals square root of -1. \n"
   ]
  },
  {
   "cell_type": "code",
   "execution_count": 24,
   "metadata": {},
   "outputs": [
    {
     "data": {
      "text/plain": [
       "(16+2j)"
      ]
     },
     "execution_count": 24,
     "metadata": {},
     "output_type": "execute_result"
    }
   ],
   "source": [
    "(3 + 2j) * (4 - 2j)"
   ]
  },
  {
   "cell_type": "markdown",
   "metadata": {},
   "source": []
  }
 ],
 "metadata": {
  "kernelspec": {
   "display_name": "Python 3",
   "language": "python",
   "name": "python3"
  },
  "language_info": {
   "codemirror_mode": {
    "name": "ipython",
    "version": 3
   },
   "file_extension": ".py",
   "mimetype": "text/x-python",
   "name": "python",
   "nbconvert_exporter": "python",
   "pygments_lexer": "ipython3",
   "version": "3.6.7"
  }
 },
 "nbformat": 4,
 "nbformat_minor": 4
}
