{
 "cells": [
  {
   "cell_type": "markdown",
   "metadata": {},
   "source": [
    "### CE 103- INTRODUCTION TO COMPUTERS and PROGRAMMING"
   ]
  },
  {
   "cell_type": "markdown",
   "metadata": {},
   "source": [
    "### _The topics of the week !_\n",
    "\n",
    "- Programming Algorithm\n",
    "- Launching Python, Variable, List\n",
    "- Interactive Python as a Calculator\n",
    "- Homework #1 assignment"
   ]
  },
  {
   "cell_type": "markdown",
   "metadata": {},
   "source": [
    "---\n",
    "## Programming Algorithm\n",
    "\n",
    "Algorithms tell the programmers how to code the program. It is important editting to a strong algorithm than coding a program. Flowchart represents a diagram that graphically depicts the steps in a program.​An algorithm steps basically be like as below.\n",
    "\n",
    "![](Figures/algorithm.png) \n",
    "\n",
    "Figure 1 : Flowchart diagram of basic programming seps. Ovals are terminal symbols, Parallelograms are input and output symbols, Rectangles are processing symbols, Symbols are connected by arrows that represent the flow of the program, Statements in a program execute in the order that they appear\n",
    "\n",
    "\n",
    "### Typical steps of programming:\n",
    "\n",
    ">Design the program​\n",
    "\n",
    ">>Write the code​\n",
    "\n",
    ">>>Correct syntax errors​\n",
    "\n",
    ">>>>Test the program​\n",
    "\n",
    ">>>>>Correct logic errors​"
   ]
  },
  {
   "cell_type": "markdown",
   "metadata": {},
   "source": [
    "---\n",
    "## Introduction to Python\n",
    "\n",
    "Python is a open source general-purpose programming language. It is available across many platforms including Windows, Linux and Mac OS.\n",
    "\n",
    "The history of the Python programming language dates back to the late 1980s and its implementation was started in December 1989 by Guido van Rossum. \n",
    "\n",
    "The version of Python (i.e., Python 1.0) was introduced in 1991 and its eveluation has reached up to Version 3.x (till 2019).\n",
    "\n",
    "\n",
    "<p align=\"center\">  <img src=\"./Figures/guido.png\" width = 20% > </p>\n",
    "\n",
    "Figure 2 : Photograph of Guido van Rossum—Creator. (Image courtesy of Wikipedia.org)."
   ]
  },
  {
   "cell_type": "markdown",
   "metadata": {},
   "source": [
    "---\n",
    "## Scientific Tools of Python\n",
    "\n",
    "The Python ecosystem consists of these core scientific tools which are essential for analysing and simulating complex systems, these packages are SciPy library,SciPy, NumPy, Sympy and Matplotlib. **SciPy** library is mainly used for numerical integration and optimization. **NumPy** provides N-dimensional array objects which can be used to perform linear algebra, Fourier transform and other mathematical operations. **SymPy** library is used to generate symbolic mathematics. **Matplotlib** is the oldest and most popular plotting library available for Python. These tools are usefull for solving scientific problems.\n"
   ]
  },
  {
   "cell_type": "markdown",
   "metadata": {},
   "source": [
    "---\n",
    "## Launching Python \n",
    "\n"
   ]
  },
  {
   "cell_type": "markdown",
   "metadata": {},
   "source": [
    "There are several interfaces that allows us to use Python interactively. IPython, jupyter notebooks, anaconda spyder are some of them. But in this lecture we will use notebook.azure.com.\n",
    "\n",
    "You do not have to install Python on to your computer, all you need is internet accesss. "
   ]
  },
  {
   "cell_type": "markdown",
   "metadata": {},
   "source": [
    "---\n",
    "## Installing and Using Jupyter Notebook\n",
    "Jupyter Notebook is an open source web application that uses a browserbased interface and it is one of the many possible ways to interact with Python and the scientific libraries. \n",
    "\n",
    "You can :\n",
    "\n",
    "• create and share documents,\n",
    "\n",
    "• write and execute Python code,\n",
    "\n",
    "• include tables, figures, equation, visualizations, etc. with Jupyter which is fast processor in the scientific computing algorithms."
   ]
  },
  {
   "cell_type": "markdown",
   "metadata": {},
   "source": [
    "---"
   ]
  },
  {
   "cell_type": "markdown",
   "metadata": {},
   "source": [
    "### Crash entry to programming world of PYTHON\n",
    "\n",
    "\n",
    "Basic reference tools for Python and Notebook\n",
    "\n",
    "If you prefer to use your local Python, type the coomand below in to your _terminal window_ to run your python code.\n",
    "\n",
    "$ **<font color=green>python<font>** **<font color=red>example.py<font>**\n",
    "\n",
    ",or, \n",
    "\n",
    "if you are using notebook interface,\n",
    "\n",
    "_**<font color=orange>Shift + Enter</font>**_ --> execute cell and jump to the next one\n",
    "\n",
    "_**<font color=orange>Ctrl/Cmd + Enter</font>**_ --> execute cell and don't jump to the next cell\n",
    "\n",
    "To write outputs in to the screen or plot figures;\n",
    "\n",
    "**<font color=green>print**</font>(**<font color=red>\"Hello\"</font>**)"
   ]
  },
  {
   "cell_type": "markdown",
   "metadata": {},
   "source": [
    "---\n",
    "## Python Programming Fundamentals\n",
    "\n",
    "Lets discuss the fundamentals of Python Programming language that we need to know to start writing basic Python codes. These are identifiers, keywords, variables and operators.\n",
    "\n",
    "### Identifiers\n",
    "An identifier is a name given to a variable, function, class or module. Here are the rules that we should know to set an identifier.\n",
    "\n",
    "• Can begin with an alphabet (A – Z and a – z and _) and be a combination of lowercase or uppercase or digits.\n",
    "\n",
    "• Do not start with a digit but can used in anywhere else such as legend1 can allow but 1legend is invalid.\n",
    "\n",
    "• Keywords cannot be used as identifiers.\n",
    "\n",
    "• Do not use spaces and special symbols like !, @, #, $, % etc. as identifiers.\n",
    "\n",
    "• Identifier can be of any length.\n",
    "\n",
    "### Keywords\n",
    "\n",
    "Keywords are a list of reserved words that have predefined meaning. They are special vocabulary and  should not be use as an identifier name which will cause an error.\n",
    "\n",
    "![](Figures/keywords.png)\n",
    "\n",
    "### Variables\n",
    "\n",
    "Variable is a placeholder to hold any type of data.\n",
    "\n",
    "• Can consist of any number of letters, underscores and digits.\n",
    "\n",
    "• Should not start with a number.\n",
    "\n",
    "• Keywords are not assigned as variables\n",
    "\n",
    "• They are case-sensitive.\n",
    "\n",
    "***variable_name = expression***\n"
   ]
  },
  {
   "cell_type": "code",
   "execution_count": null,
   "metadata": {},
   "outputs": [],
   "source": [
    "# set a variable name\n",
    "number = 3\n",
    "road = \"D100\"\n",
    "name = 'Python'\n",
    "century = \"hundred\"\n",
    "\n",
    "# print them on to the screen\n",
    "number, road, name, century"
   ]
  },
  {
   "cell_type": "markdown",
   "metadata": {},
   "source": [
    "You can assign a single value to several variables simultaneously."
   ]
  },
  {
   "cell_type": "code",
   "execution_count": null,
   "metadata": {},
   "outputs": [],
   "source": [
    "a = b = c = 4\n",
    "a, b, c"
   ]
  },
  {
   "cell_type": "markdown",
   "metadata": {},
   "source": [
    "---\n",
    "### Operators\n",
    "\n",
    "Operators are symbols, such as +, –, =, >, and <. Python allows you to perform mathematical or logical operations to manipulate data values. and produce a result based on some rules.\n",
    "\n",
    "Python language supports a wide range of operators. \n",
    "\n",
    "\n",
    "#### 1. Arithmetic Operators\n",
    "\n",
    "\n",
    "Arithmetic operators are used to execute arithmetic operations such as addition, subtraction, division, multiplication etc.\n",
    "\n",
    "![](Figures/arithmetic-operators.png) "
   ]
  },
  {
   "cell_type": "code",
   "execution_count": null,
   "metadata": {},
   "outputs": [],
   "source": [
    " 4 + 5"
   ]
  },
  {
   "cell_type": "code",
   "execution_count": null,
   "metadata": {},
   "outputs": [],
   "source": [
    "a = 3\n",
    "b = 5 \n",
    "c = 7\n",
    "\n",
    "a + b * c"
   ]
  },
  {
   "cell_type": "code",
   "execution_count": null,
   "metadata": {},
   "outputs": [],
   "source": [
    "# find answer of the equations below\n",
    "\n",
    "apple = a ** b\n",
    "orange = a / b * c + 3\n",
    "d = apple // orange\n",
    "\n",
    "apple, orange, d"
   ]
  },
  {
   "cell_type": "code",
   "execution_count": null,
   "metadata": {},
   "outputs": [],
   "source": [
    "# find the remainder of the \"apple/orange\"\n",
    "\n"
   ]
  },
  {
   "cell_type": "markdown",
   "metadata": {},
   "source": [
    "#### 2. Assignment Operators\n",
    "\n",
    "Assignment operators are used for assigning the values to a variable.\n",
    "\n"
   ]
  },
  {
   "cell_type": "code",
   "execution_count": null,
   "metadata": {},
   "outputs": [],
   "source": [
    "x = 5\n",
    "y = 8\n",
    "x + y"
   ]
  },
  {
   "cell_type": "markdown",
   "metadata": {},
   "source": [
    "---\n",
    "![](Figures/assignmentoparetor.png)"
   ]
  },
  {
   "cell_type": "code",
   "execution_count": null,
   "metadata": {},
   "outputs": [],
   "source": [
    "# run the operator below and recognize how x changec in each run\n",
    "x += 1\n",
    "x\n"
   ]
  },
  {
   "cell_type": "markdown",
   "metadata": {},
   "source": [
    "#### 3. Comparison Operators\n",
    "\n",
    "They are used to compare the values of two operands and output is always a Boolean value, either True or False\n",
    "\n",
    "![](Figures/comparisonoperator.png)"
   ]
  },
  {
   "cell_type": "code",
   "execution_count": null,
   "metadata": {},
   "outputs": [],
   "source": [
    "5 == 7"
   ]
  },
  {
   "cell_type": "markdown",
   "metadata": {},
   "source": [
    "---\n",
    "## Data Types\n",
    "\n",
    "Definition of the data type classifies and categorize data items. Its a way to understand which kind of value determines what operatoins can be performed. Different types of variable can do different things.\n",
    "\n",
    "        - int    (integers) (ex: 5,98,28829382983) \n",
    "        - float  (real numbers) (ex: 3.7)\n",
    "        - bool   (boolean values) (True or False)\n",
    "        - NoneType (special) (None; has one value)\n",
    "\n",
    "You can check the type of your ariable by clling \"type\" command. Python allows you to convert your data from one type to another. "
   ]
  },
  {
   "cell_type": "code",
   "execution_count": null,
   "metadata": {},
   "outputs": [],
   "source": [
    "type(3)"
   ]
  },
  {
   "cell_type": "code",
   "execution_count": null,
   "metadata": {},
   "outputs": [],
   "source": [
    "type('hi')"
   ]
  },
  {
   "cell_type": "code",
   "execution_count": null,
   "metadata": {},
   "outputs": [],
   "source": [
    "# type conversion\n",
    "float(5)"
   ]
  },
  {
   "cell_type": "code",
   "execution_count": null,
   "metadata": {},
   "outputs": [],
   "source": [
    "# type conversion\n",
    "int(3.1)"
   ]
  },
  {
   "cell_type": "markdown",
   "metadata": {},
   "source": [
    "Lets go in detail with the basic data types below;\n",
    "\n",
    "### 1. Numbers\n",
    "\n",
    "Integers, floating point numbers and complex numbers are defined as int, float and complex class in Python. \n",
    "\n",
    "### 2. Boolean\n",
    "\n",
    "They are essential to set conditional statements which could be either True or False (treated as reserved words).\n",
    "\n",
    "### 3. String\n",
    "\n",
    "A string may consists letters, numbers, and other types of characters with spaces.\n",
    "\n",
    "You can check the type of your ariable by clling \"type\" command."
   ]
  },
  {
   "cell_type": "code",
   "execution_count": null,
   "metadata": {},
   "outputs": [],
   "source": [
    "x = [3.14]\n",
    "y = False\n",
    "\n",
    "print(type(x))\n",
    "print(type(y))"
   ]
  },
  {
   "cell_type": "markdown",
   "metadata": {},
   "source": [
    "---\n",
    "### 1. Types of numbers\n",
    "\n",
    "There ara basically three different types of numbers that we can use in Python.\n",
    "\n",
    "#### 1.1. Integers\n",
    "They can be positive or negative numbers which are written without decimals."
   ]
  },
  {
   "cell_type": "code",
   "execution_count": null,
   "metadata": {},
   "outputs": [],
   "source": [
    "(5 + 2) * 3 / 4"
   ]
  },
  {
   "cell_type": "code",
   "execution_count": null,
   "metadata": {},
   "outputs": [],
   "source": [
    "13 // 2"
   ]
  },
  {
   "cell_type": "code",
   "execution_count": null,
   "metadata": {},
   "outputs": [],
   "source": [
    "3828374649983 / 298374"
   ]
  },
  {
   "cell_type": "markdown",
   "metadata": {},
   "source": [
    "#### 1.2. Floats\n",
    "\n",
    "They are rational numbers with fractional parts."
   ]
  },
  {
   "cell_type": "code",
   "execution_count": null,
   "metadata": {},
   "outputs": [],
   "source": [
    "8.0 * 4"
   ]
  },
  {
   "cell_type": "code",
   "execution_count": null,
   "metadata": {},
   "outputs": [],
   "source": [
    "19. / 3"
   ]
  },
  {
   "cell_type": "code",
   "execution_count": null,
   "metadata": {},
   "outputs": [],
   "source": [
    "13. // 2"
   ]
  },
  {
   "cell_type": "code",
   "execution_count": null,
   "metadata": {},
   "outputs": [],
   "source": [
    "11. % 3"
   ]
  },
  {
   "cell_type": "code",
   "execution_count": null,
   "metadata": {},
   "outputs": [],
   "source": [
    "3.98e32 * 222"
   ]
  },
  {
   "cell_type": "markdown",
   "metadata": {},
   "source": [
    "#### 1.3. Complex Numbers\n",
    "\n",
    "Numbers with sum of real and imaginery parts. Use j instead of i which equals square root of -1. \n"
   ]
  },
  {
   "cell_type": "code",
   "execution_count": null,
   "metadata": {},
   "outputs": [],
   "source": [
    "(3 + 2j) * (4 - 2j)"
   ]
  },
  {
   "cell_type": "markdown",
   "metadata": {},
   "source": [
    "---\n",
    "## Homework #1\n",
    "\n",
    "Assume that you bought crypto money such as Bitcoin etc. Lets say you have \"your student id\" amount of dolars($) and you spent 50% of it to bought crypto money. You kept rest of it as dolar. Every day you earned %2 from your bitcoin account and lost %0.6 from your dolar account. Please calculate at the end of a mounth how much money you earn as %.\n",
    "\n",
    "Make the calculatins by using python and before doing this, design an algorithm of your code.\n",
    "\n",
    "PS: Do not forget to upload your \"HWX_namesurname.ipynb\" files to http://gtuzem.gtu.edu.tr/"
   ]
  },
  {
   "cell_type": "markdown",
   "metadata": {},
   "source": [
    "---"
   ]
  }
 ],
 "metadata": {
  "kernelspec": {
   "display_name": "Python 3",
   "language": "python",
   "name": "python3"
  },
  "language_info": {
   "codemirror_mode": {
    "name": "ipython",
    "version": 3
   },
   "file_extension": ".py",
   "mimetype": "text/x-python",
   "name": "python",
   "nbconvert_exporter": "python",
   "pygments_lexer": "ipython3",
   "version": "3.8.7"
  }
 },
 "nbformat": 4,
 "nbformat_minor": 4
}
