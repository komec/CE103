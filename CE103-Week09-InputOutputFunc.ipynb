{
 "cells": [
  {
   "cell_type": "markdown",
   "metadata": {},
   "source": [
    "### CE 103- INTRODUCTION TO COMPUTERS and PROGRAMMING"
   ]
  },
  {
   "cell_type": "markdown",
   "metadata": {},
   "source": [
    "### _The topics of the week !_\n",
    "\n",
    "- I/O Functions\n",
    "    - File Input / Output\n",
    "    - Open / Close Files\n",
    "    - _File_ Object Attributes\n",
    "    - Reading and Writing Files\n",
    "    \n",
    "We will learn about file operations such as opening a file, reading from it, writing to it, closing it. "
   ]
  },
  {
   "cell_type": "markdown",
   "metadata": {},
   "source": [
    "---\n",
    "#### Lets start with basic screen output function of **\"print\"** before go in details with file operations."
   ]
  },
  {
   "cell_type": "code",
   "execution_count": 1,
   "metadata": {},
   "outputs": [
    {
     "name": "stdout",
     "output_type": "stream",
     "text": [
      "1 | 2 | 3 | 4 ! "
     ]
    }
   ],
   "source": [
    "print(1, 2, 3, 4, sep=' | ', end=' ! ')\n",
    "#print(1, 2, 3, 4, sep=' \\n ', end=' ! ')"
   ]
  },
  {
   "cell_type": "code",
   "execution_count": 2,
   "metadata": {},
   "outputs": [
    {
     "name": "stdout",
     "output_type": "stream",
     "text": [
      "Success is not a destination, it's a journey\n"
     ]
    }
   ],
   "source": [
    "# Lets start with simplest i/o function\n",
    "print('Success is not a destination, it\\'s a journey')"
   ]
  },
  {
   "cell_type": "code",
   "execution_count": 3,
   "metadata": {},
   "outputs": [
    {
     "name": "stdout",
     "output_type": "stream",
     "text": [
      "Success is not a DESTINATION, it's a JOURNEY\n"
     ]
    }
   ],
   "source": [
    "print('Success is not a {}, it\\'s a {}'.format('DESTINATION','JOURNEY'))"
   ]
  },
  {
   "cell_type": "code",
   "execution_count": 4,
   "metadata": {},
   "outputs": [
    {
     "name": "stdout",
     "output_type": "stream",
     "text": [
      "Success is not a DESTINATION, it's a JOURNEY\n"
     ]
    }
   ],
   "source": [
    "print(f\"Success is not a {'DESTINATION'}, it\\'s a {'JOURNEY'}\")"
   ]
  },
  {
   "cell_type": "code",
   "execution_count": 5,
   "metadata": {},
   "outputs": [
    {
     "name": "stdout",
     "output_type": "stream",
     "text": [
      "S\n",
      "u\n",
      "C\n",
      "c\n",
      "E\n",
      "s\n",
      "S\n"
     ]
    }
   ],
   "source": [
    "for i in 'SuCcEsS':\n",
    "    print(i)"
   ]
  },
  {
   "cell_type": "markdown",
   "metadata": {},
   "source": [
    "#### If you already defined a variable and would like to diplay it with in a string ;"
   ]
  },
  {
   "cell_type": "code",
   "execution_count": 6,
   "metadata": {},
   "outputs": [
    {
     "name": "stdout",
     "output_type": "stream",
     "text": [
      "I spent  24 hours at home today, because of the lockdown.\n"
     ]
    }
   ],
   "source": [
    "hours = 24\n",
    "location = \"home\"\n",
    "print(\"I spent \", hours, \"hours at\", location,\"today, because of the lockdown.\")"
   ]
  },
  {
   "cell_type": "code",
   "execution_count": 7,
   "metadata": {},
   "outputs": [
    {
     "name": "stdout",
     "output_type": "stream",
     "text": [
      "I spent 24 hours at home today, because of the lockdown.\n"
     ]
    }
   ],
   "source": [
    "hours = 24\n",
    "location = \"home\"\n",
    "print(\"I spent %d hours at %s today, because of the lockdown.\"%(hours,location))         # %d stands for a placeholder for numbers while %s is a placeholder for string"
   ]
  },
  {
   "cell_type": "code",
   "execution_count": 8,
   "metadata": {},
   "outputs": [
    {
     "name": "stdout",
     "output_type": "stream",
     "text": [
      "I spent 24 hours at home today, because of the lockdown.\n"
     ]
    }
   ],
   "source": [
    "hours = 24\n",
    "location = \"home\"\n",
    "print(\"I spent {0} hours at {1} today, because of the lockdown.\".format(hours,location))"
   ]
  },
  {
   "cell_type": "markdown",
   "metadata": {},
   "source": [
    "#### Read a line of text from standard **_input_** comes from the keyboard\n"
   ]
  },
  {
   "cell_type": "code",
   "execution_count": 9,
   "metadata": {},
   "outputs": [
    {
     "name": "stdin",
     "output_type": "stream",
     "text": [
      " Hello\n"
     ]
    },
    {
     "data": {
      "text/plain": [
       "'Hello'"
      ]
     },
     "execution_count": 9,
     "metadata": {},
     "output_type": "execute_result"
    }
   ],
   "source": [
    "input()     # ask a user for some text input from keyboard"
   ]
  },
  {
   "cell_type": "code",
   "execution_count": 10,
   "metadata": {},
   "outputs": [
    {
     "name": "stdin",
     "output_type": "stream",
     "text": [
      "Write your guess as \"Heads\" or \"Tails\" Heads\n"
     ]
    },
    {
     "name": "stdout",
     "output_type": "stream",
     "text": [
      "Your guess is Heads\n"
     ]
    }
   ],
   "source": [
    "str = input(\"Write your guess as \\\"Heads\\\" or \\\"Tails\\\"\")\n",
    "print(\"Your guess is\", str)"
   ]
  },
  {
   "cell_type": "markdown",
   "metadata": {},
   "source": [
    "### The Conversion Component\n",
    "\n",
    "As default, .format() method uses string which may be challenged by using **\" coversion \"** component."
   ]
  },
  {
   "cell_type": "code",
   "execution_count": 11,
   "metadata": {},
   "outputs": [
    {
     "data": {
      "text/plain": [
       "'123'"
      ]
     },
     "execution_count": 11,
     "metadata": {},
     "output_type": "execute_result"
    }
   ],
   "source": [
    "#'%d' % 11         # defines digit \n",
    "'{:d}'.format(123) "
   ]
  },
  {
   "cell_type": "code",
   "execution_count": 12,
   "metadata": {},
   "outputs": [
    {
     "data": {
      "text/plain": [
       "'123.000000'"
      ]
     },
     "execution_count": 12,
     "metadata": {},
     "output_type": "execute_result"
    }
   ],
   "source": [
    "# '{:f}'.format(123)    # defines float \n",
    "'%f' % 123         "
   ]
  },
  {
   "cell_type": "code",
   "execution_count": 13,
   "metadata": {},
   "outputs": [
    {
     "data": {
      "text/plain": [
       "'hello'"
      ]
     },
     "execution_count": 13,
     "metadata": {},
     "output_type": "execute_result"
    }
   ],
   "source": [
    "# '{:s}'.format('string')     # defines string \n",
    "'%s' % 'hello'   "
   ]
  },
  {
   "cell_type": "code",
   "execution_count": 14,
   "metadata": {},
   "outputs": [
    {
     "data": {
      "text/plain": [
       "'1111011'"
      ]
     },
     "execution_count": 14,
     "metadata": {},
     "output_type": "execute_result"
    }
   ],
   "source": [
    "'{:b}'.format(123)  # binary integer conversion"
   ]
  },
  {
   "cell_type": "code",
   "execution_count": 15,
   "metadata": {},
   "outputs": [
    {
     "data": {
      "text/plain": [
       "'&'"
      ]
     },
     "execution_count": 15,
     "metadata": {},
     "output_type": "execute_result"
    }
   ],
   "source": [
    "'%c' % 38    # refers specific character"
   ]
  },
  {
   "cell_type": "code",
   "execution_count": 16,
   "metadata": {},
   "outputs": [
    {
     "data": {
      "text/plain": [
       "'3.27692e+07'"
      ]
     },
     "execution_count": 16,
     "metadata": {},
     "output_type": "execute_result"
    }
   ],
   "source": [
    "'{:g}'.format(229384374/7)  # g conversion chooses floating point or exponential as output "
   ]
  },
  {
   "cell_type": "code",
   "execution_count": 17,
   "metadata": {},
   "outputs": [
    {
     "data": {
      "text/plain": [
       "'-1.23457e+08'"
      ]
     },
     "execution_count": 17,
     "metadata": {},
     "output_type": "execute_result"
    }
   ],
   "source": [
    "'{:g}'.format(-123456789.8765)"
   ]
  },
  {
   "cell_type": "markdown",
   "metadata": {},
   "source": [
    "---\n",
    "# File processing operations\n",
    "\n",
    "File is a storage on the disk at specific location. It stores data for future use. In Python, file has to be opened first in order to write or read it and needs to be closed, when the related process finished.\n",
    "\n",
    "**_\"os\"_** module provides file-processing operations "
   ]
  },
  {
   "cell_type": "code",
   "execution_count": 18,
   "metadata": {},
   "outputs": [],
   "source": [
    "import os"
   ]
  },
  {
   "cell_type": "code",
   "execution_count": 19,
   "metadata": {},
   "outputs": [
    {
     "data": {
      "text/plain": [
       "'/home/komec/LECTURES/01_CE103/2020-2021_Bahar'"
      ]
     },
     "execution_count": 19,
     "metadata": {},
     "output_type": "execute_result"
    }
   ],
   "source": [
    "# lets create an empty file in python\n",
    "open('empty.txt', 'a').close()\n",
    "\n",
    "# rename a file\n",
    "os.rename(\"empty.txt\", \"empty_new.txt\")  # (old_filename, new_filename)\n",
    "os.remove(\"empty_new.txt\")                   # delete a file\n",
    "#os.mkdir(\"Test_Output\")                  # create a new directory\n",
    "os.getcwd()                              # path of current directory\n",
    "#os.chdir(\"/home/komec/LECTURES/01_CE103/2020-2021_Bahar/\")    # change current directory\n",
    "#os.rmdir(\"/home/komec/LECTURES/01_CE103/2020-2021_Bahar/Test_Output\")    # delete directory"
   ]
  },
  {
   "cell_type": "markdown",
   "metadata": {},
   "source": [
    "### _Character Encoding in Python_\n",
    "\n",
    "There are tens of available encodings in Python, while ASCII is one of the basics and simplest one. Default encoding is \"utf-8\"."
   ]
  },
  {
   "cell_type": "markdown",
   "metadata": {},
   "source": [
    "## The **_open()_** function\n",
    "\n",
    "Its a file object and generally used with two arguments as _(filename, mode)_. \n",
    "The \"filename\" argument refers to the filename itself as a string, \"mode\" argument is also a string which contains 'r', 'w', 'a' or 'r+'.\n",
    "    \n",
    "    - r : the file will only be read (default)\n",
    "    - t : opens in text mode (default)\n",
    "    - w : the file opens for only writing (an existing file with the same name will be erased)\n",
    "    - a : opens the file for appending\n",
    "    - + : opens the file for updating (reading and writing)\n",
    "    - b : opens the file in binary mode\n",
    "    \n",
    "To create a new file, use open() method with parameter \"x\" (for a non existing file), \"a\" or \"w\" (creates a file if it is not exist).\n",
    "\n",
    "    - \"a\" will append to the end of the existing file\n",
    "    - \"w\" will overwrite any existing file"
   ]
  },
  {
   "cell_type": "code",
   "execution_count": 20,
   "metadata": {},
   "outputs": [
    {
     "data": {
      "text/plain": [
       "<function TextIOWrapper.close()>"
      ]
     },
     "execution_count": 20,
     "metadata": {},
     "output_type": "execute_result"
    }
   ],
   "source": [
    "f = open('filename', 'w', encoding = 'utf-8')   # opens the file only for writing\n",
    "f.close                                         # necessery to free-up system resources"
   ]
  },
  {
   "cell_type": "code",
   "execution_count": 21,
   "metadata": {},
   "outputs": [
    {
     "data": {
      "text/plain": [
       "'w'"
      ]
     },
     "execution_count": 21,
     "metadata": {},
     "output_type": "execute_result"
    }
   ],
   "source": [
    "f.mode      # get the mode of file as write, read, append etc."
   ]
  },
  {
   "cell_type": "code",
   "execution_count": 22,
   "metadata": {},
   "outputs": [
    {
     "data": {
      "text/plain": [
       "'filename'"
      ]
     },
     "execution_count": 22,
     "metadata": {},
     "output_type": "execute_result"
    }
   ],
   "source": [
    "f.name      # print the file name"
   ]
  },
  {
   "cell_type": "code",
   "execution_count": 23,
   "metadata": {},
   "outputs": [
    {
     "data": {
      "text/plain": [
       "0"
      ]
     },
     "execution_count": 23,
     "metadata": {},
     "output_type": "execute_result"
    }
   ],
   "source": [
    "f.seek(0)     # bring file cursor to initial position"
   ]
  },
  {
   "cell_type": "code",
   "execution_count": 24,
   "metadata": {},
   "outputs": [
    {
     "name": "stdout",
     "output_type": "stream",
     "text": [
      "Name of the file is filename\n"
     ]
    }
   ],
   "source": [
    "f = open('filename', 'r')\n",
    "output = f.read()\n",
    "print(\"Name of the file is\", f.name)"
   ]
  },
  {
   "cell_type": "code",
   "execution_count": 25,
   "metadata": {},
   "outputs": [],
   "source": [
    "# if a file object is closed, file object will fail automatically\n",
    "# f.read()   # will occur error message as below"
   ]
  },
  {
   "cell_type": "markdown",
   "metadata": {},
   "source": [
    "#### _What happens if file is not **closed**?_\n",
    "- In any programming language, its important to close opened files, because as long as it opened for writing, the file will locked for writing. So you cannot access it outside of your programme.\n",
    "- Any opened file will be a placeholder in your PCs memory\n",
    "- Too many open files can slow down your program and will impact performance of your PCs RAM.\n",
    "- Python automatically closes files most of the time, but its a good idea only have to call close() when you're writing to a file, so you can be sure that its closed\n",
    "- \"with\" command can be used to open file to read, so it closes the file automatically"
   ]
  },
  {
   "cell_type": "code",
   "execution_count": 26,
   "metadata": {},
   "outputs": [
    {
     "data": {
      "text/plain": [
       "<function TextIOWrapper.close()>"
      ]
     },
     "execution_count": 26,
     "metadata": {},
     "output_type": "execute_result"
    }
   ],
   "source": [
    "with open('filename') as f:\n",
    "    inp_data = f.read()\n",
    "f.close       # not necessery to run close() "
   ]
  },
  {
   "cell_type": "markdown",
   "metadata": {},
   "source": [
    "### _Using_ **_read()_** _method to read the content of a file_\n",
    "\n",
    "\n",
    "\n"
   ]
  },
  {
   "cell_type": "code",
   "execution_count": 27,
   "metadata": {},
   "outputs": [
    {
     "name": "stdout",
     "output_type": "stream",
     "text": [
      "\n",
      "\n",
      "[]\n"
     ]
    }
   ],
   "source": [
    "f = open(\"filename\", \"r\")\n",
    "\n",
    "#print(f.read())       # reads complete file\n",
    "print(f.read(10))    # reads only first xxx number of characters of the file\n",
    "print(f.readline())   # reads one line of the file\n",
    "print(f.readlines())   # reads all lines in the file, seperate with comma"
   ]
  },
  {
   "cell_type": "code",
   "execution_count": 28,
   "metadata": {},
   "outputs": [],
   "source": [
    "f = open(\"filename\", \"r\")\n",
    "for i in f:\n",
    "    print(i * 2) "
   ]
  },
  {
   "cell_type": "markdown",
   "metadata": {},
   "source": [
    "## The **_write()_** function\n",
    "\n",
    "- f.write() writes string contents to the file and counts the number of characters\n",
    "- use \"\\n\" at the end of the line to continue with next line"
   ]
  },
  {
   "cell_type": "code",
   "execution_count": 29,
   "metadata": {},
   "outputs": [
    {
     "data": {
      "text/plain": [
       "44"
      ]
     },
     "execution_count": 29,
     "metadata": {},
     "output_type": "execute_result"
    }
   ],
   "source": [
    "f = open('filename', 'w')   # lets open the file for read and write\n",
    "\n",
    "f.write('Lets write some words in the FIRST line of a file.\\n')\n",
    "f.write('This could be the SECOND line. Am I right?.\\n') "
   ]
  },
  {
   "cell_type": "code",
   "execution_count": 30,
   "metadata": {},
   "outputs": [
    {
     "name": "stdout",
     "output_type": "stream",
     "text": [
      "Lets write some words in the FIRST line of a file.\n",
      "\n"
     ]
    }
   ],
   "source": [
    "f = open('filename', 'a+')   # lets open the file for append\n",
    "f.write('3rd Line\\n')\n",
    "f.write('4th Line\\n')\n",
    "f.write('5th Line\\n')\n",
    "line = f.readline()\n",
    "\n",
    "print (line)     # did not append anything to the file yet !!"
   ]
  },
  {
   "cell_type": "code",
   "execution_count": 31,
   "metadata": {},
   "outputs": [
    {
     "name": "stdout",
     "output_type": "stream",
     "text": [
      "Lets write some words in the FIRST line of a file.\n",
      "\n",
      "This could be the SECOND line. Am I right?.\n",
      "\n",
      "3rd Line\n",
      "\n",
      "4th Line\n",
      "\n",
      "5th Line\n",
      "\n"
     ]
    }
   ],
   "source": [
    "#lets write a loop to read lines seperatelly\n",
    "f = open('filename', 'r')\n",
    "\n",
    "for line in f:\n",
    "    print(line)\n",
    "    \n",
    "f.close()"
   ]
  },
  {
   "cell_type": "code",
   "execution_count": 32,
   "metadata": {},
   "outputs": [],
   "source": [
    "# It writes a string \"str\" to the file, unless close() method is called, \n",
    "# the string may not show up in the file.\n",
    "\n",
    "filew = open(\"write.txt\", \"w+\")\n",
    "#print (\"File name is\", f.name)\n",
    "\n",
    "line1 = (\"lets write something for line 1.\\n\") \n",
    "line = filew.write(line1)\n",
    "\n",
    "addline = [\"lets write something for line 2.\\n\", \"third line.\\n\", \"4th line.\\n\"] \n",
    "newline = filew.writelines(addline)\n"
   ]
  },
  {
   "cell_type": "code",
   "execution_count": 33,
   "metadata": {},
   "outputs": [
    {
     "name": "stdout",
     "output_type": "stream",
     "text": [
      "lets write something for line 1.\n",
      "lets write something for line 2.\n",
      "third line.\n",
      "4th line.\n",
      "\n"
     ]
    }
   ],
   "source": [
    "filew = open(\"write.txt\", \"r\")\n",
    "print(filew.read()) "
   ]
  },
  {
   "cell_type": "code",
   "execution_count": 34,
   "metadata": {},
   "outputs": [
    {
     "name": "stdout",
     "output_type": "stream",
     "text": [
      "lets write something for line 1.\n",
      "\n",
      "lets write something for line 2.\n",
      "\n",
      "third line.\n",
      "\n",
      "4th line.\n",
      "\n"
     ]
    }
   ],
   "source": [
    "filew = open(\"write.txt\", \"r\")\n",
    "for i in range(4):\n",
    "   newline = filew.readline()\n",
    "   print(newline)\n",
    "\n",
    "filew.close()"
   ]
  },
  {
   "cell_type": "markdown",
   "metadata": {},
   "source": [
    "---\n",
    "## I/O functions for CSV files\n",
    "\n",
    "A CSV (Comma Seperated Value) is a plain text document in a specific format using commas to seperate  values. It is a usefull format for import and export datasheets divided by commas. Python has csv module to read this specific type of file format. "
   ]
  },
  {
   "cell_type": "code",
   "execution_count": 35,
   "metadata": {},
   "outputs": [
    {
     "name": "stdout",
     "output_type": "stream",
     "text": [
      "['Year', '01-Ocak', '02-Şubat', '03-Mart', '04-Nisan', '05-Mayıs', '06-Haziran', '07-Temmuz', '08-Ağustos', '09-Eylül', '10-Ekim', '11-Kasım', '12-Aralık']\n",
      "['2012', '-4.25', '-2.19', '-4.24', '8.31', '1.14', '1.58', '-5.35', '0.02', '-0.18', '-0.98', '-4.06', '-2.51']\n",
      "['2013', '1.24', '2.89', '6.72', '-3.98', '-2.69', '-1.36', '2.59', '0.29', '1.69', '-3.96', '3.59', '-1.79']\n",
      "['2014', '1.67', '-2.32', '-1.75', '-1.42', '-1.13', '0.74', '-0.54', '-0.03', '1.12', '1.13', '2.4', '-3.67']\n",
      "['2015', '1.13', '2.75', '-0.65', '-2.27', '2.51', '-1.86', '-1.67', '1.64', '-1.93', '0.06', '1.01', '2.93']\n",
      "['2016', '-0.91', '-2.58', '7.33', '1.78', '-10.87', '-1.94', '9.08', '-5.38', '5.9', '-5.58', '-3.13', '-4.26']\n",
      "['2017', '-0.99', '2.85', '5.95', '2.36', '6.07', '-0.79', '-2.51', '5.02', '-8.0', '1.77', '-0.04', '-0.2']\n",
      "['2018', '2.07', '0.68', '-4.58', '-3.26', '-5.66', '-5.17', '1.6', '-6.81', '-18.34', '1.73', '-4.14', '-0.04']\n",
      "['2019', '-8.57', '10.04', '7.99', '-8.37', '-3.7', '-3.53', '6.6', '5.11', '7.52', '8.46', '-0.54', '11.17']\n"
     ]
    }
   ],
   "source": [
    "import csv\n",
    "\n",
    "with open('Test_Input/tuik.csv', mode = 'r') as file:   # opens the csv file\n",
    "    f = csv.reader(file, delimiter = '|')               # reads the csv file with default delimiter ','\n",
    "    for line in f:\n",
    "        print(line)                          # displays lines in csv file"
   ]
  },
  {
   "cell_type": "markdown",
   "metadata": {},
   "source": [
    "### Reading a Specific Line from a File"
   ]
  },
  {
   "cell_type": "code",
   "execution_count": 36,
   "metadata": {},
   "outputs": [
    {
     "name": "stdout",
     "output_type": "stream",
     "text": [
      "2012|-4.25|-2.19|-4.24|8.31|1.14|1.58|-5.35|0.02|-0.18|-0.98|-4.06|-2.51\n",
      " written in line number 2\n"
     ]
    }
   ],
   "source": [
    "line_number = 2  # define a specific line number\n",
    "\n",
    "with open(\"Test_Input/tuik.csv\", 'r') as file:\n",
    "    current_line = 1\n",
    "    for line in file:\n",
    "        if current_line == line_number:\n",
    "            print(line, \"written in line number\", line_number)\n",
    "            break\n",
    "        current_line += 1"
   ]
  },
  {
   "cell_type": "code",
   "execution_count": 37,
   "metadata": {},
   "outputs": [
    {
     "name": "stdout",
     "output_type": "stream",
     "text": [
      "Hello from the other side\n",
      "\n"
     ]
    }
   ],
   "source": [
    "# using linecache module and getline() method to select a specific line \n",
    "\n",
    "import linecache\n",
    "\n",
    "line = linecache.getline(\"Test_Input/Hello.txt\", 1) # filename and line number defined\n",
    "print (line)\n"
   ]
  },
  {
   "cell_type": "markdown",
   "metadata": {},
   "source": [
    "---\n",
    "## Merge txt files\n",
    "\n",
    "Python has a module _shutil_ for merging two text files and store in a new one."
   ]
  },
  {
   "cell_type": "code",
   "execution_count": 38,
   "metadata": {},
   "outputs": [
    {
     "name": "stdout",
     "output_type": "stream",
     "text": [
      "\n",
      " MERGED !\n",
      "\n",
      "Hello from the other side\n",
      "I must've called a thousand times\n",
      "lets write something for line 1.\n",
      "lets write something for line 2.\n",
      "third line.\n",
      "4th line.\n",
      "\n"
     ]
    }
   ],
   "source": [
    "import shutil\n",
    "   \n",
    "file_1 = (r'Test_Input/Hello.txt') \n",
    "file_2 = (r'Test_Input/write.txt') \n",
    "    \n",
    "with open('Test_Input/merded.txt', \"w\") as nfile: \n",
    "  \n",
    "    for f in [file_1, file_2]: \n",
    "        with open(f, \"r\") as file: \n",
    "            shutil.copyfileobj(file, nfile) \n",
    "\n",
    "print(\"\\n MERGED !\") \n",
    "print() \n",
    "\n",
    "f = open('Test_Input/merged', 'r')\n",
    "print(f.read()) \n",
    "f.close() "
   ]
  },
  {
   "cell_type": "code",
   "execution_count": 39,
   "metadata": {},
   "outputs": [
    {
     "name": "stdout",
     "output_type": "stream",
     "text": [
      "['Hello from the other side\\n', \"I must've called a thousand times\\n\"]\n",
      "[\"I must've called a thousand times\\n\", 'Hello from the other side\\n']\n"
     ]
    }
   ],
   "source": [
    "with open('Test_Input/Hello.txt', 'r') as reader, open('Test_Input/write.txt', 'w') as writer:\n",
    "    m_file = reader.readlines()\n",
    "    print( m_file )\n",
    "    \n",
    "    new_content = list(reversed(m_file))\n",
    "    print( new_content)"
   ]
  },
  {
   "cell_type": "markdown",
   "metadata": {},
   "source": [
    "---\n",
    "## I/O functions with ZIP files \n",
    "\n",
    "ZIP file is a single file which includes one or more compressed files. ZIP reduces the storage requirements and improves the file transfer speed."
   ]
  },
  {
   "cell_type": "code",
   "execution_count": 40,
   "metadata": {},
   "outputs": [],
   "source": [
    "#import os\n",
    "#os.mkdir('Test_Input/ZipDir')\n",
    "\n",
    "from zipfile import ZipFile                   # the module to study with zip files\n",
    "\n",
    "from shutil import copyfile\n",
    "copyfile('Test_Input/Kusma-GyadiBridge_Nepal.png', 'Test_Input/ZipDir/pic.png' )\n",
    "\n",
    "with ZipFile('Test_Input/ZipDir/pics.zip','w') as z:\n",
    "    z.write('Test_Input/ZipDir/pics.zip')"
   ]
  },
  {
   "cell_type": "code",
   "execution_count": 41,
   "metadata": {},
   "outputs": [
    {
     "data": {
      "text/plain": [
       "['Test_Input/ZipDir/pics.zip']"
      ]
     },
     "execution_count": 41,
     "metadata": {},
     "output_type": "execute_result"
    }
   ],
   "source": [
    "z.namelist()"
   ]
  },
  {
   "cell_type": "code",
   "execution_count": 42,
   "metadata": {},
   "outputs": [
    {
     "name": "stdout",
     "output_type": "stream",
     "text": [
      "File Name                                             Modified             Size\n",
      "Test_Input/ZipDir/pics.zip                     2021-04-26 11:58:46            0\n"
     ]
    }
   ],
   "source": [
    "with ZipFile('Test_Input/ZipDir/pics.zip', 'r') as zipfile:\n",
    "    zipfile.printdir()                                             # print content of the zip file"
   ]
  },
  {
   "cell_type": "markdown",
   "metadata": {},
   "source": [
    "---\n",
    "## I/O functions with Dictionaries"
   ]
  },
  {
   "cell_type": "code",
   "execution_count": 43,
   "metadata": {},
   "outputs": [
    {
     "name": "stdout",
     "output_type": "stream",
     "text": [
      "'A.A.S.H.T.O - American Association of State Highway Transport\\n'\n"
     ]
    }
   ],
   "source": [
    "# Lets convert a text file into a dictionary\n",
    "\n",
    "with open('Test_Input/civil_abb.txt', 'r') as r:\n",
    "    print(repr(r.readline()))"
   ]
  },
  {
   "cell_type": "code",
   "execution_count": 44,
   "metadata": {},
   "outputs": [],
   "source": [
    "f = open('Test_Input/civil_abb.txt', 'r')\n",
    "answer = {}                                 # create an empty dictionary\n",
    "for line in f:\n",
    "    key, val = line.strip().split('-')\n",
    "    answer[key.strip()] = val.strip()\n",
    "\n",
    "f.close()"
   ]
  },
  {
   "cell_type": "code",
   "execution_count": 45,
   "metadata": {},
   "outputs": [],
   "source": [
    "#print(answer)\n",
    "#print(key)\n",
    "#print(val)"
   ]
  },
  {
   "cell_type": "code",
   "execution_count": 46,
   "metadata": {},
   "outputs": [
    {
     "data": {
      "text/plain": [
       "<function dict.values>"
      ]
     },
     "execution_count": 46,
     "metadata": {},
     "output_type": "execute_result"
    }
   ],
   "source": [
    "answer.values   # it is a dictionary"
   ]
  },
  {
   "cell_type": "markdown",
   "metadata": {},
   "source": [
    "#### _A dictionary file can be saved as .csv, .json or .txt_"
   ]
  },
  {
   "cell_type": "code",
   "execution_count": 47,
   "metadata": {},
   "outputs": [],
   "source": [
    "# save as CSV file\n",
    "\n",
    "import csv\n",
    "\n",
    "with open(\"Test_Input/civil_abb.txt\", \"r\") as r:           # read from txt file\n",
    "    reader = csv.reader(r, delimiter=\"-\")\n",
    "    lines = list(reader)"
   ]
  },
  {
   "cell_type": "code",
   "execution_count": 48,
   "metadata": {},
   "outputs": [],
   "source": [
    "with open(\"Test_Input/civil_abb_out.csv\", \"w\") as w:       # write to a csv file with delimeter \",\"\n",
    "    writer = csv.writer(w, delimiter=\",\")\n",
    "    writer.writerows(lines)"
   ]
  },
  {
   "cell_type": "code",
   "execution_count": 49,
   "metadata": {},
   "outputs": [
    {
     "name": "stdout",
     "output_type": "stream",
     "text": [
      "['A.A.S.H.T.O ', ' American Association of State Highway Transport']\n",
      "['A.B ', ' Anchor Bolt Or Asbestos Board']\n",
      "['A.C.I ', ' American concrete institute.']\n",
      "['A.R.E.A ', ' American Railway Engineering Association.']\n",
      "['A.S.C ', ' Allowable stress of concrete.']\n",
      "['A.S.T.M ', ' American Society for Testing Materials']\n",
      "['AC ', ' Asphalt Concrete']\n",
      "['AE ', ' Assistant Engineer']\n",
      "['APM ', ' Assistant Project Manager']\n",
      "['B.M ', ' Benchmark']\n",
      "['B.M ', ' Bending moment.']\n",
      "['B.O.F ', ' Bottom Of Foundation']\n",
      "['BHK ', ' Bedroom, Hall, Kitchen']\n",
      "['BLK ', ' Block Work']\n"
     ]
    }
   ],
   "source": [
    "with open('Test_Input/civil_abb_out.csv', mode = 'r') as file:   # reads the csv file\n",
    "    f = csv.reader(file)                       \n",
    "    for line in f:\n",
    "        print(line) "
   ]
  },
  {
   "cell_type": "markdown",
   "metadata": {},
   "source": [
    "---\n",
    "### [JSON](https://www.json.org/json-en.html) (JavaScript Object Notation) \n",
    "JSON is a popular data interchangable format. It is a script made of text in a programming language. Python has **_json_** package which is similar with dictionary. This package converts Python objects to JSON objects. So it takes two parameters as dictionary and indent. JSON supports strings, numbers, nested lists so on, which may be very complex datasets. Encoding the JSON is called _serialization_."
   ]
  },
  {
   "cell_type": "code",
   "execution_count": 50,
   "metadata": {},
   "outputs": [
    {
     "data": {
      "text/plain": [
       "{'A.A.S.H.T.O': 'American Association of State Highway Transport',\n",
       " 'A.B': 'Anchor Bolt Or Asbestos Board',\n",
       " 'A.C.I': 'American concrete institute.',\n",
       " 'A.R.E.A': 'American Railway Engineering Association.',\n",
       " 'A.S.C': 'Allowable stress of concrete.',\n",
       " 'A.S.T.M': 'American Society for Testing Materials',\n",
       " 'AC': 'Asphalt Concrete',\n",
       " 'AE': 'Assistant Engineer',\n",
       " 'APM': 'Assistant Project Manager',\n",
       " 'B.M': 'Bending moment.',\n",
       " 'B.O.F': 'Bottom Of Foundation',\n",
       " 'BHK': 'Bedroom, Hall, Kitchen',\n",
       " 'BLK': 'Block Work'}"
      ]
     },
     "execution_count": 50,
     "metadata": {},
     "output_type": "execute_result"
    }
   ],
   "source": [
    "# save as JSON file\n",
    "\n",
    "import json\n",
    "\n",
    "json.dump(answer, open( \"Test_Input/civil_abb_out.json\", 'w'))    # Serialize data into file\n",
    "\n",
    "json.load(open(\"Test_Input/civil_abb_out.json\"))     # read from file"
   ]
  },
  {
   "cell_type": "markdown",
   "metadata": {},
   "source": [
    "---\n",
    "### JSON for structural data save\n",
    "\n"
   ]
  },
  {
   "cell_type": "code",
   "execution_count": 51,
   "metadata": {},
   "outputs": [],
   "source": [
    "import json \n",
    "  \n",
    "dictionary ={                                                 # create a dictionary to convert json object\n",
    "    \"LectureCodes\" : [\"GTU_CE103\",\"GTU_CE105\",\"GTU_CE247\"], \n",
    "    \"Avg_StudentPerLecture\" : 75, \n",
    "    \"NumberOfClass\" : 12, \n",
    "    \"Students\" : [{\"Name/Surname\" : 'Braced Frame',\"age\" : 19}, {\"Name/Surname\" : 'Axial Load',\"age\" : 18}]}\n",
    "\n",
    "\n",
    "# json.dump function will return a python dictionary to a string in JSON format\n",
    "\n",
    "json_file = json.dumps(dictionary, indent = 1)                # converted pythton object to json object (Serializing json)\n",
    "with open(\"Test_Input/class.json\", \"w\") as outfile:           # write a sample json file\n",
    "    outfile.write(json_file) "
   ]
  },
  {
   "cell_type": "code",
   "execution_count": 52,
   "metadata": {},
   "outputs": [
    {
     "name": "stdout",
     "output_type": "stream",
     "text": [
      "{'LectureCodes': ['GTU_CE103', 'GTU_CE105', 'GTU_CE247'], 'Avg_StudentPerLecture': 75, 'NumberOfClass': 12, 'Students': [{'Name/Surname': 'Braced Frame', 'age': 19}, {'Name/Surname': 'Axial Load', 'age': 18}]}\n"
     ]
    }
   ],
   "source": [
    "# to read a json object file\n",
    "\n",
    "with open('Test_Input/class.json', 'r') as j_file:      # open json file\n",
    "    json_file = json.load(j_file)                       # reads from jsaon file\n",
    "\n",
    "print(json_file)"
   ]
  },
  {
   "cell_type": "code",
   "execution_count": 53,
   "metadata": {},
   "outputs": [
    {
     "data": {
      "text/plain": [
       "'{\"LectureCodes\": [\"GTU_CE103\", \"GTU_CE105\", \"GTU_CE247\"], \"Avg_StudentPerLecture\": 75, \"NumberOfClass\": 12, \"Students\": [{\"Name/Surname\": \"Braced Frame\", \"age\": 19}, {\"Name/Surname\": \"Axial Load\", \"age\": 18}]}'"
      ]
     },
     "execution_count": 53,
     "metadata": {},
     "output_type": "execute_result"
    }
   ],
   "source": [
    "json.dumps(json_file)             # converts dictionary to a string   "
   ]
  },
  {
   "cell_type": "code",
   "execution_count": 54,
   "metadata": {},
   "outputs": [
    {
     "data": {
      "text/plain": [
       "'{\\n  \"LectureCodes\": [\\n    \"GTU_CE103\",\\n    \"GTU_CE105\",\\n    \"GTU_CE247\"\\n  ],\\n  \"Avg_StudentPerLecture\": 75,\\n  \"NumberOfClass\": 12,\\n  \"Students\": [\\n    {\\n      \"Name/Surname\": \"Braced Frame\",\\n      \"age\": 19\\n    },\\n    {\\n      \"Name/Surname\": \"Axial Load\",\\n      \"age\": 18\\n    }\\n  ]\\n}'"
      ]
     },
     "execution_count": 54,
     "metadata": {},
     "output_type": "execute_result"
    }
   ],
   "source": [
    "json.dumps(json_file, indent=2)   # insert whitespaces (Python doesn't use indentations and writes all data on a single line, which is not readable.)"
   ]
  },
  {
   "cell_type": "markdown",
   "metadata": {},
   "source": [
    "---\n",
    "## Download files from web \n",
    "\n",
    "Python has a _requests_ module to download files from web pages by using URL."
   ]
  },
  {
   "cell_type": "code",
   "execution_count": 55,
   "metadata": {},
   "outputs": [],
   "source": [
    "import requests "
   ]
  },
  {
   "cell_type": "code",
   "execution_count": 56,
   "metadata": {},
   "outputs": [],
   "source": [
    "# lets import an image from GTU Civil Engineering Dept. web page\n",
    "img = requests.get(\"https://travel.home.sndimg.com/content/dam/images/travel/fullset/2014/09/08/de/worlds-most-extreme-101-07.rend.hgtvcom.966.644.suffix/1491584797931.jpeg\")\n",
    "\n",
    "with open(\"Test_Input/Kusma-GyadiBridge_Nepal.png\",'wb') as f:\n",
    "    f.write(img.content)                                           # writes content of the url in to a file"
   ]
  },
  {
   "cell_type": "markdown",
   "metadata": {},
   "source": [
    "<p align=\"left\">  <img src=\"./Test_Input/Kusma-GyadiBridge_Nepal.png\" width = 50% > </p>"
   ]
  },
  {
   "cell_type": "code",
   "execution_count": 57,
   "metadata": {},
   "outputs": [],
   "source": [
    "# lets import data in csv format\n",
    "import csv\n",
    "import requests\n",
    "\n",
    "csv_url = 'https://www1.ncdc.noaa.gov/pub/data/cdo/samples/PRECIP_HLY_sample_csv.csv'\n",
    "s = requests.get(csv_url, stream=True)                             # to get the raw socket response from the server\n",
    "\n",
    "with open('Test_Input/eventlist.csv','wb') as w :\n",
    "    w.write(s.content)"
   ]
  },
  {
   "cell_type": "code",
   "execution_count": 58,
   "metadata": {},
   "outputs": [
    {
     "name": "stdout",
     "output_type": "stream",
     "text": [
      "['STATION', 'STATION_NAME', 'ELEVATION', 'LATITUDE', 'LONGITUDE', 'DATE', 'HPCP', 'Measurement Flag', 'Quality Flag']\n",
      "['COOP:310301', 'ASHEVILLE NC US', '682.1', '35.5954', '-82.5568', '20100101 00:00', '99999', ']', ' ']\n",
      "['COOP:310301', 'ASHEVILLE NC US', '682.1', '35.5954', '-82.5568', '20100101 01:00', '0', 'g', ' ']\n",
      "['COOP:310301', 'ASHEVILLE NC US', '682.1', '35.5954', '-82.5568', '20100102 06:00', '1', ' ', ' ']\n"
     ]
    }
   ],
   "source": [
    "with open('Test_Input/eventlist.csv', mode = 'r') as file:   # reads the csv file\n",
    "    f = csv.reader(file)                       \n",
    "    for line in f:\n",
    "        print(line) "
   ]
  },
  {
   "cell_type": "code",
   "execution_count": 59,
   "metadata": {},
   "outputs": [
    {
     "data": {
      "text/plain": [
       "b'STATION,STATION_NAME,ELEVATION,LATITUDE,LONGITUDE,DATE,HPCP,Measurement Flag,Quality Flag\\nCOOP:310301,ASHEVILLE NC US,682.1,35.5954,-82.5568,20100101 00:00,99999,], \\nCOOP:310301,ASHEVILLE NC US,682.1,35.5954,-82.5568,20100101 01:00,0,g, \\nCOOP:310301,ASHEVILLE NC US,682.1,35.5954,-82.5568,20100102 06:00,1, , \\n'"
      ]
     },
     "execution_count": 59,
     "metadata": {},
     "output_type": "execute_result"
    }
   ],
   "source": [
    "s.content             # read the content of the server’s response"
   ]
  },
  {
   "cell_type": "code",
   "execution_count": 60,
   "metadata": {},
   "outputs": [
    {
     "data": {
      "text/plain": [
       "{'Date': 'Mon, 26 Apr 2021 08:58:49 GMT', 'Server': 'Apache', 'Strict-Transport-Security': 'max-age=31536000', 'Last-Modified': 'Thu, 09 Aug 2012 18:42:59 GMT', 'ETag': '\"136-4c6d998b452c0\"', 'Accept-Ranges': 'bytes', 'Content-Length': '310', 'Content-Type': 'text/csv', 'Access-Control-Allow-Origin': '*', 'Connection': 'close'}"
      ]
     },
     "execution_count": 60,
     "metadata": {},
     "output_type": "execute_result"
    }
   ],
   "source": [
    "s.headers             # read the headers of the server’s response         "
   ]
  },
  {
   "cell_type": "code",
   "execution_count": 61,
   "metadata": {},
   "outputs": [
    {
     "data": {
      "text/plain": [
       "'ascii'"
      ]
     },
     "execution_count": 61,
     "metadata": {},
     "output_type": "execute_result"
    }
   ],
   "source": [
    "s.apparent_encoding"
   ]
  },
  {
   "cell_type": "code",
   "execution_count": 62,
   "metadata": {},
   "outputs": [
    {
     "name": "stdout",
     "output_type": "stream",
     "text": [
      "STATION,STATION_NAME,ELEVATION,LATITUDE,LONGITUDE,DATE,HPCP,Measurement Flag,Quality Flag\n",
      "COOP:310301,ASHEVILLE NC US,682.1,35.5954,-82.5568,20100101 00:00,99999,], \n",
      "COOP:310301,ASHEVILLE NC US,682.1,35.5954,-82.5568,20100101 01:00,0,g, \n",
      "COOP:310301,ASHEVILLE NC US,682.1,35.5954,-82.5568,20100102 06:00,1, , \n",
      "\n"
     ]
    }
   ],
   "source": [
    "r = s.content                      # decode the servers binary output to a readeble format\n",
    "rec = r.decode('utf-8')\n",
    "print(rec)"
   ]
  },
  {
   "cell_type": "code",
   "execution_count": 63,
   "metadata": {},
   "outputs": [
    {
     "name": "stdout",
     "output_type": "stream",
     "text": [
      "DATE\n",
      "20100101 00:00\n",
      "20100101 01:00\n",
      "20100102 06:00\n"
     ]
    }
   ],
   "source": [
    "# read specific columns or raws from file\n",
    "\n",
    "with open('Test_Input/eventlist.csv','r') as r:\n",
    "    for line in r:\n",
    "        raws = line.split(',')\n",
    "        print(raws[5])                   # prints 5th column"
   ]
  },
  {
   "cell_type": "markdown",
   "metadata": {},
   "source": [
    "### download JSON file from web"
   ]
  },
  {
   "cell_type": "code",
   "execution_count": 64,
   "metadata": {},
   "outputs": [
    {
     "data": {
      "text/plain": [
       "{'quiz': {'sport': {'q1': {'question': 'Which one is correct team name in NBA?',\n",
       "    'options': ['New York Bulls',\n",
       "     'Los Angeles Kings',\n",
       "     'Golden State Warriros',\n",
       "     'Huston Rocket'],\n",
       "    'answer': 'Huston Rocket'}},\n",
       "  'maths': {'q1': {'question': '5 + 7 = ?',\n",
       "    'options': ['10', '11', '12', '13'],\n",
       "    'answer': '12'},\n",
       "   'q2': {'question': '12 - 8 = ?',\n",
       "    'options': ['1', '2', '3', '4'],\n",
       "    'answer': '4'}}}}"
      ]
     },
     "execution_count": 64,
     "metadata": {},
     "output_type": "execute_result"
    }
   ],
   "source": [
    "get_json = requests.get('https://support.oneskyapp.com/hc/en-us/article_attachments/202761727/example_2.json', stream=True)\n",
    "exp2 = json.loads(get_json.text)\n",
    "type(exp2)\n",
    "exp2"
   ]
  },
  {
   "cell_type": "code",
   "execution_count": 65,
   "metadata": {},
   "outputs": [],
   "source": [
    "json_file = json.dumps(exp2, indent = 2)                        # converted pythton object to json object (Serializing json)\n",
    "with open(\"Test_Input/eventlist.json\", \"w\") as outfile:         # write a sample json file\n",
    "    outfile.write(json_file) "
   ]
  },
  {
   "cell_type": "markdown",
   "metadata": {},
   "source": [
    "---\n",
    "## Homework #9\n",
    "\n",
    "Please follow the instructions below for your first Earthquake Catalog Analysis assignment. \n",
    "\n",
    "   1. Visit the \"http://koeri.boun.edu.tr/sismo/liste.txt\" web page and _\"download\"_ the recent earthquake catalog list in CSV format. \n",
    "   2. Read columns of your file and draw two figures by using \"subplot module\"; one for **\"Time vs ML magnitude\"**, and another one for **\"Latitude(N) vs Depth(km)\"**.\n",
    "   3. Define a **function** in Python to calculate **\"Distance(km)\"** column for each earthquake._(Distance will be calculated between Gebze Technical University Civil Engineering Department building location (40.8068°N 29.3555°E) and earthquake location in km.)_\n",
    "   \n",
    "***ATTENTION : Please do not forget to add an introduction paragraph that tells gives brief information about your code and also, add your own comments next to the each line of your code. \n",
    "\n",
    "\n",
    "*** PS : Do not forget to upload your answer sheets to CE_103 Class on MS Teams.\n"
   ]
  }
 ],
 "metadata": {
  "kernelspec": {
   "display_name": "Python 3",
   "language": "python",
   "name": "python3"
  },
  "language_info": {
   "codemirror_mode": {
    "name": "ipython",
    "version": 3
   },
   "file_extension": ".py",
   "mimetype": "text/x-python",
   "name": "python",
   "nbconvert_exporter": "python",
   "pygments_lexer": "ipython3",
   "version": "3.8.7"
  }
 },
 "nbformat": 4,
 "nbformat_minor": 4
}
