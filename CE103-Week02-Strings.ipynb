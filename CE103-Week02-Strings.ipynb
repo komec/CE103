{
 "cells": [
  {
   "cell_type": "markdown",
   "metadata": {},
   "source": [
    "### CE 103- INTRODUCTION TO COMPUTERS and PROGRAMMING"
   ]
  },
  {
   "cell_type": "markdown",
   "metadata": {},
   "source": [
    "### _The topics of the week !_\n",
    "\n",
    "- Strings\n",
    "- Python Collections\n",
    "    - Lists     ----->  Ordered and changeable collection which allows duplicate members.\n",
    "    - Tuples    ----->  Ordered and unchangeble collection which allows duplicate members.\n",
    "    - Dictionaries -->  Unordered, changeable, indexed and single members collection.\n",
    "    - Arrays    \n",
    "   "
   ]
  },
  {
   "cell_type": "markdown",
   "metadata": {},
   "source": [
    "---"
   ]
  },
  {
   "cell_type": "markdown",
   "metadata": {},
   "source": [
    "# Strings\n",
    "\n",
    "We have learned last week that Python (such as other programming languages) can be used as a calculater by using math symbols and also Numbers. \n",
    "\n",
    "#### <font color=green>!!! A string is a sequence of characters !!!</font>\n",
    "\n",
    "A character is simply a symbol. Actually computers deal with numbers (binary), not with characters. All characters you may see on the screen are stored and manipulated as a combination of zeros (0) and ones (1), internally. Converting the character to a number is called encoding (ASCII, Unicode etc.) and the visa versa is decoding. \n",
    "\n",
    "If you get __\"UnicodeDecodeError: 'ascii' codec can't decode byte...\"__ error of code, then that means the string is a byte string.\n",
    "\n",
    "\n",
    "A string is a series of Unicode characters."
   ]
  },
  {
   "cell_type": "markdown",
   "metadata": {},
   "source": [
    "We use the **_Unicode Standard_**, in order to describe how characters are represented by code points.\n",
    "\n",
    "![](../Figures/unicode.png)\n",
    "\n",
    "\n",
    "**_Character Encoding_** or **_Encoding_** refers to the rules for translating a Unicode string into a sequence of bytes. So, the **String** \"Python\" looks like as below by using 32-bit integers as the code unit.\n",
    "\n",
    "![](../Figures/encode.png)\n",
    "\n",
    "*** Image source : https://docs.python.org/3/howto/unicode.html"
   ]
  },
  {
   "cell_type": "code",
   "execution_count": 1,
   "metadata": {},
   "outputs": [
    {
     "data": {
      "text/plain": [
       "b'\\xf0\\x9f\\x98\\x80'"
      ]
     },
     "execution_count": 1,
     "metadata": {},
     "output_type": "execute_result"
    }
   ],
   "source": [
    "mood = b'\\xf0\\x9f\\x98\\x80'\n",
    "mood"
   ]
  },
  {
   "cell_type": "code",
   "execution_count": 2,
   "metadata": {},
   "outputs": [
    {
     "data": {
      "text/plain": [
       "'😀'"
      ]
     },
     "execution_count": 2,
     "metadata": {},
     "output_type": "execute_result"
    }
   ],
   "source": [
    "mood.decode()"
   ]
  },
  {
   "cell_type": "code",
   "execution_count": 3,
   "metadata": {},
   "outputs": [
    {
     "name": "stdout",
     "output_type": "stream",
     "text": [
      "U+1F600\n"
     ]
    }
   ],
   "source": [
    "#'😀' is a Unicode object. To get the codepoint number, the \"ord\" function can be used.\n",
    "\n",
    "s = '😀'\n",
    "print('U+{:X}'.format(ord(s)))"
   ]
  },
  {
   "cell_type": "code",
   "execution_count": 4,
   "metadata": {},
   "outputs": [
    {
     "data": {
      "text/plain": [
       "b'\\x05D4\\x05D4'"
      ]
     },
     "execution_count": 4,
     "metadata": {},
     "output_type": "execute_result"
    }
   ],
   "source": [
    "a = u'\\05D4\\05D4'\n",
    "a.encode('utf-8')\n"
   ]
  },
  {
   "cell_type": "code",
   "execution_count": 5,
   "metadata": {},
   "outputs": [
    {
     "data": {
      "text/plain": [
       "\"'jalepe\\\\xf1o'\""
      ]
     },
     "execution_count": 5,
     "metadata": {},
     "output_type": "execute_result"
    }
   ],
   "source": [
    "ascii(\"jalepeño\")"
   ]
  },
  {
   "cell_type": "code",
   "execution_count": 6,
   "metadata": {},
   "outputs": [
    {
     "data": {
      "text/plain": [
       "b'hello world'"
      ]
     },
     "execution_count": 6,
     "metadata": {},
     "output_type": "execute_result"
    }
   ],
   "source": [
    "bytes((104, 101, 108, 108, 111, 32, 119, 111, 114, 108, 100))"
   ]
  },
  {
   "cell_type": "code",
   "execution_count": 7,
   "metadata": {},
   "outputs": [
    {
     "data": {
      "text/plain": [
       "'¼ cup of flour'"
      ]
     },
     "execution_count": 7,
     "metadata": {},
     "output_type": "execute_result"
    }
   ],
   "source": [
    "str(b\"\\xc2\\xbc cup of flour\", \"utf-8\")"
   ]
  },
  {
   "cell_type": "markdown",
   "metadata": {},
   "source": [
    "![](../Figures/encode-decode.png)\n",
    "\n",
    "*** Image source: https://realpython.com/python-encodings-guide/"
   ]
  },
  {
   "cell_type": "code",
   "execution_count": 8,
   "metadata": {},
   "outputs": [],
   "source": [
    "# Python can also manipulate \"strings\". They can be adressed in single quotes (' ') or in double quotes (\" \").\n",
    "\n",
    "iron = \"Cause if we can't protect the Earth, \"\n",
    "man = 'you can be sure we will avenge it'"
   ]
  },
  {
   "cell_type": "code",
   "execution_count": 9,
   "metadata": {},
   "outputs": [],
   "source": [
    "ironman = iron + man"
   ]
  },
  {
   "cell_type": "code",
   "execution_count": 11,
   "metadata": {},
   "outputs": [
    {
     "name": "stdout",
     "output_type": "stream",
     "text": [
      "iron + man\n"
     ]
    }
   ],
   "source": [
    "#print(iron + man)\n",
    "print(\"iron + man\")"
   ]
  },
  {
   "cell_type": "markdown",
   "metadata": {},
   "source": [
    "![](./Figures/ironman2.jpg)"
   ]
  },
  {
   "cell_type": "code",
   "execution_count": 15,
   "metadata": {},
   "outputs": [
    {
     "data": {
      "text/plain": [
       "\"I'm Iron man\""
      ]
     },
     "execution_count": 15,
     "metadata": {},
     "output_type": "execute_result"
    }
   ],
   "source": [
    "# Backslash can be used to enclose for special characters in the output string \n",
    "\n",
    "'I\\'m Iron man'\n"
   ]
  },
  {
   "cell_type": "code",
   "execution_count": 13,
   "metadata": {},
   "outputs": [
    {
     "data": {
      "text/plain": [
       "'I am Iron man'"
      ]
     },
     "execution_count": 13,
     "metadata": {},
     "output_type": "execute_result"
    }
   ],
   "source": [
    "\"I am Iron man\""
   ]
  },
  {
   "cell_type": "code",
   "execution_count": 16,
   "metadata": {},
   "outputs": [
    {
     "name": "stdout",
     "output_type": "stream",
     "text": [
      "Lines can be seperated\n",
      " by backslash with symbol 'n' next to it.\n"
     ]
    }
   ],
   "source": [
    "print(\"Lines can be seperated\\n by backslash with symbol 'n' next to it.\")"
   ]
  },
  {
   "cell_type": "code",
   "execution_count": 18,
   "metadata": {},
   "outputs": [
    {
     "name": "stdout",
     "output_type": "stream",
     "text": [
      "use backslash with \n",
      "\"print\" \n",
      " command\n"
     ]
    }
   ],
   "source": [
    "#set the rule variable\n",
    "rule = 'use backslash with \\n\"print\" \\n command'\n",
    "\n",
    "print(rule)"
   ]
  },
  {
   "cell_type": "code",
   "execution_count": 19,
   "metadata": {},
   "outputs": [
    {
     "name": "stdout",
     "output_type": "stream",
     "text": [
      "MyData\n",
      "otes\\CE103\n"
     ]
    }
   ],
   "source": [
    "print ('MyData\\notes\\CE103')     # \\n means newline"
   ]
  },
  {
   "cell_type": "code",
   "execution_count": 20,
   "metadata": {},
   "outputs": [
    {
     "name": "stdout",
     "output_type": "stream",
     "text": [
      "MyData\\notes\\CE103\n"
     ]
    }
   ],
   "source": [
    "print (r'MyData\\notes\\CE103')    # use r before the quote"
   ]
  },
  {
   "cell_type": "code",
   "execution_count": 21,
   "metadata": {},
   "outputs": [
    {
     "data": {
      "text/plain": [
       "'Lecture code is CE103.'"
      ]
     },
     "execution_count": 21,
     "metadata": {},
     "output_type": "execute_result"
    }
   ],
   "source": [
    "code = \"CE103\"\n",
    "f\"Lecture code is {code}.\""
   ]
  },
  {
   "cell_type": "code",
   "execution_count": 22,
   "metadata": {},
   "outputs": [
    {
     "name": "stdout",
     "output_type": "stream",
     "text": [
      "Lecture code is CE103.\n"
     ]
    }
   ],
   "source": [
    "print(f\"Lecture code is {code}.\")"
   ]
  },
  {
   "cell_type": "code",
   "execution_count": 23,
   "metadata": {},
   "outputs": [
    {
     "name": "stdout",
     "output_type": "stream",
     "text": [
      "Hello\n",
      "World!\n"
     ]
    }
   ],
   "source": [
    "print(f\"Hello\\nWorld!\")"
   ]
  },
  {
   "cell_type": "code",
   "execution_count": 25,
   "metadata": {},
   "outputs": [
    {
     "name": "stdout",
     "output_type": "stream",
     "text": [
      "79 students got the highest grade \"AA\" in the CE103 Midterm Exam.\n"
     ]
    }
   ],
   "source": [
    "Lect = 'CE103'\n",
    "HGrade = \"AA\"\n",
    "NumStdnt = 79\n",
    "\n",
    "#print('{0} students got the highest grade \"{1}\" in the {2} Midterm Exam.'.format(NumStdnt,HGrade,Lect))\n",
    "\n",
    "# by using f-strings\n",
    "print(f'{NumStdnt} students got the highest grade \"{HGrade}\" in the {Lect} Midterm Exam.')\n"
   ]
  },
  {
   "cell_type": "markdown",
   "metadata": {},
   "source": [
    "---\n",
    "### How to access characters in string?\n",
    "\n",
    "Method of indexing can be used to access the characters in a string. Indexing could be think as pointing between characters. Index starts from 0. The left edge of the character numbered as 0, increases from left to right and the right edge of the character starts with -1, e.g. -1 refers to the last character, -2 refers to the second last character and so on.\n",
    "\n",
    "![](../Figures/string-sequence.png)\n",
    "\n",
    "Accessing an index out of the range will cause an <font color=orange>IndexError</font>. We can also access individual characters using slicing. \n",
    "The index must be an integer, otherwhise, this will result into <font color=orange>TypeError</font>.\n"
   ]
  },
  {
   "cell_type": "code",
   "execution_count": 26,
   "metadata": {},
   "outputs": [
    {
     "name": "stdout",
     "output_type": "stream",
     "text": [
      "first character =  Y\n"
     ]
    }
   ],
   "source": [
    "# Lets assign Steve Job's words as string to a variable\n",
    "str = \"Your time is limited, so don\\’t waste it living someone else\\’s life.\"\n",
    "\n",
    "print('first character = ', str[0])    #first character"
   ]
  },
  {
   "cell_type": "code",
   "execution_count": 27,
   "metadata": {},
   "outputs": [
    {
     "name": "stdout",
     "output_type": "stream",
     "text": [
      "last character =  .\n"
     ]
    }
   ],
   "source": [
    "print('last character = ', str[-1])        #last character"
   ]
  },
  {
   "cell_type": "code",
   "execution_count": 28,
   "metadata": {},
   "outputs": [
    {
     "name": "stdout",
     "output_type": "stream",
     "text": [
      "slicing 6nd to 9th character =  ime\n"
     ]
    }
   ],
   "source": [
    "print('slicing 6nd to 9th character = ', str[6:9])     #slicing 6nd to 9th character"
   ]
  },
  {
   "cell_type": "code",
   "execution_count": 29,
   "metadata": {},
   "outputs": [
    {
     "name": "stdout",
     "output_type": "stream",
     "text": [
      "slicing 25th to 37nd last character =  don\\’t \n"
     ]
    }
   ],
   "source": [
    "print('slicing 25th to 37nd last character = ', str[25:-37])  #slicing 25th to 37nd last character"
   ]
  },
  {
   "cell_type": "code",
   "execution_count": 30,
   "metadata": {},
   "outputs": [
    {
     "name": "stdout",
     "output_type": "stream",
     "text": [
      "aceg\n"
     ]
    }
   ],
   "source": [
    "str = 'abcdefg'      \n",
    "print(str[::2])"
   ]
  },
  {
   "cell_type": "code",
   "execution_count": 31,
   "metadata": {},
   "outputs": [
    {
     "name": "stdout",
     "output_type": "stream",
     "text": [
      "bf\n"
     ]
    }
   ],
   "source": [
    "print(str[1::4])"
   ]
  },
  {
   "cell_type": "code",
   "execution_count": 32,
   "metadata": {},
   "outputs": [
    {
     "name": "stdout",
     "output_type": "stream",
     "text": [
      "gfedcba\n"
     ]
    }
   ],
   "source": [
    "print(str[::-1])"
   ]
  },
  {
   "cell_type": "code",
   "execution_count": 33,
   "metadata": {},
   "outputs": [
    {
     "name": "stdout",
     "output_type": "stream",
     "text": [
      "def\n"
     ]
    }
   ],
   "source": [
    "print(str[3:-1])"
   ]
  },
  {
   "cell_type": "code",
   "execution_count": 34,
   "metadata": {},
   "outputs": [
    {
     "name": "stdout",
     "output_type": "stream",
     "text": [
      "   \n"
     ]
    }
   ],
   "source": [
    "print('   ')"
   ]
  },
  {
   "cell_type": "code",
   "execution_count": 35,
   "metadata": {},
   "outputs": [
    {
     "name": "stdout",
     "output_type": "stream",
     "text": [
      "bcdefg\n"
     ]
    }
   ],
   "source": [
    "print(str[1:])"
   ]
  },
  {
   "cell_type": "code",
   "execution_count": 36,
   "metadata": {},
   "outputs": [
    {
     "name": "stdout",
     "output_type": "stream",
     "text": [
      "bcd\n"
     ]
    }
   ],
   "source": [
    "print(str[1:4])"
   ]
  },
  {
   "cell_type": "code",
   "execution_count": 37,
   "metadata": {},
   "outputs": [
    {
     "ename": "IndexError",
     "evalue": "string index out of range",
     "output_type": "error",
     "traceback": [
      "\u001b[0;31m---------------------------------------------------------------------------\u001b[0m",
      "\u001b[0;31mIndexError\u001b[0m                                Traceback (most recent call last)",
      "\u001b[0;32m<ipython-input-37-2ac520b54ca6>\u001b[0m in \u001b[0;36m<module>\u001b[0;34m()\u001b[0m\n\u001b[1;32m      1\u001b[0m \u001b[0mst\u001b[0m \u001b[0;34m=\u001b[0m \u001b[0;34m'abcdefg'\u001b[0m\u001b[0;34m\u001b[0m\u001b[0;34m\u001b[0m\u001b[0m\n\u001b[0;32m----> 2\u001b[0;31m \u001b[0mst\u001b[0m\u001b[0;34m[\u001b[0m\u001b[0;36m8\u001b[0m\u001b[0;34m]\u001b[0m   \u001b[0;31m# index must be in range error\u001b[0m\u001b[0;34m\u001b[0m\u001b[0;34m\u001b[0m\u001b[0m\n\u001b[0m",
      "\u001b[0;31mIndexError\u001b[0m: string index out of range"
     ]
    }
   ],
   "source": [
    "st = 'abcdefg'  \n",
    "st[8]   # index must be in range error "
   ]
  },
  {
   "cell_type": "code",
   "execution_count": 38,
   "metadata": {},
   "outputs": [
    {
     "ename": "TypeError",
     "evalue": "string indices must be integers",
     "output_type": "error",
     "traceback": [
      "\u001b[0;31m---------------------------------------------------------------------------\u001b[0m",
      "\u001b[0;31mTypeError\u001b[0m                                 Traceback (most recent call last)",
      "\u001b[0;32m<ipython-input-38-c01baf657763>\u001b[0m in \u001b[0;36m<module>\u001b[0;34m()\u001b[0m\n\u001b[0;32m----> 1\u001b[0;31m \u001b[0mst\u001b[0m\u001b[0;34m[\u001b[0m\u001b[0;36m1.5\u001b[0m\u001b[0;34m]\u001b[0m \u001b[0;31m# index must be an integer error\u001b[0m\u001b[0;34m\u001b[0m\u001b[0;34m\u001b[0m\u001b[0m\n\u001b[0m",
      "\u001b[0;31mTypeError\u001b[0m: string indices must be integers"
     ]
    }
   ],
   "source": [
    "st[1.5] # index must be an integer error"
   ]
  },
  {
   "cell_type": "markdown",
   "metadata": {},
   "source": [
    "---\n",
    "Elements of a string cannot be changed once it has been assigned. We can assign different strings to the same variable name."
   ]
  },
  {
   "cell_type": "code",
   "execution_count": 39,
   "metadata": {},
   "outputs": [
    {
     "name": "stdout",
     "output_type": "stream",
     "text": [
      "hulk\n"
     ]
    }
   ],
   "source": [
    "str = 'hulk'\n",
    "print(str)"
   ]
  },
  {
   "cell_type": "markdown",
   "metadata": {},
   "source": [
    "![](../Figures/hulk.jpg)"
   ]
  },
  {
   "cell_type": "code",
   "execution_count": 40,
   "metadata": {},
   "outputs": [
    {
     "name": "stdout",
     "output_type": "stream",
     "text": [
      "2,4,6\n"
     ]
    }
   ],
   "source": [
    "str = '2,4,6'\n",
    "print(str)"
   ]
  },
  {
   "cell_type": "markdown",
   "metadata": {},
   "source": [
    "---\n",
    "String is one of the most used datatypes in Python with its operational features.\n",
    "\n",
    "A string can be a join of two or more strings which is called concantenation. ' + ' operator can be used joining while ' * ' operator can be used to repeat the string with a given numbers. \n"
   ]
  },
  {
   "cell_type": "code",
   "execution_count": 41,
   "metadata": {},
   "outputs": [
    {
     "name": "stdout",
     "output_type": "stream",
     "text": [
      "to be, or, not to be, \n"
     ]
    }
   ],
   "source": [
    "str1 = 'to be, '\n",
    "str2 ='or, not '\n",
    "\n",
    "print( str1 + str2 + str1)\n"
   ]
  },
  {
   "cell_type": "code",
   "execution_count": 42,
   "metadata": {},
   "outputs": [
    {
     "name": "stdout",
     "output_type": "stream",
     "text": [
      "to be, to be, to be,  that's the problem\n"
     ]
    }
   ],
   "source": [
    "print(str1 * 3,\"that\\'s the problem\")"
   ]
  },
  {
   "cell_type": "markdown",
   "metadata": {},
   "source": [
    "---\n",
    "The built-in functions such as enumarate(), len() etc. and numerous methods such as  lower(), upper(), join(), split(), find(), replace() etc. are very usefull for the work with sequence as well as works with string.\n"
   ]
  },
  {
   "cell_type": "code",
   "execution_count": 43,
   "metadata": {},
   "outputs": [
    {
     "name": "stdout",
     "output_type": "stream",
     "text": [
      "[(0, 'w'), (1, 'i'), (2, 'n'), (3, 't'), (4, 'e'), (5, 'r'), (6, ' '), (7, 'i'), (8, 's'), (9, ' '), (10, 'c'), (11, 'o'), (12, 'm'), (13, 'i'), (14, 'n'), (15, 'g')]\n"
     ]
    }
   ],
   "source": [
    "str = 'winter is coming'\n",
    "\n",
    "list_enumerate = list(enumerate(str)) #contains all items as pairs\n",
    "print(list_enumerate) "
   ]
  },
  {
   "cell_type": "code",
   "execution_count": 45,
   "metadata": {},
   "outputs": [
    {
     "data": {
      "text/plain": [
       "16"
      ]
     },
     "execution_count": 45,
     "metadata": {},
     "output_type": "execute_result"
    }
   ],
   "source": [
    "len(str) #count characters"
   ]
  },
  {
   "cell_type": "code",
   "execution_count": 46,
   "metadata": {},
   "outputs": [
    {
     "name": "stdout",
     "output_type": "stream",
     "text": [
      "SUMMER IS ENDING\n"
     ]
    }
   ],
   "source": [
    "str2 = 'sUmmEr is ENDing'\n",
    "print(str2.upper())"
   ]
  },
  {
   "cell_type": "code",
   "execution_count": 47,
   "metadata": {},
   "outputs": [
    {
     "data": {
      "text/plain": [
       "'summer is ending'"
      ]
     },
     "execution_count": 47,
     "metadata": {},
     "output_type": "execute_result"
    }
   ],
   "source": [
    "str2.lower()"
   ]
  },
  {
   "cell_type": "code",
   "execution_count": 48,
   "metadata": {},
   "outputs": [
    {
     "data": {
      "text/plain": [
       "['sUmmEr', 'is', 'ENDing']"
      ]
     },
     "execution_count": 48,
     "metadata": {},
     "output_type": "execute_result"
    }
   ],
   "source": [
    "str2.split()"
   ]
  },
  {
   "cell_type": "code",
   "execution_count": 49,
   "metadata": {},
   "outputs": [
    {
     "data": {
      "text/plain": [
       "7"
      ]
     },
     "execution_count": 49,
     "metadata": {},
     "output_type": "execute_result"
    }
   ],
   "source": [
    "str2.find('is')"
   ]
  },
  {
   "cell_type": "code",
   "execution_count": 50,
   "metadata": {},
   "outputs": [
    {
     "data": {
      "text/plain": [
       "'sUmmEr is not ENDing'"
      ]
     },
     "execution_count": 50,
     "metadata": {},
     "output_type": "execute_result"
    }
   ],
   "source": [
    "str2.replace('is','is not')"
   ]
  },
  {
   "cell_type": "code",
   "execution_count": 52,
   "metadata": {},
   "outputs": [
    {
     "name": "stdout",
     "output_type": "stream",
     "text": [
      "0\n"
     ]
    },
    {
     "data": {
      "text/plain": [
       "19"
      ]
     },
     "execution_count": 52,
     "metadata": {},
     "output_type": "execute_result"
    }
   ],
   "source": [
    "p = \"Why, Mr. Anderson? Why keep fighting?\"\n",
    "print(p.find('Why'))      \n",
    "p.rfind('Why')"
   ]
  },
  {
   "cell_type": "code",
   "execution_count": 53,
   "metadata": {},
   "outputs": [
    {
     "name": "stdout",
     "output_type": "stream",
     "text": [
      "Why keep laughing?\n"
     ]
    }
   ],
   "source": [
    "p = \"Why, Mr. Anderson? Why keep fighting?\"\n",
    "\n",
    "print('Why keep fighting?'.replace('fighting','laughing'))"
   ]
  },
  {
   "cell_type": "code",
   "execution_count": 54,
   "metadata": {},
   "outputs": [
    {
     "name": "stdout",
     "output_type": "stream",
     "text": [
      "please, Mr. Anderson? please keep fighting?\n"
     ]
    }
   ],
   "source": [
    "print(p.replace('Why','please',2))"
   ]
  },
  {
   "cell_type": "code",
   "execution_count": 55,
   "metadata": {},
   "outputs": [
    {
     "name": "stdout",
     "output_type": "stream",
     "text": [
      "3\n"
     ]
    }
   ],
   "source": [
    "print(\"Why, Mr. Anderson? Why keep fighting?\".count('h'))"
   ]
  },
  {
   "cell_type": "markdown",
   "metadata": {},
   "source": [
    "---\n",
    "# Lists\n",
    "\n",
    "Python offers a sequence of datatypes in order to group values. Lists are one of the most versatile and frequently used items. They created by comma-separated values (elements) between square brackets [ ] in any number and any different type such as integer, float, string etc."
   ]
  },
  {
   "cell_type": "code",
   "execution_count": 56,
   "metadata": {},
   "outputs": [],
   "source": [
    "lst = [] # create empty list"
   ]
  },
  {
   "cell_type": "code",
   "execution_count": null,
   "metadata": {},
   "outputs": [],
   "source": [
    "lst = [1, 2, 3]# list of integers"
   ]
  },
  {
   "cell_type": "code",
   "execution_count": null,
   "metadata": {},
   "outputs": [],
   "source": [
    "lst = [3.14, \"pi\", (22/7)] # list of different datatypes"
   ]
  },
  {
   "cell_type": "code",
   "execution_count": 60,
   "metadata": {},
   "outputs": [
    {
     "data": {
      "text/plain": [
       "['week', [2, 4, 6], ['tuesday', 6]]"
      ]
     },
     "execution_count": 60,
     "metadata": {},
     "output_type": "execute_result"
    }
   ],
   "source": [
    "lst = [\"week\",[2,4,6],['tuesday',6]] # nested list\n",
    "lst"
   ]
  },
  {
   "cell_type": "markdown",
   "metadata": {},
   "source": [
    "---\n",
    "#### Access items of a list\n",
    "\n",
    "   ##### _***1.Index Operator***_\n",
    "\n",
    "An index operator ([ ]) can be used to access the elements of a list. Index starts with 0 and must be an integer. If you access the index number out of the range it will cause <font color=red>IndexError</font>; if you use float or other types, it will cause <font color=red>TypeError</font> will occur.\n"
   ]
  },
  {
   "cell_type": "code",
   "execution_count": 61,
   "metadata": {},
   "outputs": [
    {
     "name": "stdout",
     "output_type": "stream",
     "text": [
      "a\n"
     ]
    }
   ],
   "source": [
    "mylst = ['a','v','e','n','g','e','r','s']\n",
    "\n",
    "print(mylst[0])"
   ]
  },
  {
   "cell_type": "code",
   "execution_count": 62,
   "metadata": {},
   "outputs": [
    {
     "name": "stdout",
     "output_type": "stream",
     "text": [
      "e\n"
     ]
    }
   ],
   "source": [
    "print(mylst[5])"
   ]
  },
  {
   "cell_type": "code",
   "execution_count": 63,
   "metadata": {},
   "outputs": [
    {
     "name": "stdout",
     "output_type": "stream",
     "text": [
      "n\n"
     ]
    }
   ],
   "source": [
    "print(mylst[-5])"
   ]
  },
  {
   "cell_type": "code",
   "execution_count": 64,
   "metadata": {},
   "outputs": [
    {
     "ename": "TypeError",
     "evalue": "list indices must be integers or slices, not float",
     "output_type": "error",
     "traceback": [
      "\u001b[0;31m---------------------------------------------------------------------------\u001b[0m",
      "\u001b[0;31mTypeError\u001b[0m                                 Traceback (most recent call last)",
      "\u001b[0;32m<ipython-input-64-2987d2fc485e>\u001b[0m in \u001b[0;36m<module>\u001b[0;34m()\u001b[0m\n\u001b[0;32m----> 1\u001b[0;31m \u001b[0mmylst\u001b[0m\u001b[0;34m[\u001b[0m\u001b[0;36m1.0\u001b[0m\u001b[0;34m]\u001b[0m       \u001b[0;31m#TypeError ! only integer can be used\u001b[0m\u001b[0;34m\u001b[0m\u001b[0;34m\u001b[0m\u001b[0m\n\u001b[0m",
      "\u001b[0;31mTypeError\u001b[0m: list indices must be integers or slices, not float"
     ]
    }
   ],
   "source": [
    "mylst[1.0]       #TypeError ! only integer can be used "
   ]
  },
  {
   "cell_type": "code",
   "execution_count": 65,
   "metadata": {},
   "outputs": [
    {
     "name": "stdout",
     "output_type": "stream",
     "text": [
      "e\n"
     ]
    }
   ],
   "source": [
    "nested = [\"Squares\", [4,9,16,25]] # Nested List\n",
    "print(nested[0][5])    "
   ]
  },
  {
   "cell_type": "code",
   "execution_count": 66,
   "metadata": {},
   "outputs": [
    {
     "name": "stdout",
     "output_type": "stream",
     "text": [
      "16\n"
     ]
    }
   ],
   "source": [
    "print(nested[1][2])"
   ]
  },
  {
   "cell_type": "markdown",
   "metadata": {},
   "source": [
    "##### _***2.Slice Operator***_\n",
    "\n",
    "We can also access the elements of a list by slicing operator.\n",
    "\n",
    "![](../Figures/captainamerica.jpg)"
   ]
  },
  {
   "cell_type": "code",
   "execution_count": 67,
   "metadata": {},
   "outputs": [
    {
     "name": "stdout",
     "output_type": "stream",
     "text": [
      "['C', 'a', 'p', 't', 'a', 'i', 'n', 'A', 'm', 'e', 'r', 'i', 'c', 'a']\n"
     ]
    }
   ],
   "source": [
    "slc = ['C','a','p','t','a','i','n','A','m','e','r','i','c','a']\n",
    "\n",
    "print(slc[:]) # elements beginning to end"
   ]
  },
  {
   "cell_type": "code",
   "execution_count": 68,
   "metadata": {},
   "outputs": [
    {
     "name": "stdout",
     "output_type": "stream",
     "text": [
      "['i', 'n', 'A', 'm', 'e', 'r']\n"
     ]
    }
   ],
   "source": [
    "print(slc[5:11]) # elements 5th to 11th"
   ]
  },
  {
   "cell_type": "code",
   "execution_count": 69,
   "metadata": {},
   "outputs": [
    {
     "name": "stdout",
     "output_type": "stream",
     "text": [
      "['C', 'a', 'p', 't', 'a', 'i', 'n', 'A', 'm']\n"
     ]
    }
   ],
   "source": [
    "print(slc[:-5]) # elements beginning to 4th"
   ]
  },
  {
   "cell_type": "code",
   "execution_count": 70,
   "metadata": {},
   "outputs": [
    {
     "name": "stdout",
     "output_type": "stream",
     "text": [
      "['a', 'i', 'n', 'A', 'm', 'e', 'r', 'i', 'c', 'a']\n"
     ]
    }
   ],
   "source": [
    "print(slc[4:]) # elements 5th to end"
   ]
  },
  {
   "cell_type": "markdown",
   "metadata": {},
   "source": [
    "As differs from strings, the elements of lists can be changed which means they are mutable."
   ]
  },
  {
   "cell_type": "code",
   "execution_count": 73,
   "metadata": {},
   "outputs": [
    {
     "data": {
      "text/plain": [
       "['2x2', '3x3', '4x4', 25, 36, 49]"
      ]
     },
     "execution_count": 73,
     "metadata": {},
     "output_type": "execute_result"
    }
   ],
   "source": [
    "sqr = [4, 9, 16, 25, 36, 49]\n",
    "\n",
    "sqr[0] = ('2x2')            # change the 1st item   \n",
    "sqr[1:-3] = ['3x3', '4x4']  # change 2nd to 3rd items \n",
    "sqr"
   ]
  },
  {
   "cell_type": "code",
   "execution_count": 76,
   "metadata": {},
   "outputs": [
    {
     "data": {
      "text/plain": [
       "['2x2', 3, '3x3', '4x4', 25, 36, 49, 7, 7, 100, 121, 144]"
      ]
     },
     "execution_count": 76,
     "metadata": {},
     "output_type": "execute_result"
    }
   ],
   "source": [
    "#sqr.append(7) # adds new item to the end of the list\n",
    "#sqr.extend([100, 121, 144])\n",
    "\n",
    "sqr.insert(1,3)\n",
    "sqr"
   ]
  },
  {
   "cell_type": "code",
   "execution_count": 79,
   "metadata": {},
   "outputs": [
    {
     "name": "stdout",
     "output_type": "stream",
     "text": [
      "5\n"
     ]
    }
   ],
   "source": [
    "# define sqr list again\n",
    "sqr = [4, 9, 16, 25, 36, 49]\n",
    "\n",
    "#sqr[3:3] = [64, 91]\n",
    "print(sqr.index(49))\n",
    "#sqr"
   ]
  },
  {
   "cell_type": "code",
   "execution_count": 80,
   "metadata": {},
   "outputs": [
    {
     "name": "stdout",
     "output_type": "stream",
     "text": [
      "1\n"
     ]
    }
   ],
   "source": [
    "print(sqr.count(4))\n"
   ]
  },
  {
   "cell_type": "code",
   "execution_count": 82,
   "metadata": {},
   "outputs": [
    {
     "name": "stdout",
     "output_type": "stream",
     "text": [
      "[4, 9, 16, 25, 36, 49]\n"
     ]
    }
   ],
   "source": [
    "sqr.sort()\n",
    "#sqr.reverse()\n",
    "\n",
    "print(sqr)"
   ]
  },
  {
   "cell_type": "code",
   "execution_count": 84,
   "metadata": {},
   "outputs": [
    {
     "data": {
      "text/plain": [
       "[4, 9, 16, 36, 49]"
      ]
     },
     "execution_count": 84,
     "metadata": {},
     "output_type": "execute_result"
    }
   ],
   "source": [
    "# define sqr list again to see the commands for delete values from a list\n",
    "sqr = [4, 9, 16, 25, 36, 49]\n",
    "\n",
    "del sqr[3]    # delete one specific item\n",
    "sqr"
   ]
  },
  {
   "cell_type": "code",
   "execution_count": 85,
   "metadata": {},
   "outputs": [
    {
     "data": {
      "text/plain": [
       "[4, 9, 16, 36]"
      ]
     },
     "execution_count": 85,
     "metadata": {},
     "output_type": "execute_result"
    }
   ],
   "source": [
    "del sqr[4:9]  # delete multiple items from the list\n",
    "sqr"
   ]
  },
  {
   "cell_type": "code",
   "execution_count": 87,
   "metadata": {},
   "outputs": [
    {
     "ename": "NameError",
     "evalue": "name 'sqr' is not defined",
     "output_type": "error",
     "traceback": [
      "\u001b[0;31m---------------------------------------------------------------------------\u001b[0m",
      "\u001b[0;31mNameError\u001b[0m                                 Traceback (most recent call last)",
      "\u001b[0;32m<ipython-input-87-b2cd111a038a>\u001b[0m in \u001b[0;36m<module>\u001b[0;34m()\u001b[0m\n\u001b[0;32m----> 1\u001b[0;31m \u001b[0;32mdel\u001b[0m \u001b[0msqr\u001b[0m       \u001b[0;31m# delete entire list\u001b[0m\u001b[0;34m\u001b[0m\u001b[0;34m\u001b[0m\u001b[0m\n\u001b[0m\u001b[1;32m      2\u001b[0m \u001b[0msqr\u001b[0m\u001b[0;34m\u001b[0m\u001b[0;34m\u001b[0m\u001b[0m\n",
      "\u001b[0;31mNameError\u001b[0m: name 'sqr' is not defined"
     ]
    }
   ],
   "source": [
    "del sqr       # delete entire list\n",
    "sqr"
   ]
  },
  {
   "cell_type": "code",
   "execution_count": 88,
   "metadata": {},
   "outputs": [
    {
     "name": "stdout",
     "output_type": "stream",
     "text": [
      "49\n"
     ]
    }
   ],
   "source": [
    "sqr = [4, 9, 16, 25, 36, 49]\n",
    "sqr_max = max(sqr)\n",
    "print(sqr_max)"
   ]
  },
  {
   "cell_type": "code",
   "execution_count": 89,
   "metadata": {},
   "outputs": [
    {
     "name": "stdout",
     "output_type": "stream",
     "text": [
      "[]\n"
     ]
    }
   ],
   "source": [
    "sqr.remove(16) # remove the given item\n",
    "sqr.clear()\n",
    "sqr[2:3] = []\n",
    "print(sqr)"
   ]
  },
  {
   "cell_type": "code",
   "execution_count": 90,
   "metadata": {},
   "outputs": [
    {
     "name": "stdout",
     "output_type": "stream",
     "text": [
      "49\n"
     ]
    }
   ],
   "source": [
    "# if index is not specified in pop() it removes and returns the last item\n",
    "sqr = [4, 9, 16, 25, 36, 49]\n",
    "\n",
    "print(sqr.pop()) # provides first in, last out data structure\n"
   ]
  },
  {
   "cell_type": "code",
   "execution_count": 91,
   "metadata": {},
   "outputs": [
    {
     "name": "stdout",
     "output_type": "stream",
     "text": [
      "[4, 9, 16, 25, 36]\n"
     ]
    }
   ],
   "source": [
    "print(sqr)"
   ]
  },
  {
   "cell_type": "code",
   "execution_count": 92,
   "metadata": {},
   "outputs": [
    {
     "name": "stdout",
     "output_type": "stream",
     "text": [
      "25\n"
     ]
    }
   ],
   "source": [
    "print(sqr.pop(3)) # remove an item at the given index"
   ]
  },
  {
   "cell_type": "code",
   "execution_count": 93,
   "metadata": {},
   "outputs": [
    {
     "data": {
      "text/plain": [
       "16"
      ]
     },
     "execution_count": 93,
     "metadata": {},
     "output_type": "execute_result"
    }
   ],
   "source": [
    "sqr.pop(2)"
   ]
  },
  {
   "cell_type": "code",
   "execution_count": 94,
   "metadata": {},
   "outputs": [
    {
     "data": {
      "text/plain": [
       "[4, 9, 36]"
      ]
     },
     "execution_count": 94,
     "metadata": {},
     "output_type": "execute_result"
    }
   ],
   "source": [
    "sqr"
   ]
  },
  {
   "cell_type": "code",
   "execution_count": 95,
   "metadata": {},
   "outputs": [
    {
     "name": "stdout",
     "output_type": "stream",
     "text": [
      "[4, 9, 36, 169, 19, 29]\n"
     ]
    }
   ],
   "source": [
    "# We can also use ' + ' operator to join two lists. \n",
    "# This is also called concatenation as mentoned above.\n",
    "print(sqr + [169, 19 , 29])\n",
    "\n"
   ]
  },
  {
   "cell_type": "code",
   "execution_count": 97,
   "metadata": {},
   "outputs": [
    {
     "data": {
      "text/plain": [
       "[4, 9, 36, 4, 9, 36]"
      ]
     },
     "execution_count": 97,
     "metadata": {},
     "output_type": "execute_result"
    }
   ],
   "source": [
    "#The * operator repeats a list for the given number of times.\n",
    "a= sqr * 2\n",
    "\n",
    "a\n"
   ]
  },
  {
   "cell_type": "code",
   "execution_count": 98,
   "metadata": {},
   "outputs": [],
   "source": [
    "# Lets check if an item is in the list or not\n",
    "aaa = ['n','e','o']\n"
   ]
  },
  {
   "cell_type": "code",
   "execution_count": 99,
   "metadata": {},
   "outputs": [
    {
     "name": "stdout",
     "output_type": "stream",
     "text": [
      "True\n"
     ]
    }
   ],
   "source": [
    "print('n' in aaa)\n"
   ]
  },
  {
   "cell_type": "code",
   "execution_count": 100,
   "metadata": {},
   "outputs": [
    {
     "name": "stdout",
     "output_type": "stream",
     "text": [
      "False\n"
     ]
    }
   ],
   "source": [
    "print('a' in aaa)\n"
   ]
  },
  {
   "cell_type": "code",
   "execution_count": 101,
   "metadata": {},
   "outputs": [
    {
     "name": "stdout",
     "output_type": "stream",
     "text": [
      "True\n"
     ]
    }
   ],
   "source": [
    "print('k' not in aaa)"
   ]
  },
  {
   "cell_type": "markdown",
   "metadata": {},
   "source": [
    "---\n",
    "## Tuple\n",
    "\n",
    "A tuple is a collection which is similar to a list. The elements of a tuple are ordered and unchangeable while, in a list, elements can be changed. A Tuple is written with round brackets \"( )\", separated by commas. A tuple item may be any type (float, string, integer, list etc.) and have any number.\n"
   ]
  },
  {
   "cell_type": "code",
   "execution_count": 102,
   "metadata": {},
   "outputs": [],
   "source": [
    "tpl = ()         # create empty tuple\n",
    "tpl = (1, 2, 3)  # having integers\n",
    "tpl = (3.14, \"pi\", (22/7)) # tuple of different datatypes\n",
    "\n",
    "tpl = (\"week\",[2,4,6],(1,2,3)) # nested tuple"
   ]
  },
  {
   "cell_type": "code",
   "execution_count": 103,
   "metadata": {},
   "outputs": [
    {
     "name": "stdout",
     "output_type": "stream",
     "text": [
      "('week', [2, 4, 6], (1, 2, 3))\n"
     ]
    }
   ],
   "source": [
    "print(tpl)"
   ]
  },
  {
   "cell_type": "code",
   "execution_count": 104,
   "metadata": {},
   "outputs": [],
   "source": [
    "# A tuple created without parenthesis called tuple packing.\n",
    "\n",
    "tpl2 = 3.14, (22/7), \"pi\""
   ]
  },
  {
   "cell_type": "code",
   "execution_count": 105,
   "metadata": {},
   "outputs": [
    {
     "name": "stdout",
     "output_type": "stream",
     "text": [
      "(3.14, 3.142857142857143, 'pi')\n"
     ]
    }
   ],
   "source": [
    "print(tpl2)"
   ]
  },
  {
   "cell_type": "code",
   "execution_count": 106,
   "metadata": {},
   "outputs": [],
   "source": [
    "a, b, c = tpl2    # unpacking tuple\n",
    "\n",
    "    "
   ]
  },
  {
   "cell_type": "code",
   "execution_count": 107,
   "metadata": {},
   "outputs": [
    {
     "name": "stdout",
     "output_type": "stream",
     "text": [
      "3.14\n",
      "3.142857142857143\n",
      "pi\n"
     ]
    }
   ],
   "source": [
    "print(a)      \n",
    "print(b)      \n",
    "print(c)  "
   ]
  },
  {
   "cell_type": "markdown",
   "metadata": {},
   "source": [
    "#### Access items of a tuple\n",
    "\n",
    "##### _***1.Index Operator***_\n",
    "\n",
    "An index operator ([ ]) can be used to access the elements of a list. Index starts with 0 and must be an integer. If you access the index number out of the range it will cause <font color=red>IndexError</font>; if you use float or other types, it will cause <font color=red>TypeError</font> will occur."
   ]
  },
  {
   "cell_type": "code",
   "execution_count": 108,
   "metadata": {},
   "outputs": [
    {
     "name": "stdout",
     "output_type": "stream",
     "text": [
      "E\n"
     ]
    }
   ],
   "source": [
    "mytpl = ('E','n','g','i','n','e','e','r','i','n','g')\n",
    "\n",
    "print(mytpl[0])\n"
   ]
  },
  {
   "cell_type": "code",
   "execution_count": 109,
   "metadata": {},
   "outputs": [
    {
     "name": "stdout",
     "output_type": "stream",
     "text": [
      "g\n"
     ]
    }
   ],
   "source": [
    "print(mytpl[2])\n"
   ]
  },
  {
   "cell_type": "code",
   "execution_count": 110,
   "metadata": {},
   "outputs": [
    {
     "name": "stdout",
     "output_type": "stream",
     "text": [
      "r\n"
     ]
    }
   ],
   "source": [
    "print(mytpl[-4])"
   ]
  },
  {
   "cell_type": "code",
   "execution_count": 111,
   "metadata": {},
   "outputs": [
    {
     "ename": "TypeError",
     "evalue": "tuple indices must be integers or slices, not float",
     "output_type": "error",
     "traceback": [
      "\u001b[0;31m---------------------------------------------------------------------------\u001b[0m",
      "\u001b[0;31mTypeError\u001b[0m                                 Traceback (most recent call last)",
      "\u001b[0;32m<ipython-input-111-ae9f0c8bf7cc>\u001b[0m in \u001b[0;36m<module>\u001b[0;34m()\u001b[0m\n\u001b[0;32m----> 1\u001b[0;31m \u001b[0mmytpl\u001b[0m\u001b[0;34m[\u001b[0m\u001b[0;36m1.0\u001b[0m\u001b[0;34m]\u001b[0m          \u001b[0;31m#TypeError ! only integer can be used\u001b[0m\u001b[0;34m\u001b[0m\u001b[0;34m\u001b[0m\u001b[0m\n\u001b[0m",
      "\u001b[0;31mTypeError\u001b[0m: tuple indices must be integers or slices, not float"
     ]
    }
   ],
   "source": [
    "mytpl[1.0]          #TypeError ! only integer can be used "
   ]
  },
  {
   "cell_type": "code",
   "execution_count": 112,
   "metadata": {},
   "outputs": [],
   "source": [
    "nested = (\"Squares\", [4,9,16,25]) # Nested List\n"
   ]
  },
  {
   "cell_type": "code",
   "execution_count": 113,
   "metadata": {},
   "outputs": [
    {
     "name": "stdout",
     "output_type": "stream",
     "text": [
      "e\n"
     ]
    }
   ],
   "source": [
    "print(nested[0][5])    \n"
   ]
  },
  {
   "cell_type": "code",
   "execution_count": 114,
   "metadata": {},
   "outputs": [
    {
     "name": "stdout",
     "output_type": "stream",
     "text": [
      "16\n"
     ]
    }
   ],
   "source": [
    "print(nested[1][2])"
   ]
  },
  {
   "cell_type": "markdown",
   "metadata": {},
   "source": [
    "##### _***2.Slice Operator***_\n",
    "\n",
    "We can also access the elemts of a list by slicing operator.\n",
    "\n",
    "![](../Figures/blackwidow.jpg)\n"
   ]
  },
  {
   "cell_type": "code",
   "execution_count": 115,
   "metadata": {},
   "outputs": [
    {
     "name": "stdout",
     "output_type": "stream",
     "text": [
      "('b', 'l', 'a', 'c', 'k', 'w', 'i', 'd', 'o', 'w')\n"
     ]
    }
   ],
   "source": [
    "mytpl = ('b','l','a','c','k','w','i','d','o','w')\n",
    "\n",
    "print(mytpl[:]) # elements beginning to end\n"
   ]
  },
  {
   "cell_type": "code",
   "execution_count": 116,
   "metadata": {},
   "outputs": [
    {
     "name": "stdout",
     "output_type": "stream",
     "text": [
      "('w', 'i', 'd', 'o', 'w')\n"
     ]
    }
   ],
   "source": [
    "print(mytpl[5:11]) # elements 5th to 11th\n"
   ]
  },
  {
   "cell_type": "code",
   "execution_count": 117,
   "metadata": {},
   "outputs": [
    {
     "name": "stdout",
     "output_type": "stream",
     "text": [
      "('b', 'l', 'a', 'c', 'k')\n"
     ]
    }
   ],
   "source": [
    "print(mytpl[:-5]) # elements beginning to 4th\n"
   ]
  },
  {
   "cell_type": "code",
   "execution_count": 118,
   "metadata": {},
   "outputs": [
    {
     "name": "stdout",
     "output_type": "stream",
     "text": [
      "('k', 'w', 'i', 'd', 'o', 'w')\n"
     ]
    }
   ],
   "source": [
    "print(mytpl[4:]) # elements 5th to end \n"
   ]
  },
  {
   "cell_type": "code",
   "execution_count": 119,
   "metadata": {},
   "outputs": [],
   "source": [
    "# A tuple can be assigned to a different item called reassignment.\n",
    "mytpl = (4, 9, 16, [64, 81])"
   ]
  },
  {
   "cell_type": "code",
   "execution_count": 120,
   "metadata": {},
   "outputs": [
    {
     "data": {
      "text/plain": [
       "(4, 9, 16, [64, 81])"
      ]
     },
     "execution_count": 120,
     "metadata": {},
     "output_type": "execute_result"
    }
   ],
   "source": [
    "mytpl"
   ]
  },
  {
   "cell_type": "code",
   "execution_count": 121,
   "metadata": {},
   "outputs": [
    {
     "ename": "TypeError",
     "evalue": "'tuple' object does not support item assignment",
     "output_type": "error",
     "traceback": [
      "\u001b[0;31m---------------------------------------------------------------------------\u001b[0m",
      "\u001b[0;31mTypeError\u001b[0m                                 Traceback (most recent call last)",
      "\u001b[0;32m<ipython-input-121-39f56b24d20e>\u001b[0m in \u001b[0;36m<module>\u001b[0;34m()\u001b[0m\n\u001b[0;32m----> 1\u001b[0;31m \u001b[0mmytpl\u001b[0m\u001b[0;34m[\u001b[0m\u001b[0;36m1\u001b[0m\u001b[0;34m]\u001b[0m \u001b[0;34m=\u001b[0m \u001b[0;36m5\u001b[0m \u001b[0;31m# TypeError : 'tuple' object does not support item assignment\u001b[0m\u001b[0;34m\u001b[0m\u001b[0;34m\u001b[0m\u001b[0m\n\u001b[0m",
      "\u001b[0;31mTypeError\u001b[0m: 'tuple' object does not support item assignment"
     ]
    }
   ],
   "source": [
    "mytpl[1] = 5 # TypeError : 'tuple' object does not support item assignment"
   ]
  },
  {
   "cell_type": "code",
   "execution_count": 122,
   "metadata": {},
   "outputs": [
    {
     "ename": "TypeError",
     "evalue": "'int' object does not support item assignment",
     "output_type": "error",
     "traceback": [
      "\u001b[0;31m---------------------------------------------------------------------------\u001b[0m",
      "\u001b[0;31mTypeError\u001b[0m                                 Traceback (most recent call last)",
      "\u001b[0;32m<ipython-input-122-96eafa214ad8>\u001b[0m in \u001b[0;36m<module>\u001b[0;34m()\u001b[0m\n\u001b[0;32m----> 1\u001b[0;31m \u001b[0mmytpl\u001b[0m\u001b[0;34m[\u001b[0m\u001b[0;36m2\u001b[0m\u001b[0;34m]\u001b[0m\u001b[0;34m[\u001b[0m\u001b[0;36m0\u001b[0m\u001b[0;34m]\u001b[0m \u001b[0;34m=\u001b[0m \u001b[0;36m1\u001b[0m  \u001b[0;31m# mutable element item can be changed\u001b[0m\u001b[0;34m\u001b[0m\u001b[0;34m\u001b[0m\u001b[0m\n\u001b[0m",
      "\u001b[0;31mTypeError\u001b[0m: 'int' object does not support item assignment"
     ]
    }
   ],
   "source": [
    "mytpl[2][0] = 1  # mutable element item can be changed"
   ]
  },
  {
   "cell_type": "code",
   "execution_count": 123,
   "metadata": {},
   "outputs": [
    {
     "data": {
      "text/plain": [
       "('s', 'p', 'i', 'd', 'e', 'r')"
      ]
     },
     "execution_count": 123,
     "metadata": {},
     "output_type": "execute_result"
    }
   ],
   "source": [
    "mytpl = ('s','p','i','d','e','r') # reassigned\n",
    "mytpl"
   ]
  },
  {
   "cell_type": "code",
   "execution_count": null,
   "metadata": {},
   "outputs": [],
   "source": [
    "# We can also use ' + ' operator to join two tuplus. \n",
    "# This is also called concatenation as mentoned above.\n",
    "\n",
    "print((1, 2, 3) + (4, 5, 6))\n"
   ]
  },
  {
   "cell_type": "code",
   "execution_count": null,
   "metadata": {},
   "outputs": [],
   "source": [
    "# The * operator repeats a tuple for the given number of times.\n",
    "print('money' * 3)"
   ]
  },
  {
   "cell_type": "markdown",
   "metadata": {},
   "source": [
    "** PS : _Main difference between List and Tuple can be simply defines as : list can be changed or modified after its creation, whereas tuple can't._"
   ]
  },
  {
   "cell_type": "markdown",
   "metadata": {},
   "source": [
    "---\n",
    "## Dictionary\n",
    "\n",
    "A dictionary in the Python is an unordered, changable and indexed collection of items, which are written by curly brackets {}. A dicionary is a composition of key:value pairs. Each key has to retrieve a specific value.\n"
   ]
  },
  {
   "cell_type": "code",
   "execution_count": 124,
   "metadata": {},
   "outputs": [],
   "source": [
    "# Create and print a dictionary:\n",
    "\n",
    "earthquake = {\n",
    "  \"location\": \"Elazig\",\n",
    "  \"magnitude\": \"6.8\",\n",
    "  \"year\": 2020,\n",
    "  \"month\":\"January\"  \n",
    "}\n"
   ]
  },
  {
   "cell_type": "code",
   "execution_count": 125,
   "metadata": {},
   "outputs": [
    {
     "name": "stdout",
     "output_type": "stream",
     "text": [
      "{'location': 'Elazig', 'magnitude': '6.8', 'year': 2020, 'month': 'January'}\n"
     ]
    }
   ],
   "source": [
    "print(earthquake)"
   ]
  },
  {
   "cell_type": "code",
   "execution_count": 129,
   "metadata": {},
   "outputs": [
    {
     "data": {
      "text/plain": [
       "2020"
      ]
     },
     "execution_count": 129,
     "metadata": {},
     "output_type": "execute_result"
    }
   ],
   "source": [
    "# to access the items of the dictionary refer its key name.\n",
    "\n",
    "x = earthquake[\"location\"]\n",
    "#,or,\n",
    "x = earthquake.get(\"year\")\n",
    "x"
   ]
  },
  {
   "cell_type": "code",
   "execution_count": 131,
   "metadata": {},
   "outputs": [
    {
     "data": {
      "text/plain": [
       "'Sivrice-Elazig'"
      ]
     },
     "execution_count": 131,
     "metadata": {},
     "output_type": "execute_result"
    }
   ],
   "source": [
    "#change values of specific item;\n",
    "earthquake[\"location\"] = \"Sivrice-Elazig\"\n",
    "earthquake[\"location\"]"
   ]
  },
  {
   "cell_type": "code",
   "execution_count": 132,
   "metadata": {},
   "outputs": [
    {
     "name": "stdout",
     "output_type": "stream",
     "text": [
      "4\n"
     ]
    }
   ],
   "source": [
    "print(len(earthquake))   # gives number of the items in dictionary"
   ]
  },
  {
   "cell_type": "code",
   "execution_count": 133,
   "metadata": {},
   "outputs": [
    {
     "data": {
      "text/plain": [
       "5"
      ]
     },
     "execution_count": 133,
     "metadata": {},
     "output_type": "execute_result"
    }
   ],
   "source": [
    "earthquake[\"depth\"] = 16  # adding new item to the dictionary\n",
    "len(earthquake)"
   ]
  },
  {
   "cell_type": "code",
   "execution_count": 134,
   "metadata": {},
   "outputs": [],
   "source": [
    "# Creating an empty Dictionary \n",
    "\n",
    "guess = {} \n"
   ]
  },
  {
   "cell_type": "code",
   "execution_count": 135,
   "metadata": {},
   "outputs": [
    {
     "name": "stdout",
     "output_type": "stream",
     "text": [
      "{}\n"
     ]
    }
   ],
   "source": [
    "print(guess) "
   ]
  },
  {
   "cell_type": "code",
   "execution_count": 136,
   "metadata": {},
   "outputs": [],
   "source": [
    "# Adding elements one at a time \n",
    "guess[0] = 'time'\n",
    "guess[1] = 'place'\n"
   ]
  },
  {
   "cell_type": "code",
   "execution_count": 137,
   "metadata": {},
   "outputs": [
    {
     "name": "stdout",
     "output_type": "stream",
     "text": [
      "{0: 'time', 1: 'place'}\n"
     ]
    }
   ],
   "source": [
    "print(guess) "
   ]
  },
  {
   "cell_type": "code",
   "execution_count": 138,
   "metadata": {},
   "outputs": [],
   "source": [
    "# Adding set of values to a single Key \n",
    "guess[2] = 'anywhere'\n",
    "guess[3] = 'anytime'\n"
   ]
  },
  {
   "cell_type": "code",
   "execution_count": 139,
   "metadata": {},
   "outputs": [
    {
     "name": "stdout",
     "output_type": "stream",
     "text": [
      "{0: 'time', 1: 'place', 2: 'anywhere', 3: 'anytime'}\n"
     ]
    }
   ],
   "source": [
    "print(guess) "
   ]
  },
  {
   "cell_type": "code",
   "execution_count": null,
   "metadata": {},
   "outputs": [],
   "source": [
    "# Ways to remove items from the dictionary;\n",
    "\n",
    "earthquake.pop(\"location\")  # removes the item with the specified key name\n",
    "earthquake.popitem()        # removes the last inserted item\n",
    "del earthquake[\"month\"]     # removes the item with the specified key name\n",
    "newdict = earthquake.copy() # copies the dictionary\n",
    "earthquake.clear()          # empties the dictionar"
   ]
  },
  {
   "cell_type": "code",
   "execution_count": 140,
   "metadata": {},
   "outputs": [],
   "source": [
    "# Sort a dicionary by \"keys\" or by \"values\"\n",
    "eqs = {'Elazig': 5.4, 'Izmir': 5.1, \n",
    "       'Kermadec Island': 7.2, 'Samos Island': 4.8, \n",
    "       'Antalya': 4.1}\n",
    "\n",
    "# Sort of earthquakes by their magnitudes in ascending order\n",
    "eqs_sorted = sorted(eqs.items(), key=lambda x: x[1])\n"
   ]
  },
  {
   "cell_type": "code",
   "execution_count": 141,
   "metadata": {},
   "outputs": [
    {
     "name": "stdout",
     "output_type": "stream",
     "text": [
      "[('Antalya', 4.1), ('Samos Island', 4.8), ('Izmir', 5.1), ('Elazig', 5.4), ('Kermadec Island', 7.2)]\n"
     ]
    }
   ],
   "source": [
    "print(eqs_sorted)"
   ]
  },
  {
   "cell_type": "markdown",
   "metadata": {},
   "source": [
    "##### **_What is \"lambda\" for in Python?_**"
   ]
  },
  {
   "cell_type": "code",
   "execution_count": 142,
   "metadata": {},
   "outputs": [
    {
     "data": {
      "text/plain": [
       "10"
      ]
     },
     "execution_count": 142,
     "metadata": {},
     "output_type": "execute_result"
    }
   ],
   "source": [
    "# _What is \"lambda\" for in Python?_\n",
    "# \"lambda\" is a keyword to define \"no name\" functions\n",
    "\n",
    "second_order_func = lambda x, y: x**2 + y\n",
    "second_order_func(3, 1)"
   ]
  },
  {
   "cell_type": "markdown",
   "metadata": {},
   "source": [
    "---\n",
    "## Arrays\n",
    "\n",
    "We defined a dictionary for an earthquake with its specified features or items. Lets assume that we have thousands of earthquakes listed with different values (for example; magnitude ranges between 3 to 7, depth changes between 5km to 20 km. etc.) To access the specified earthquake, or a group of earthquakes we can use _arrays_ in Python.\n",
    "\n",
    "_Arrays_ are used to store multiple values in a single variable. Lists can do, too. List can also a data structure that offers a sequence of datatypes while arrays can only stores values of same datatype."
   ]
  },
  {
   "cell_type": "code",
   "execution_count": 145,
   "metadata": {},
   "outputs": [],
   "source": [
    "#Lets assign different types of magnitudes to a key;\n",
    "\n",
    "M = [\"Ml\", \"Mw\", \"Mb\"]  # single key can hold multiple variable.\n",
    "m1 = \"Ml\"\n",
    "m2 = \"Mw\"\n",
    "m3 = \"Mb\"\n",
    "\n",
    "a = M[0]     # value of the first array item\n",
    "M[0] = \"Md\"  # reassign first array item\n"
   ]
  },
  {
   "cell_type": "code",
   "execution_count": 146,
   "metadata": {},
   "outputs": [
    {
     "name": "stdout",
     "output_type": "stream",
     "text": [
      "['Md', 'Mw', 'Mb']\n"
     ]
    }
   ],
   "source": [
    "print(M)"
   ]
  },
  {
   "cell_type": "code",
   "execution_count": 148,
   "metadata": {},
   "outputs": [],
   "source": [
    "a = len(M)   # number of elements in an array\n"
   ]
  },
  {
   "cell_type": "code",
   "execution_count": 149,
   "metadata": {},
   "outputs": [
    {
     "name": "stdout",
     "output_type": "stream",
     "text": [
      "3\n"
     ]
    }
   ],
   "source": [
    "print(a)"
   ]
  },
  {
   "cell_type": "code",
   "execution_count": 152,
   "metadata": {},
   "outputs": [
    {
     "data": {
      "text/plain": [
       "['Md', 'Mw', 'Mb', 'Ml', 'Ml', 'Ml']"
      ]
     },
     "execution_count": 152,
     "metadata": {},
     "output_type": "execute_result"
    }
   ],
   "source": [
    "M.append('Ml')  # add an element to an array\n",
    "M"
   ]
  },
  {
   "cell_type": "code",
   "execution_count": null,
   "metadata": {},
   "outputs": [],
   "source": [
    "M.pop(1)        # remove an element from the array"
   ]
  },
  {
   "cell_type": "code",
   "execution_count": null,
   "metadata": {},
   "outputs": [],
   "source": [
    "M.remove('Mb')  # remove the element that has the value \"Mb\""
   ]
  },
  {
   "cell_type": "markdown",
   "metadata": {},
   "source": [
    "---"
   ]
  },
  {
   "cell_type": "markdown",
   "metadata": {},
   "source": [
    "## Homework #2\n",
    "\n",
    "_As a first part of your code;_\n",
    "\n",
    "- Please select 6 of your courses from your previous semester. \n",
    "- Create a **list** by using the _GTU_code_ of your courses you selected (as CE103, MATH101 etc.), \n",
    "- Create another **list** by using your _\"Passing Grades\"_ of the courses you selected in the same order,\n",
    "- Create another **list** with your _\"ACTS Credits\"_ of the courses you selected in the same order,\n",
    "- Using the list of your  _\"passing grades\"_  list and your _\"ACTS Credits\"_ list, write a code that calculates and creates your _\"GPA\"_ grade **list** by using the steps below:\n",
    "  \n",
    "    1. **_PassGrds_All =  _Add up all PassGrade points_**\n",
    "    2. **_Divide the added grade points (PassGrds_All) by the number of class credits taken from the cources you select._**\n",
    "\n",
    "\n",
    "\n",
    "_As a second part of your code;_\n",
    "\n",
    "- Create a **dictionary** where the **key** will be taken from the _GTU_code_ of your courses list that you created and **value** will be taken from the _\"Passing Grades\"_ list you created,\n",
    "- **Print** your dictionary on the screen, \n",
    "- **Sort** the dictionary in Descending Order with the \"value\" and **print** it again on the screen.\n",
    "\n",
    "\n",
    "*** Convert every letter grade to its respective points (A=4, B=3, C=2, D=1, F=0.)\n",
    "\n",
    "PS: Do not forget to upload your \"HWX_namesurname.ipynb\" files to http://gtuzem.gtu.edu.tr/\n",
    "\n",
    "---"
   ]
  },
  {
   "cell_type": "code",
   "execution_count": null,
   "metadata": {},
   "outputs": [],
   "source": []
  }
 ],
 "metadata": {
  "kernelspec": {
   "display_name": "Python 3",
   "language": "python",
   "name": "python3"
  },
  "language_info": {
   "codemirror_mode": {
    "name": "ipython",
    "version": 3
   },
   "file_extension": ".py",
   "mimetype": "text/x-python",
   "name": "python",
   "nbconvert_exporter": "python",
   "pygments_lexer": "ipython3",
   "version": "3.6.7"
  }
 },
 "nbformat": 4,
 "nbformat_minor": 4
}
