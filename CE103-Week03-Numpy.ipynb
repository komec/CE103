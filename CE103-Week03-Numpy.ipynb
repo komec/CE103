{
 "cells": [
  {
   "cell_type": "markdown",
   "metadata": {},
   "source": [
    "### CE 103- INTRODUCTION TO COMPUTERS and PROGRAMMING"
   ]
  },
  {
   "cell_type": "markdown",
   "metadata": {},
   "source": [
    "### _The topics of the week !_\n",
    "\n",
    "- Numerical Routines **_NumPy_**\n",
    "    - Array\n",
    "    - Multidimensional Arrays\n",
    "    - Matrix manipulations"
   ]
  },
  {
   "cell_type": "markdown",
   "metadata": {},
   "source": [
    "#### List VS Array\n",
    "\n",
    "We learned about both lists and arrays last week, but, what is the difference between them? When to use an array or a list in Python? \n",
    "\n",
    "Python has lots of data structures with different functions and features. Lists, tuples, dictionaries are some of the built-in data structures that you don't have to import. But array is an additional data structure that _has to be imported_ as a module or an extra package. To use an array, it has to be imported from the **_NumPy package_**.\n",
    "\n",
    "![](./Figures/array_vs_list.png)\n",
    "\n",
    "So, if you have a relatively short sequence of items and you don't plan to use any mathematical operation, its better to use list, on the other hands, if you have a very long data sequence (in same datatype) **_NumPy package_** will be very useful and highly recommended even if you plan to use mathematical operations. \n",
    "\n",
    "## Array in Python \n",
    "\n",
    "Array is a python module which defines the data structure holds a fix number of items with same datatypes. An array stores items which called \"elements\" and each location of an element described by \"index\". \"Element\" and \"index\" are important terms to understand the concept of array. \n",
    "\n",
    "To use arrays in Python, we need to import **_NumPy package_**. Because array is not a fundamental data type like strings, integer etc., we need to import the  **_NumPy package_** and declare an array. An array referred as _\"ndarray\"_  is shorthand for N-dimensional array which is with any number of dimension.\n"
   ]
  },
  {
   "cell_type": "markdown",
   "metadata": {},
   "source": [
    "---\n",
    "# NumPy\n",
    "\n",
    "NumPy (Numerical Python) is an open source Python library which is very useful general-purpose array-processing package and **a core of the scientific and engineering computing ecosystem** of Python. It includes multidimensional array object, broadcasting functions, linear algebra calculations, Fourier transform and more. The NumPy library also contains matrix data structures and can be used to perform mathematical operations on arrays. NumPy can allow a wide variety of datatypes speedly. \n",
    "\n",
    "If you have Python you can install NumPy as below;\n",
    "\n",
    "<font color=blue>conda install numpy<font>\n",
    "\n",
    ",or,\n",
    "\n",
    "<font color=blue>pip install numpy<font>\n",
    "\n",
    "#### **How to import NumPy ?**\n",
    "\n",
    "We prefer NumPy because it provides an enormous range of fast and efficient mathematical operations. \n",
    "Not only for NumPy but also for all packages or libraries in Python, you need to use statement **_\"import\"_** to make them accessible.  "
   ]
  },
  {
   "cell_type": "code",
   "execution_count": null,
   "metadata": {},
   "outputs": [],
   "source": [
    "import numpy as np"
   ]
  },
  {
   "cell_type": "markdown",
   "metadata": {},
   "source": [
    ": np stands for an abbreviation in order to keep code standardized and make it easier to understand and faster to run. "
   ]
  },
  {
   "cell_type": "markdown",
   "metadata": {},
   "source": [
    "The command below will bring you to the reference documentation;\n",
    "\n",
    "<font color=green>help(<font><font color=black>np.<font><font color=blue>array<font><font color=green>)<font>"
   ]
  },
  {
   "cell_type": "markdown",
   "metadata": {},
   "source": [
    "---\n",
    "\n",
    "### **NumPy Array**\n",
    "\n",
    "The NumPy array can be defined as a grid of elements which can be indexed in various ways. An array in Numpy is a table of element with same type which indexed by tuple of positive integers. Tuple of integers giving the size of the array is the **_shape_** of an array. Dimensions of a NumPy array is called **_axes_**. The number of axes in array called **_rank_**. A **_vector_** is an array with a single column, a **_matrix_** is an array with multiple columns."
   ]
  },
  {
   "cell_type": "code",
   "execution_count": null,
   "metadata": {},
   "outputs": [],
   "source": [
    "import numpy as np\n",
    "\n",
    "a = np.array([1,2,3])  # this is a rank = 1 array\n",
    "\n",
    "print(type(a))   # print type of the array\n",
    "print(a[1])      # indexing elements of array\n",
    "print(a.dtype)   # print type of elements in array\n",
    "print(a.shape)   # print shape of array\n",
    "print(a.ndim)    # print number of dimensions (axes)\n",
    "print(a.size)    # print size of the array (number of elements)"
   ]
  },
  {
   "cell_type": "code",
   "execution_count": null,
   "metadata": {},
   "outputs": [],
   "source": [
    "import numpy as np\n",
    "b = np.array([[1,2,3],[4,5,6]])\n",
    "print(b.shape)\n",
    "print(type(b[1,1]))"
   ]
  },
  {
   "cell_type": "markdown",
   "metadata": {},
   "source": [
    "---\n",
    "#### **_Specify a numpy array with fuctions;_**"
   ]
  },
  {
   "cell_type": "code",
   "execution_count": null,
   "metadata": {},
   "outputs": [],
   "source": [
    "import numpy as np\n",
    "\n",
    "a= np.zeros((3,4))     # create an array of zeros\n",
    "print(a,'\\n')\n",
    "\n",
    "b = np.ones((2,3))     # create an array of ones\n",
    "print(b,'\\n')\n",
    "\n",
    "c = np.random.random((1,3))  # create an array of random numbers\n",
    "print(c,'\\n')\n",
    "\n",
    "d = np.full((3,2),5)  # create a constant array\n",
    "print(d,'\\n')"
   ]
  },
  {
   "cell_type": "code",
   "execution_count": null,
   "metadata": {},
   "outputs": [],
   "source": [
    "e = np.eye(3)        # create an identity array: a square array with ones on the main diagonal.\n",
    "print(e,'\\n')"
   ]
  },
  {
   "cell_type": "code",
   "execution_count": null,
   "metadata": {},
   "outputs": [],
   "source": [
    "f = np.array([[1, 3, 5], [7, 9, 11]], dtype = 'float')  # create array from a float type list (or 'str' for string type)\n",
    "print(f,'\\n')"
   ]
  },
  {
   "cell_type": "code",
   "execution_count": null,
   "metadata": {},
   "outputs": [],
   "source": [
    "gg = np.arange(5)      # create an array of integers upto 5\n",
    "print(gg)\n",
    "\n",
    "g = np.arange(1, 12, 2)  # create an array of integers between 1 to 12 with steps 2 (first #, last #, step size)\n",
    "print(g,'\\n')"
   ]
  },
  {
   "cell_type": "code",
   "execution_count": null,
   "metadata": {},
   "outputs": [],
   "source": [
    "h = np.linspace(5, 15, 4) # create an array with 4 items between 5 to 15 \n",
    "print(h,'\\n') "
   ]
  },
  {
   "cell_type": "code",
   "execution_count": null,
   "metadata": {},
   "outputs": [],
   "source": [
    "i = np.random.random((4,4))  # create an 4x4 array with the elements of random numbers \n",
    "print(i)\n",
    "\n",
    "j = i.reshape(2,2,2,2)   \n",
    "print(j)  "
   ]
  },
  {
   "cell_type": "code",
   "execution_count": null,
   "metadata": {},
   "outputs": [],
   "source": [
    "j = i.reshape(4,1,4,1)   \n",
    "print(j) "
   ]
  },
  {
   "cell_type": "code",
   "execution_count": null,
   "metadata": {},
   "outputs": [],
   "source": [
    "k = np.array([[1, 2, 3], [4, 5, 6]])\n",
    "l = k.reshape(-1)\n",
    "print(l) "
   ]
  },
  {
   "cell_type": "markdown",
   "metadata": {},
   "source": [
    "---\n",
    "#### **_more array functions;_**\n"
   ]
  },
  {
   "cell_type": "code",
   "execution_count": null,
   "metadata": {},
   "outputs": [],
   "source": [
    "a = np.array([4, 2, 1, 5, 3])\n",
    "print(np.append(a, [8,8]))         # Appends values to end of array\n",
    "print(np.insert(a, 2, 55))         # Inserts values into array before index 2 (array,index,values)\n",
    "print(np.delete(a, 3, axis = 0))   # delete row on index 3 of array\n",
    "print(np.sort(a))"
   ]
  },
  {
   "cell_type": "code",
   "execution_count": null,
   "metadata": {},
   "outputs": [],
   "source": [
    "# comparison of two different array\n",
    "\n",
    "a = np.array([1, 2, 3, 4])\n",
    "b = np.array([5, 6, 1, 2])\n",
    "\n",
    "print(a == b)\n",
    "print(a > b)\n",
    "\n",
    "# ,or, array-wise comparison can be used as below;\n",
    "print(np.array_equal(a, b))\n"
   ]
  },
  {
   "cell_type": "markdown",
   "metadata": {},
   "source": [
    "---\n",
    "#### **_shape and resize array;_**\n"
   ]
  },
  {
   "cell_type": "code",
   "execution_count": null,
   "metadata": {},
   "outputs": [],
   "source": [
    "i = np.random.random([4,4])\n",
    "print(i)\n",
    "\n",
    "i.ndim           # gives number of dimensions of the array \n",
    "print(i.ndim)\n",
    "\n",
    "print(np.size(i))  # gives total number of elements of the array\n",
    "np.shape(i)        # gives the shape of the array\n",
    "\n"
   ]
  },
  {
   "cell_type": "code",
   "execution_count": null,
   "metadata": {},
   "outputs": [],
   "source": [
    "a = np.array([1, 2, 3, 4, 5, 6, 7, 8])\n",
    "\n",
    "#b = a.reshape(3,2) # gives a new shape to an array with same items, both arrays should have same number of elements.\n",
    "b = a.reshape(4, 2)\n",
    "print(b)"
   ]
  },
  {
   "cell_type": "markdown",
   "metadata": {},
   "source": [
    "---\n",
    "#### **_Array indexing;_**\n",
    "\n",
    "Arrays can be multidimensional, we should specify a slice for each dimension, just like in list operations."
   ]
  },
  {
   "cell_type": "code",
   "execution_count": null,
   "metadata": {},
   "outputs": [],
   "source": [
    "a = np.array([[1,3,5],[2,4,6],[7,8,9]])\n",
    "print(a,'\\n')\n",
    "\n",
    "b = a[:2,0:2]  # pull out the subarray of first 2 rows and columns 0 to 1\n",
    "print(b,'\\n')\n"
   ]
  },
  {
   "cell_type": "code",
   "execution_count": null,
   "metadata": {},
   "outputs": [],
   "source": [
    "print(a[1,2])  # element value at 1th row, 2nd column "
   ]
  },
  {
   "cell_type": "code",
   "execution_count": null,
   "metadata": {},
   "outputs": [],
   "source": [
    "b[0,1] = 11\n",
    "print(b)"
   ]
  },
  {
   "cell_type": "code",
   "execution_count": null,
   "metadata": {},
   "outputs": [],
   "source": [
    "a = np.array([[1,3,5],[2,4,6],[7,8,9]])\n",
    "\n",
    "row1 = a[0, :]   \n",
    "row2 = a[1:2, :]\n",
    "print(row1, row2)\n",
    "\n",
    "col1 = a[:,1]\n",
    "col2 = a[:, 1:2]\n",
    "print(col1, col2)"
   ]
  },
  {
   "cell_type": "code",
   "execution_count": null,
   "metadata": {},
   "outputs": [],
   "source": [
    "a = np.array([[1,3,5],[2,4,6],[7,8,9]])\n",
    "\n",
    "print(a[[0, 1, 2], [0, 1, 0]])\n",
    "print(np.array([a[0, 0], a[1, 1], a[2, 0]]))"
   ]
  },
  {
   "cell_type": "code",
   "execution_count": null,
   "metadata": {},
   "outputs": [],
   "source": [
    "a = np.array([[1,3,5],[2,4,6],[7,8,9]])\n",
    "a[np.arange(3)] += 10\n",
    "print(a)"
   ]
  },
  {
   "cell_type": "code",
   "execution_count": null,
   "metadata": {},
   "outputs": [],
   "source": [
    "a = np.array([[3,4], [7, 1], [2, 4]])\n",
    "bool_idx = (a > 2)\n",
    "print(bool_idx) \n",
    "\n",
    "print(a[bool_idx])   # print the values \"true\" for the condition a > 2\n",
    "print(a[a > 2])"
   ]
  },
  {
   "cell_type": "markdown",
   "metadata": {},
   "source": [
    "---\n",
    "#### **_Datatypes_**\n",
    "\n",
    "\"dtype' command can be used to identify the type of an array"
   ]
  },
  {
   "cell_type": "code",
   "execution_count": null,
   "metadata": {},
   "outputs": [],
   "source": [
    "a = np.array([1,2])\n",
    "print(a.dtype)         # Returns type of elements in array"
   ]
  },
  {
   "cell_type": "code",
   "execution_count": null,
   "metadata": {},
   "outputs": [],
   "source": [
    "a = np.array([1.0, 2.0]) \n",
    "print(a.dtype)           "
   ]
  },
  {
   "cell_type": "code",
   "execution_count": null,
   "metadata": {},
   "outputs": [],
   "source": [
    "a = np.array([1, 2], dtype=np.int64) \n",
    "print(a.dtype)                    "
   ]
  },
  {
   "cell_type": "code",
   "execution_count": null,
   "metadata": {},
   "outputs": [],
   "source": [
    "a = np.array([1,2])\n",
    "a.tolist()           # Convert array to a Python list"
   ]
  },
  {
   "cell_type": "code",
   "execution_count": null,
   "metadata": {},
   "outputs": [],
   "source": [
    "np.info(np.eye)    # View documentation for \"ones\" properties"
   ]
  },
  {
   "cell_type": "markdown",
   "metadata": {},
   "source": [
    "---\n",
    "#### **_Basic array operations_**\n",
    "\n",
    "_Addition, subtraction, multiplication, division, etc._"
   ]
  },
  {
   "cell_type": "code",
   "execution_count": null,
   "metadata": {},
   "outputs": [],
   "source": [
    "# Lets define two different arrays; \n",
    "\n",
    "data = np.random.random([1,2])\n",
    "ones = np.ones(2)\n",
    "\n",
    "print(data, ones)\n",
    "\n",
    "data + ones\n",
    "data - ones\n",
    "data * ones\n",
    "data / data\n",
    "\n",
    "#Operation between a vector and a scalar is allowed.\n",
    "\n",
    "data * 2.5"
   ]
  },
  {
   "cell_type": "markdown",
   "metadata": {},
   "source": [
    " _Maxinum, minimum, sum, mean, product, standard deviation, etc._"
   ]
  },
  {
   "cell_type": "code",
   "execution_count": null,
   "metadata": {},
   "outputs": [],
   "source": [
    "a = np.random.random([3,])\n",
    "print(a)"
   ]
  },
  {
   "cell_type": "code",
   "execution_count": null,
   "metadata": {},
   "outputs": [],
   "source": [
    "b = np.random.rand(2,3)      # 2x3 array of random floats between 0–1\n",
    "print(b)"
   ]
  },
  {
   "cell_type": "code",
   "execution_count": null,
   "metadata": {},
   "outputs": [],
   "source": [
    "c = np.random.rand(3,1)*100  # 3x1 array of random floats between 0–100\n",
    "print(c)"
   ]
  },
  {
   "cell_type": "code",
   "execution_count": null,
   "metadata": {},
   "outputs": [],
   "source": [
    "d = np.random.randint(14,size=(3,5))    # 3x5 array with random ints between 0–14\n",
    "print(d)"
   ]
  },
  {
   "cell_type": "code",
   "execution_count": null,
   "metadata": {},
   "outputs": [],
   "source": [
    "print(d.max())     # find the maximum value element in array\n",
    "print(d.min())     # fint the minimum value element in array\n",
    "print(d.sum())     # find the sum of the elements in array"
   ]
  },
  {
   "cell_type": "code",
   "execution_count": null,
   "metadata": {},
   "outputs": [],
   "source": [
    "# we can use arithmetic operators to do element-wise operation on array;\n",
    "\n",
    "a = np.array([1, 2, 5, 3]) \n",
    "  \n",
    "print(a+3)     # add a scalar to each element of array \n",
    "print(a-3)      # subtract a scalar from each element of array \n",
    "print(a*2)      # multiply each element by 2 \n",
    "print(a**2)     # calculate square of each element  \n",
    "\n",
    "# we can also multiply array by a scalar as below;\n",
    "a *= 2\n",
    "print (a) # modify existing array \n",
    "  "
   ]
  },
  {
   "cell_type": "code",
   "execution_count": null,
   "metadata": {},
   "outputs": [],
   "source": [
    "# we can use arithmetic operators to do operation on array;\n",
    "  \n",
    "a = np.array([[1, 3], [5, 7]]) \n",
    "b = np.array([[2, 4], [6, 8]]) \n",
    "   \n",
    "print (a + b)       # add arrays with eachother\n",
    "print (a * b)       # multiply arrays (elementwise multiplication)\n",
    "print (a.dot(b))    # matrix multiplication"
   ]
  },
  {
   "cell_type": "code",
   "execution_count": null,
   "metadata": {},
   "outputs": [],
   "source": [
    "#we can also sort a NumPy array by np.sort;\n",
    "\n",
    "a = np.array([[1, 4, 2], \n",
    "              [3, 4, 6], \n",
    "              [0, -1, 5]])\n",
    "\n",
    "print(np.sort(a, axis = None))  # Array elements in sorted orde\n",
    "    \n",
    "print(np.sort(a, axis = 1))    # sort array row-wise"
   ]
  },
  {
   "cell_type": "code",
   "execution_count": null,
   "metadata": {},
   "outputs": [],
   "source": [
    "# NumPy also provides mathematical functions such as sin, cos, exp, transpose etc.\n",
    "\n",
    "a = np.array([np.pi/2, np.pi*2, 3.14]) # create an array of sine values \n",
    "print (np.cos(a)) \n",
    "  \n",
    "b = np.array([1, 2, 3]) # exponential values \n",
    "print (np.exp(b)) \n",
    "  \n",
    "print(np.sqrt(b)) # square root of array values\n",
    "print(np.log(b))  # logarithmic values of array elements\n",
    "\n",
    "b = np.array([[1, 2, 3], [3, 4, 5], [9, 6, 0]]) \n",
    "print (\"\\nOriginal array:\\n\", b) \n",
    "print (\"Transpose of array:\\n\", b.T) # transpose of array "
   ]
  },
  {
   "cell_type": "code",
   "execution_count": null,
   "metadata": {},
   "outputs": [],
   "source": [
    "# we can find unique element in an array\n",
    "\n",
    "a = np.array([1, 1, 2, 3, 4, 5, 6, 7, 2, 3, 1, 4, 12, 8, 9, 0])\n",
    "print(np.unique(a))\n"
   ]
  },
  {
   "cell_type": "markdown",
   "metadata": {},
   "source": [
    "---\n",
    "#### **_Summary of basic Matrices and Matrix Operations_**\n",
    "\n",
    "- A matrix is a rectangular or square **_array_** of numbers which are arranged in **rows**(a set of numbers aligned horizontally in a matrix) and **columns**(a set of numbers aligned vertically in a matrix).\n",
    "- Numbers of rows and columns of a matrix refer to its' **dimensions**. For example; a 2x3 (2 by 3) matrix has two rows and three columns. \n",
    "- Each number in the matrix is called **_element_**. \n",
    "- Matrices generally used in algebra to solve unknown values in **linear equations** and to solve **vector operations** in geometry.\n",
    "\n"
   ]
  },
  {
   "cell_type": "markdown",
   "metadata": {},
   "source": [
    "For the matrices with same dimension, we can _add_ or _subtract_ them with each other. Also matrices may be _multiply_ with each other (when inner dimensions are the same) or any constant, as shown below.\n",
    "\n",
    "<p class=\"aligncenter\" >  <img src=\"./Figures/ce103_1.jpg\" width = 50% alt=\"centered image\"  > </p>\n"
   ]
  },
  {
   "cell_type": "markdown",
   "metadata": {},
   "source": [
    "Multiplication process of the matrices in different dimensions are given below. Each element in the first row of matrix _A_ multiplies with each element of first column of matrix _B_, summation of them equals to the firts element of the matrix _C_. \n",
    "<p align=\"centre\">  <img src=\"./Figures/ce103_3.jpg\" width = 50% > </p>"
   ]
  },
  {
   "cell_type": "markdown",
   "metadata": {},
   "source": [
    "To get the _Transpose_ of matrix in any dimention, we swap the rows for the columns.\n",
    "<p align=\"centre\">  <img src=\"./Figures/ce103_2.jpg\" width = 50% > </p>"
   ]
  },
  {
   "cell_type": "markdown",
   "metadata": {},
   "source": [
    "---\n",
    "#### **_Matrix manipulations with Numpy;_**"
   ]
  },
  {
   "cell_type": "code",
   "execution_count": null,
   "metadata": {},
   "outputs": [],
   "source": [
    "# Lets define an array which we can manipulate matrices also;\n",
    "\n",
    "a = np.array([[1,2],[3,4]])\n",
    "print(a)\n",
    "\n",
    "print(a[0,1])\n",
    "print(a[1::])\n",
    "print(a[:,0])"
   ]
  },
  {
   "cell_type": "code",
   "execution_count": null,
   "metadata": {},
   "outputs": [],
   "source": [
    "print(a.max())     # find the maximum value element in matrix\n",
    "print(a.min())     # fint the minimum value element in matrix\n",
    "print(a.sum())     # find the sum of the elements in matrix"
   ]
  },
  {
   "cell_type": "markdown",
   "metadata": {},
   "source": [
    "![](./Figures/array-sum.png)"
   ]
  },
  {
   "cell_type": "code",
   "execution_count": null,
   "metadata": {},
   "outputs": [],
   "source": [
    "print(a.sum(axis=0))  # column sums\n",
    "print(a.sum(axis=1))  # row sums"
   ]
  },
  {
   "cell_type": "code",
   "execution_count": null,
   "metadata": {},
   "outputs": [],
   "source": [
    "# find maximum and minimum rows or columns of the matrix\n",
    "print(a.max(axis=0))\n",
    "print(a.max(axis=1))"
   ]
  },
  {
   "cell_type": "code",
   "execution_count": null,
   "metadata": {},
   "outputs": [],
   "source": [
    "# Two matrices at same size can be multiply or add with each other\n",
    "\n",
    "data = np.random.random([2,3])\n",
    "ones = np.ones([2,3])\n",
    "\n",
    "print(data)\n",
    "print(ones)\n",
    "\n",
    "a = data + ones\n",
    "print(a)\n",
    "\n",
    "# Arithmetic operations on matrices with different size con do if only one matrix thas only one column or row\n",
    "\n",
    "b = data + np.ones([1,3])\n"
   ]
  },
  {
   "cell_type": "markdown",
   "metadata": {},
   "source": [
    "For matrix multiplications use the **_dot_** function to compute inner product of vector instead of **' * '** that unlike MATLAB. **_dot_** product can also be used for a vector by a matrix or matrix by matrix multiplications."
   ]
  },
  {
   "cell_type": "code",
   "execution_count": null,
   "metadata": {},
   "outputs": [],
   "source": [
    "x = np.array([[1,2],[3,4]])\n",
    "y = np.array([[5,6],[7,8]])\n",
    "\n",
    "a = np.array([2,4])\n",
    "b = np.array([1,2])\n",
    "\n",
    "print(a.dot(b))         # Inner product of vectors\n",
    "print(np.dot(a, b))\n",
    "\n",
    "print(x.dot(a))         # Matrix / vector product\n",
    "print(np.dot(x, a))\n",
    "\n",
    "print(x.dot(y))         # Matrix / matrix product\n",
    "print(np.dot(x, y))"
   ]
  },
  {
   "cell_type": "code",
   "execution_count": null,
   "metadata": {},
   "outputs": [],
   "source": [
    "# to transpose a matrix, use the T attribute of an array object:\n",
    "\n",
    "a = np.array([[1,2], [3,4]])\n",
    "\n",
    "print(a, '\\n') \n",
    "print(a.T,'\\n')   "
   ]
  },
  {
   "cell_type": "code",
   "execution_count": null,
   "metadata": {},
   "outputs": [],
   "source": [
    "a = np.arange(15).reshape(3,5)\n",
    "print(a)"
   ]
  },
  {
   "cell_type": "code",
   "execution_count": null,
   "metadata": {},
   "outputs": [],
   "source": [
    "a = np.arange(25).reshape(5,5)\n",
    "print(a)\n",
    "print(a.diagonal())\n",
    "print(a.diagonal(1))\n",
    "print(a.diagonal(-1))\n",
    "print(a.diagonal(-2))"
   ]
  },
  {
   "cell_type": "code",
   "execution_count": null,
   "metadata": {},
   "outputs": [],
   "source": [
    "a = np.array([[1,2], [3,4]])\n",
    "\n",
    "print(np.reshape(a,[4,1]))  # shape refers to the array size or dimension size\n",
    "np.transpose(a)"
   ]
  },
  {
   "cell_type": "markdown",
   "metadata": {},
   "source": [
    "---\n",
    "#### **_N-dimensional arrays_**\n",
    "\n",
    "![](./Figures/3d-array.png)\n",
    "\n",
    "Not only 3D, but also an array may be in 4 or more dimensional. N-dimensional arrays are widely used in Machine Learning algorithms. Here is an example of 3D NumPy array given below;"
   ]
  },
  {
   "cell_type": "code",
   "execution_count": null,
   "metadata": {},
   "outputs": [],
   "source": [
    "a = np.random.random((4,3,2))  # refers 3D array with 3 values as 4,3,2.\n",
    "print(a)"
   ]
  },
  {
   "cell_type": "code",
   "execution_count": null,
   "metadata": {},
   "outputs": [],
   "source": [
    "a.std()   # calculates the standart deviation of elements in array"
   ]
  },
  {
   "cell_type": "code",
   "execution_count": null,
   "metadata": {},
   "outputs": [],
   "source": [
    "a.var()   # calculates variance of the array"
   ]
  },
  {
   "cell_type": "code",
   "execution_count": null,
   "metadata": {},
   "outputs": [],
   "source": [
    "a.mean()   # calculates the average value of array"
   ]
  },
  {
   "cell_type": "code",
   "execution_count": null,
   "metadata": {},
   "outputs": [],
   "source": [
    "a.cumsum()  # calculates the cumulative summation of elements in the array"
   ]
  },
  {
   "cell_type": "code",
   "execution_count": null,
   "metadata": {},
   "outputs": [],
   "source": [
    "a.trace(-2)  # perform a summation of each diagonal."
   ]
  },
  {
   "cell_type": "code",
   "execution_count": null,
   "metadata": {},
   "outputs": [],
   "source": [
    "a = np.eye(2) + 3j * np.eye(2) \n",
    "print(a)"
   ]
  },
  {
   "cell_type": "code",
   "execution_count": null,
   "metadata": {},
   "outputs": [],
   "source": [
    "a.conj()    # gives the conjugate of elements of the array"
   ]
  },
  {
   "cell_type": "code",
   "execution_count": null,
   "metadata": {},
   "outputs": [],
   "source": [
    "a = np.array([1,2,3,4])\n",
    "print(a)\n",
    "\n",
    "np.roots(a)"
   ]
  },
  {
   "cell_type": "markdown",
   "metadata": {},
   "source": [
    "---"
   ]
  },
  {
   "cell_type": "markdown",
   "metadata": {},
   "source": [
    "## Homework #3\n",
    "---\n",
    "Please solve the deterministic linear equation ( Ax = B ) given below by using NumPy. You can represent the problem as matrices and apply matrix algebra to solve it.\n",
    "\n",
    "_q + r + 2p = 4_\n",
    "\n",
    "_3q + p + 2r = 5_\n",
    "\n",
    "_r = -23_\n",
    "\n",
    "Formulize the problem with matrices and solve it for the vector x and print it to the screen.\n",
    "Please also write a comment line before each line of your code to explain what it is for.\n",
    "\n",
    "PS: Do not forget to upload your \"HWX_namesurname.ipynb\" files to http://gtuzem.gtu.edu.tr/\n",
    "\n",
    "---"
   ]
  }
 ],
 "metadata": {
  "kernelspec": {
   "display_name": "Python 3",
   "language": "python",
   "name": "python3"
  },
  "language_info": {
   "codemirror_mode": {
    "name": "ipython",
    "version": 3
   },
   "file_extension": ".py",
   "mimetype": "text/x-python",
   "name": "python",
   "nbconvert_exporter": "python",
   "pygments_lexer": "ipython3",
   "version": "3.8.7"
  }
 },
 "nbformat": 4,
 "nbformat_minor": 4
}
