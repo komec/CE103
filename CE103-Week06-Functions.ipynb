{
 "cells": [
  {
   "cell_type": "markdown",
   "metadata": {},
   "source": [
    "### CE 103- INTRODUCTION TO COMPUTERS and PROGRAMMING"
   ]
  },
  {
   "cell_type": "markdown",
   "metadata": {},
   "source": [
    "### _The topic of the week is ;_\n",
    "\n",
    "# **Functions**\n",
    "      \n",
    "A function is a code block written to carry out a specified task, which similar with modules. Functions define in the code body, no need to import. They are generally not predefined modules. \n",
    "\n",
    "You can install a new module you need by simply using \"pip\" and call it by using \"import\" command. But you may have more complicated or specific problem to solve, than you may need your own module. \n",
    "\n",
    "With the help of **\"Functions\"**, a program break into smaller codes. So, as your program becomes longer, \"Functions\" help you to manage and organize a readable code. You can use a function more than once.\n",
    "\n",
    "![](./Figures/def_func.png)"
   ]
  },
  {
   "cell_type": "code",
   "execution_count": null,
   "metadata": {},
   "outputs": [],
   "source": [
    "## SYNTAX ##\n",
    "\n",
    "def function_name( arguments ):\n",
    "    \"function_docstring\"\n",
    "    function_body\n",
    "    return [expression]"
   ]
  },
  {
   "cell_type": "markdown",
   "metadata": {},
   "source": [
    "## _How do Functions work in Python?_\n",
    "\n",
    "There are three types of functions;\n",
    "\n",
    "**1. Built-in Functions :** \n",
    "    These functions are always available. No need to import any module. Such as: abs(), bool(), eval(), max(), print(), help(), sum(), type().\n",
    "For the full list of Built-in functions, visit --> https://docs.python.org/3/library/functions.html"
   ]
  },
  {
   "cell_type": "code",
   "execution_count": 1,
   "metadata": {},
   "outputs": [
    {
     "data": {
      "text/plain": [
       "10"
      ]
     },
     "execution_count": 1,
     "metadata": {},
     "output_type": "execute_result"
    }
   ],
   "source": [
    "sum([4,6])"
   ]
  },
  {
   "cell_type": "code",
   "execution_count": 2,
   "metadata": {},
   "outputs": [
    {
     "data": {
      "text/plain": [
       "4"
      ]
     },
     "execution_count": 2,
     "metadata": {},
     "output_type": "execute_result"
    }
   ],
   "source": [
    "abs(-4)"
   ]
  },
  {
   "cell_type": "markdown",
   "metadata": {},
   "source": [
    "**2. Anonymous Functions :**\n",
    "     They are also called \"lambda\" functions, they do not use \"def\" keyword. It has no name.\n",
    "    "
   ]
  },
  {
   "cell_type": "code",
   "execution_count": 3,
   "metadata": {},
   "outputs": [
    {
     "name": "stdout",
     "output_type": "stream",
     "text": [
      "Value of total :  8\n"
     ]
    }
   ],
   "source": [
    "# Syntax -->  lambda [arg1 [,arg2,.....argn]]:expression\n",
    "\n",
    "anything = lambda arg1, arg2: arg1 + arg2;\n",
    "\n",
    "print(\"Value of total : \", anything( 3, 5 ))   # call \"anything\" as a function "
   ]
  },
  {
   "cell_type": "code",
   "execution_count": 4,
   "metadata": {},
   "outputs": [],
   "source": [
    "something = lambda x:x**2    # x is argument, x**2 is expression\n"
   ]
  },
  {
   "cell_type": "code",
   "execution_count": 5,
   "metadata": {},
   "outputs": [
    {
     "data": {
      "text/plain": [
       "81"
      ]
     },
     "execution_count": 5,
     "metadata": {},
     "output_type": "execute_result"
    }
   ],
   "source": [
    "something(9)"
   ]
  },
  {
   "cell_type": "markdown",
   "metadata": {},
   "source": [
    "**3. User-Defined Functions (UDFs) :**\n",
    "    These are functions that users create by using **_\" def \"_** command. Functions name should be unique. A Function starts with **_\" def \"_** keyword and a colon **_\" (:) \"_** marks the end of header line. They might or might not need multiple inputs, which are called Parameters or Arguments: information that are passed into a function. A parameter is the variable listed inside the paranthesis and Argument is the value that sent to the function. A function should execute the statement defined by user. It ends with **_\" return \"_** statement if it should output something, otherwise, it will return an object None. The **_\" return \"_** statement is also used to exit a function. "
   ]
  },
  {
   "cell_type": "code",
   "execution_count": null,
   "metadata": {},
   "outputs": [],
   "source": [
    "def function_name(parameters/arguments):    \n",
    "    statement(s)                  # is called the body of the function\n",
    "    return"
   ]
  },
  {
   "cell_type": "code",
   "execution_count": 6,
   "metadata": {},
   "outputs": [],
   "source": [
    "# Lets define a square function with UDFs to see the difference between the \"lambda function\".\n",
    "\n",
    "def square(x):\n",
    "    return x**2"
   ]
  },
  {
   "cell_type": "code",
   "execution_count": 7,
   "metadata": {},
   "outputs": [
    {
     "data": {
      "text/plain": [
       "81"
      ]
     },
     "execution_count": 7,
     "metadata": {},
     "output_type": "execute_result"
    }
   ],
   "source": [
    "square(9)  # to get the result out of the function you have to call the functiona and specify an argument value\n"
   ]
  },
  {
   "cell_type": "markdown",
   "metadata": {},
   "source": [
    "---\n",
    "## _Define a Function_\n",
    "\n",
    "*** _In this lecture, from know on, all the words called \"Functions\", refers to the \"user-defined functions (UDFs)\"._"
   ]
  },
  {
   "cell_type": "code",
   "execution_count": 8,
   "metadata": {},
   "outputs": [],
   "source": [
    "def welcome(name):\n",
    "    print(\"Welcome \" + name + \" !\")\n",
    "    return"
   ]
  },
  {
   "cell_type": "code",
   "execution_count": 9,
   "metadata": {},
   "outputs": [],
   "source": [
    "# A function could be more complex: for example; contain for loops\n",
    "\n",
    "def order():\n",
    "    name = str(input(\"What would you like to eat as dessert?: \"))\n",
    "    if name:\n",
    "        print (\"You ordered: \" + str(name))\n",
    "    else:\n",
    "        print(\"St Sebastian Cheese-Cake\") \n",
    "    return                                # return command is not necessery here."
   ]
  },
  {
   "cell_type": "markdown",
   "metadata": {},
   "source": [
    "---\n",
    "## _Call a Function_\n",
    "\n",
    "Use the function name and parenthesis as shown in the example below, to call a function."
   ]
  },
  {
   "cell_type": "markdown",
   "metadata": {},
   "source": [
    "### function_name([arguments])"
   ]
  },
  {
   "cell_type": "code",
   "execution_count": null,
   "metadata": {},
   "outputs": [],
   "source": [
    "square(5)"
   ]
  },
  {
   "cell_type": "code",
   "execution_count": 10,
   "metadata": {},
   "outputs": [
    {
     "name": "stdout",
     "output_type": "stream",
     "text": [
      "Welcome Home !\n"
     ]
    }
   ],
   "source": [
    "welcome(\"Home\")"
   ]
  },
  {
   "cell_type": "code",
   "execution_count": 12,
   "metadata": {},
   "outputs": [
    {
     "name": "stdout",
     "output_type": "stream",
     "text": [
      "What would you like to eat as dessert?: cheesecake\n",
      "You ordered: cheesecake\n"
     ]
    }
   ],
   "source": [
    "order()"
   ]
  },
  {
   "cell_type": "code",
   "execution_count": 13,
   "metadata": {},
   "outputs": [],
   "source": [
    "# Lets define a function that checks if a number is positive or negative\n",
    "\n",
    "def test():\n",
    "    num = int(input(\"Write a number: \"))\n",
    "    if (num >= 0):\n",
    "        print(\"The number you entered is POSITIVE\")\n",
    "    else:\n",
    "        print(\"The number you entered is NEGATIVE\")\n",
    "    return\n"
   ]
  },
  {
   "cell_type": "code",
   "execution_count": 17,
   "metadata": {},
   "outputs": [
    {
     "name": "stdout",
     "output_type": "stream",
     "text": [
      "Write a number: -3\n",
      "The number you entered is NEGATIVE\n"
     ]
    }
   ],
   "source": [
    "test()"
   ]
  },
  {
   "cell_type": "markdown",
   "metadata": {},
   "source": [
    "---\n",
    "## _Arguments_\n",
    "\n",
    "We already learned what is \"Argument\" stands for. It's important to call function with correct number of arguments. Meaning that; the number of the arguments that function expects should be equal to the number of arguments that you call in the function. "
   ]
  },
  {
   "cell_type": "code",
   "execution_count": 20,
   "metadata": {},
   "outputs": [
    {
     "name": "stdout",
     "output_type": "stream",
     "text": [
      "Jelly+fish = Jellyfish\n"
     ]
    }
   ],
   "source": [
    "# Lets define a function expects 2 arguments;\n",
    "\n",
    "def compound(first,second):\n",
    "      print(first + '+' + second + \" = \" + first + \"\" + second)\n",
    "\n",
    "compound(\"Jelly\",\"fish\")\n",
    "\n"
   ]
  },
  {
   "cell_type": "code",
   "execution_count": 21,
   "metadata": {},
   "outputs": [
    {
     "data": {
      "text/plain": [
       "'Jellyfish'"
      ]
     },
     "execution_count": 21,
     "metadata": {},
     "output_type": "execute_result"
    }
   ],
   "source": [
    "#\n",
    "# What if I prefer to use return command ?\n",
    "# The return keyword in Python exits a function and tells Python to run the rest of the main program.\n",
    "#\n",
    "def compound(first,second):\n",
    "      return first+second\n",
    "    \n",
    "compound(\"Jelly\",\"fish\")"
   ]
  },
  {
   "cell_type": "markdown",
   "metadata": {},
   "source": [
    "#### There are four types of Arguments;\n",
    "**1. Default Arguments**\n",
    "    Assumes a default value if a value is not provided in the function.\n",
    "    "
   ]
  },
  {
   "cell_type": "code",
   "execution_count": 24,
   "metadata": {},
   "outputs": [
    {
     "data": {
      "text/plain": [
       "20"
      ]
     },
     "execution_count": 24,
     "metadata": {},
     "output_type": "execute_result"
    }
   ],
   "source": [
    "def defarg(x, y=5):  # two argument is given one of them is \"default\", function asks for only one \n",
    "    return (x * y)\n",
    "\n",
    "defarg(4,5) "
   ]
  },
  {
   "cell_type": "code",
   "execution_count": 25,
   "metadata": {},
   "outputs": [
    {
     "name": "stdout",
     "output_type": "stream",
     "text": [
      "My favorite lecture is CE103\n"
     ]
    }
   ],
   "source": [
    "def my_fl (lecture = \"CE103\"):\n",
    "    print(\"My favorite lecture is \" + lecture)\n",
    "\n",
    "my_fl ()\n"
   ]
  },
  {
   "cell_type": "code",
   "execution_count": 26,
   "metadata": {},
   "outputs": [
    {
     "name": "stdout",
     "output_type": "stream",
     "text": [
      "My favorite lecture is Literature\n"
     ]
    }
   ],
   "source": [
    "my_fl (\"Literature\")"
   ]
  },
  {
   "cell_type": "markdown",
   "metadata": {},
   "source": [
    "**2. Required Arguments** (also called \"Positional Arguments\")\n",
    "    the number of arguments in the function has to be in correct positional order and should match with the function definition."
   ]
  },
  {
   "cell_type": "code",
   "execution_count": 27,
   "metadata": {},
   "outputs": [
    {
     "data": {
      "text/plain": [
       "3.0"
      ]
     },
     "execution_count": 27,
     "metadata": {},
     "output_type": "execute_result"
    }
   ],
   "source": [
    "def div(x,y): \n",
    "    return x / y   # change in order will effect the result\n",
    "\n",
    "div(9,3)"
   ]
  },
  {
   "cell_type": "markdown",
   "metadata": {},
   "source": [
    "**3. Keyword Arguments**\n",
    "    If you don't want to keep the right order of parameters in your mind, using keyword arguments is an easy way to identify them by using parameter names."
   ]
  },
  {
   "cell_type": "code",
   "execution_count": 28,
   "metadata": {},
   "outputs": [
    {
     "data": {
      "text/plain": [
       "2.5"
      ]
     },
     "execution_count": 28,
     "metadata": {},
     "output_type": "execute_result"
    }
   ],
   "source": [
    "# lets call the \"div()\" function again\n",
    "\n",
    "div(x=5, y=2)    # Call function with keyword arguments"
   ]
  },
  {
   "cell_type": "code",
   "execution_count": 29,
   "metadata": {},
   "outputs": [
    {
     "data": {
      "text/plain": [
       "2.5"
      ]
     },
     "execution_count": 29,
     "metadata": {},
     "output_type": "execute_result"
    }
   ],
   "source": [
    "div(y=2, x=5)    # with keyword arguments, parameters do not have t be in ordered"
   ]
  },
  {
   "cell_type": "code",
   "execution_count": 30,
   "metadata": {},
   "outputs": [
    {
     "name": "stdout",
     "output_type": "stream",
     "text": [
      "The first mounth of summer is June\n"
     ]
    }
   ],
   "source": [
    "# if you send the arguments with the key = value syntax, the order of the arguments doesn't matter.\n",
    "\n",
    "def summer(second, third, first):\n",
    "  print(\"The first mounth of summer is \" + first)\n",
    "\n",
    "summer(first = \"June\", second = \"July\", third = \"August\") "
   ]
  },
  {
   "cell_type": "markdown",
   "metadata": {},
   "source": [
    "**4. Arbitrary Arguments**\n",
    "    If you don't have any idea about the exact number of arguments to call the function, then you can use **\" *argv \"** syntax."
   ]
  },
  {
   "cell_type": "code",
   "execution_count": 31,
   "metadata": {},
   "outputs": [
    {
     "name": "stdout",
     "output_type": "stream",
     "text": [
      "Keep\n",
      " your\n",
      "  social\n",
      "   distance\n",
      "    !\n"
     ]
    }
   ],
   "source": [
    "def message(*argv):  \n",
    "    for arg in argv:  \n",
    "        print(arg)       \n",
    "\n",
    "message(\"Keep\",\" your\",\"  social\",\"   distance\",\"    !\")"
   ]
  },
  {
   "cell_type": "markdown",
   "metadata": {},
   "source": [
    "**5.Passing a List as an Argument**\n",
    "    The arguments may be given as a list of values in order to write them all as a parameter.\n"
   ]
  },
  {
   "cell_type": "code",
   "execution_count": 32,
   "metadata": {},
   "outputs": [],
   "source": [
    "def my_places(city):\n",
    "    for x in city:\n",
    "        print(x)"
   ]
  },
  {
   "cell_type": "code",
   "execution_count": 33,
   "metadata": {},
   "outputs": [
    {
     "name": "stdout",
     "output_type": "stream",
     "text": [
      "İstanbul\n",
      "Paris\n",
      "Prag\n"
     ]
    }
   ],
   "source": [
    "fav_citylist = [\"İstanbul\", \"Paris\", \"Prag\"]\n",
    "my_places(fav_citylist)"
   ]
  },
  {
   "cell_type": "code",
   "execution_count": 34,
   "metadata": {},
   "outputs": [],
   "source": [
    "# if you have \"list\" of values you may use \"map() function\" \n",
    "# which applies function to each item in the array\n",
    "\n",
    "# Lets define \"div()\" function again\n",
    "\n",
    "def div(x,y=2): \n",
    "    return x / y\n",
    "\n"
   ]
  },
  {
   "cell_type": "code",
   "execution_count": 35,
   "metadata": {},
   "outputs": [
    {
     "data": {
      "text/plain": [
       "[1.0, 2.0, 3.0, 4.0, 5.0]"
      ]
     },
     "execution_count": 35,
     "metadata": {},
     "output_type": "execute_result"
    }
   ],
   "source": [
    "data = [2, 4, 6, 8, 10]         # declare an array of numbers\n",
    "list(map(div,data))             # no need to write a loop "
   ]
  },
  {
   "cell_type": "markdown",
   "metadata": {},
   "source": [
    "---\n",
    "## _The \"return\" Statement_\n",
    "\n",
    "Simply it prints the result to the console. But, if you want to assign the result to a variable, the return statement sends a result back to the caller and exits the function."
   ]
  },
  {
   "cell_type": "code",
   "execution_count": 36,
   "metadata": {},
   "outputs": [],
   "source": [
    "# lets define a total function which calculates the summation of numbers between two specific numbers\n",
    "\n",
    "def total(num1, num2):\n",
    "    sum = 0\n",
    "    for i in range(num1, num2 + 1):\n",
    "        sum += i\n",
    "    return sum\n",
    "\n"
   ]
  },
  {
   "cell_type": "code",
   "execution_count": 38,
   "metadata": {},
   "outputs": [
    {
     "name": "stdout",
     "output_type": "stream",
     "text": [
      "55\n"
     ]
    }
   ],
   "source": [
    "t = total(1, 10)\n",
    "print(t)\n"
   ]
  },
  {
   "cell_type": "markdown",
   "metadata": {},
   "source": [
    "---\n",
    "## _Recursive Function_"
   ]
  },
  {
   "cell_type": "markdown",
   "metadata": {},
   "source": [
    "A function can call other functions or can call itself either. These type of functions are called _recursive functions_.\n",
    "\n",
    "These functions make the code look elegant but its hard to follow the logic behind."
   ]
  },
  {
   "cell_type": "code",
   "execution_count": 39,
   "metadata": {},
   "outputs": [
    {
     "name": "stdout",
     "output_type": "stream",
     "text": [
      "5 * 4 * 3 * 2 * 1  = \n"
     ]
    },
    {
     "data": {
      "text/plain": [
       "120"
      ]
     },
     "execution_count": 39,
     "metadata": {},
     "output_type": "execute_result"
    }
   ],
   "source": [
    "def factorial(n):  # define recursive function\n",
    "    if n == 1:  \n",
    "        print(n,\" = \")\n",
    "        return n \n",
    "    else:\n",
    "        print (n,'*', end = \" \")  \n",
    "        return n * factorial(n-1)\n",
    "\n",
    "factorial(5)"
   ]
  },
  {
   "cell_type": "code",
   "execution_count": 40,
   "metadata": {},
   "outputs": [
    {
     "name": "stdout",
     "output_type": "stream",
     "text": [
      "6 4 2 2 4 6 "
     ]
    }
   ],
   "source": [
    "def mirror(x):\n",
    "    if (x < 1):\n",
    "        return\n",
    "    else:\n",
    "        print(x, end = \" \")\n",
    "        mirror(x-2)\n",
    "        print(x, end = \" \")\n",
    "        return\n",
    "x = 6\n",
    "mirror(x)"
   ]
  },
  {
   "cell_type": "code",
   "execution_count": 42,
   "metadata": {},
   "outputs": [
    {
     "name": "stdout",
     "output_type": "stream",
     "text": [
      "6 4 2 2 4 6 "
     ]
    }
   ],
   "source": [
    "# lets try same code without using recursive function\n",
    "def long_mirror(x):\n",
    "    y = x\n",
    "        \n",
    "    while (x > 0):\n",
    "        print(x, end = \" \")\n",
    "        x = x - 2\n",
    "\n",
    "    while (x < y):\n",
    "        x = x + 2\n",
    "        print(x, end = \" \")\n",
    "    \n",
    "x = 6\n",
    "long_mirror(x)\n"
   ]
  },
  {
   "cell_type": "markdown",
   "metadata": {},
   "source": [
    "---\n",
    "## _Global and Local Variables_\n",
    "\n",
    "A variable declared inside a function is called **_local variable_**, while a variable not bound to any function but can be accessed outside the function is called **_global variable_**."
   ]
  },
  {
   "cell_type": "code",
   "execution_count": 49,
   "metadata": {},
   "outputs": [],
   "source": [
    "global_var = 3\n",
    "\n",
    "def cool():\n",
    "    local_var = 5                   # local variable\n",
    "    print(global_var * local_var)   # both variables are accessible from inside\n",
    "\n",
    "                 \n",
    "                      # when function ends, local_var is destroyed\n",
    "#    print(local_var)     # but you can't access local_var outside the function\n",
    "#print(local_var)"
   ]
  },
  {
   "cell_type": "code",
   "execution_count": 50,
   "metadata": {},
   "outputs": [
    {
     "name": "stdout",
     "output_type": "stream",
     "text": [
      "15\n"
     ]
    }
   ],
   "source": [
    "cool()"
   ]
  },
  {
   "cell_type": "markdown",
   "metadata": {},
   "source": [
    "---\n",
    "## Homework #6\n",
    "\n",
    "Covid 19 cases data is taken from the web page below.\n",
    "\"https://raw.githubusercontent.com/datasets/covid-19/master/data/countries-aggregated.csv\" \n",
    "\n",
    "By using this data, lets make some statistics about the COVID-19 cases in Turkey. \n",
    "\n",
    "Please follow the instructions below;\n",
    "\n",
    "1. Date, Confirmed, Recovered and Deaths numbers of 2021 are given below in seperate arrays.\n",
    "2. Define a function which calculates \"percentage\".\n",
    "3. By using your function, calculate percentages between confirmed-recovered in daily bases and create array for it.\n",
    "4. By using your function, calculate percentages between confirmed-deaths in daily bases and create array for it.\n",
    "5. Draw a graph of confirmed-recovered and confirmed-deaths percentages in daily bases. \n",
    "\n",
    "You are free to use any type of visualization, use your imagination. The shortest code will get extra point. \n",
    "\n",
    "PS: Do not forget to upload your pdf files to Microsoft Teams-CE103 Class.\n",
    "\n"
   ]
  },
  {
   "cell_type": "code",
   "execution_count": null,
   "metadata": {},
   "outputs": [],
   "source": [
    "# \"\"\"Please use the Dataset below for Homework 6\"\"\"\n",
    "\n",
    "date = [\"01/01/21\",\"01/02/21\",\"01/03/21\",\"01/04/21\",\"01/05/21\",\"01/06/21\",\"01/07/21\",\"01/08/21\",\"01/09/21\",\"01/10/21\",\"01/11/21\",\"01/12/21\",\"01/13/21\",\"01/14/21\",\"01/15/21\",\"01/16/21\",\"01/17/21\",\"01/18/21\",\"01/19/21\",\"01/20/21\",\"01/21/21\",\"01/22/21\",\"01/23/21\",\"01/24/21\",\"01/25/21\",\"01/26/21\",\"01/27/21\",\"01/28/21\",\"01/29/21\",\"01/30/21\",\"01/31/21\",\"02/01/21\",\"02/02/21\",\"02/03/21\",\"02/04/21\",\"02/05/21\",\"02/06/21\",\"02/07/21\",\"02/08/21\",\"02/09/21\",\"02/10/21\",\"02/11/21\",\"02/12/21\",\"02/13/21\",\"02/14/21\",\"02/15/21\",\"02/16/21\",\"02/17/21\",\"02/18/21\",\"02/19/21\",\"02/20/21\",\"02/21/21\",\"02/22/21\",\"02/23/21\",\"02/24/21\",\"02/25/21\",\"02/26/21\",\"02/27/21\",\"02/28/21\",\"03/01/21\",\"03/02/21\",\"03/03/21\",\"03/04/21\",\"03/05/21\",\"03/06/21\",\"03/07/21\",\"03/08/21\",\"03/09/21\",\"03/10/21\",\"03/11/21\",\"03/12/21\",\"03/13/21\",\"03/14/21\",\"03/15/21\",\"03/16/21\",\"03/17/21\",\"03/18/21\",\"03/19/21\",\"03/20/21\",\"03/21/21\",\"03/22/21\",\"03/23/21\",\"03/24/21\",\"03/25/21\",\"03/26/21\",\"03/27/21\",\"03/28/21\",\"03/29/21\",\"03/30/21\",\"03/31/21\",\"04/01/21\",\"04/02/21\",\"04/03/21\"]\n",
    "confirmed = [2220855,2232035,2241912,2255607,2270101,2283931,2296102,2307581,2317118,2326256,2336476,2346285,2355839,2364801,2373115,2380665,2387101,2392963,2399781,2406216,2412505,2418472,2424328,2429605,2435247,2442350,2449839,2457118,2464030,2470901,2477463,2485182,2492977,2501079,2508988,2516889,2524786,2531456,2539559,2548195,2556837,2564427,2572190,2579896,2586183,2594128,2602034,2609359,2616600,2624019,2631876,2638422,2646526,2655633,2665194,2674766,2683971,2693164,2701588,2711479,2723316,2734836,2746158,2757460,2769230,2780417,2793632,2807387,2821943,2835989,2850930,2866012,2879390,2894893,2911642,2930554,2950603,2971633,2992694,3013122,3035338,3061520,3091282,3120013,3149094,3179115,3208173,3240577,3277880,3317182,3357988,3400296,3445052]\n",
    "recovered = [2114760,2126432,2136534,2146430,2155338,2164040,2172251,2182145,2190047,2198150,2208451,2218464,2227927,2236938,2246047,2254052,2262864,2270769,2277987,2283919,2290032,2296050,2301861,2307721,2314403,2322511,2331314,2340216,2348309,2355409,2362415,2370431,2379070,2387384,2396199,2404416,2412505,2420706,2429273,2437382,2445285,2453096,2461204,2468419,2475329,2482435,2489624,2496833,2504050,2511548,2518758,2523760,2529450,2534996,2540293,2546503,2556785,2565723,2572234,2578181,2586073,2593264,2601137,2608848,2616139,2623924,2632030,2640669,2649862,2659093,2670273,2685560,2701076,2716969,2734862,2752023,2770638,2788757,2807572,2825187,2844681,2863882,2881643,2900829,2921037,2939929,2957093,2975108,2995033,3014226,3035043,3059462,3082676]\n",
    "deaths = [21093,21295,21488,21685,21879,22070,22264,22450,22631,22807,22981,23152,23325,23495,23664,23832,23997,24161,24328,24487,24640,24789,24933,25073,25210,25344,25476,25605,25736,25865,25993,26117,26237,26354,26467,26577,26685,26797,26900,26998,27093,27187,27284,27377,27471,27562,27652,27738,27821,27903,27983,28060,28138,28213,28285,28358,28432,28503,28569,28638,28706,28771,28839,28901,28965,29030,29094,29160,29227,29290,29356,29421,29489,29552,29623,29696,29777,29864,29959,30061,30178,30316,30462,30619,30772,30923,31076,31230,31385,31537,31713,31892,32078]\n"
   ]
  },
  {
   "cell_type": "code",
   "execution_count": null,
   "metadata": {},
   "outputs": [],
   "source": []
  }
 ],
 "metadata": {
  "kernelspec": {
   "display_name": "Python 3",
   "language": "python",
   "name": "python3"
  },
  "language_info": {
   "codemirror_mode": {
    "name": "ipython",
    "version": 3
   },
   "file_extension": ".py",
   "mimetype": "text/x-python",
   "name": "python",
   "nbconvert_exporter": "python",
   "pygments_lexer": "ipython3",
   "version": "3.6.7"
  }
 },
 "nbformat": 4,
 "nbformat_minor": 4
}
