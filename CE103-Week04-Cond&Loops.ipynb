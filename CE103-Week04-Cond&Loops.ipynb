{
 "cells": [
  {
   "cell_type": "markdown",
   "metadata": {},
   "source": [
    "### CE 103- INTRODUCTION TO COMPUTERS and PROGRAMMING"
   ]
  },
  {
   "cell_type": "markdown",
   "metadata": {},
   "source": [
    "### _The topics of the week !_\n",
    "\n",
    "- Conditionals and Loops\n",
    "\n",
    "    - The **_\" if \"_** statement\n",
    "    - The **_\" if else / elif\"_** statement\n",
    "    - The **_\" for \"_** loop\n",
    "    - **_\" break \"_**, **_\" continue \"_**, **_\" pass \"_** statements\n",
    "    - The **_\" while \"_** statement\n",
    "    - Nested Loops"
   ]
  },
  {
   "cell_type": "markdown",
   "metadata": {},
   "source": [
    "In the programming world, like in the real world, we may need to make decisions to move forward to the next step. In Python, when we make a decision, we can execute the next step of the code. This week we will learn to use decision-making statements in the Python programming language. \n",
    "\n",
    "In the code, we use **_conditionals_** to execute different lines of the code. Using **_conditionals_** is also the simplest way to repeat the same processes easily. \n",
    "\n",
    "**_Conditionals_** may also be used to say if the statement is True or not. If the statement is True, the loop will be infinite, otherwise, it will stop. If the code starts with False, it means that the code will never run.\n",
    "\n",
    "---\n",
    "\n",
    "## The **_\" if \"_** statement\n",
    "\n",
    "**\" if \"** statement is one of the most simple decision making statement. It is used to decide whether a certain statement is True or False. \n",
    "\n",
    "![](./Figures/if-statement.png)\n",
    "\n",
    "\n",
    "Lets' remember that Python supports the logical conditions listed below;\n",
    "\n",
    "\n",
    "    Equal: a == b\n",
    "    Not Equal: a != b\n",
    "    Less than: a < b\n",
    "    Less than or equal to: a <= b\n",
    "    Greater than: a > b\n",
    "    Greater than or equal to: a >= b\n",
    "\n"
   ]
  },
  {
   "cell_type": "code",
   "execution_count": null,
   "metadata": {},
   "outputs": [],
   "source": [
    "# write your first \"if\" statement\n",
    "# The colon (:) is required to seprarate the condition from the body. The line after the colon is also required and it stands for four spaces for indenting.\n",
    "\n",
    "a = 5\n",
    "b = 15\n",
    "if b > a:\n",
    "    print('I\\'m bigger than you')"
   ]
  },
  {
   "cell_type": "code",
   "execution_count": null,
   "metadata": {},
   "outputs": [],
   "source": [
    "# using TABS and spaces make differences, such as:\n",
    "\n",
    "condition = False\n",
    "if condition:\n",
    "    print('condition is True')\n",
    "    print('condition is False')    # this code will skip both print lines as long as acondition is False.\n",
    "    \n",
    "    \n",
    "condition = False\n",
    "if condition:\n",
    "    print('condition is True')\n",
    "print('condition is False')     # will print 'condition is False' regardless of whether condition is True or False\n",
    "\n",
    "condition = False\n",
    "if condition:\n",
    "    print('condition is True')\n",
    "        print('condition is False')    # will appear \"IndentationError: unexpected indent\" error message"
   ]
  },
  {
   "cell_type": "code",
   "execution_count": null,
   "metadata": {},
   "outputs": [],
   "source": [
    "# lets try it with boolean expression\n",
    "\n",
    "action = 'jump'\n",
    "\n",
    "if action == 'jump':\n",
    "    print('I would like to ', 5 * (action + '! '))"
   ]
  },
  {
   "cell_type": "code",
   "execution_count": null,
   "metadata": {},
   "outputs": [],
   "source": [
    "# make a decision about a number if it's positive or not,\n",
    "\n",
    "A = 5\n",
    "if A > 0:\n",
    "    print(A, \"is a positive number.\")\n",
    "\n",
    "A = -3\n",
    "if A < 0:\n",
    "    print(A, \"is a negative number.\")"
   ]
  },
  {
   "cell_type": "markdown",
   "metadata": {},
   "source": [
    "---\n",
    "\n",
    "## The **_\" if else / elif \"_** statement\n",
    "\n",
    "**\" if else\"** statement is stands for a decision with two possible conclusion. If the statement is True follow 1st path, else follow the 2nd path. \n",
    "\n",
    "![](./Figures/if-else-statement.png)"
   ]
  },
  {
   "cell_type": "code",
   "execution_count": null,
   "metadata": {},
   "outputs": [],
   "source": [
    "# Lets write a very basic if else statement;\n",
    "\n",
    "a = 15\n",
    "b = 5\n",
    "if b > a:\n",
    "    print('I\\'m bigger than you')\n",
    "else:\n",
    "    print('No you are NOT !')"
   ]
  },
  {
   "cell_type": "code",
   "execution_count": null,
   "metadata": {},
   "outputs": [],
   "source": [
    "# lets try it with boolean expression\n",
    "\n",
    "#action = 'jump'\n",
    "action = 'walk'\n",
    "\n",
    "if action == 'jump':\n",
    "    print('I would like to ', 5 * (action + '! '))\n",
    "else:\n",
    "    print('Don\\'t want to', action, 'any more :(')"
   ]
  },
  {
   "cell_type": "code",
   "execution_count": null,
   "metadata": {},
   "outputs": [],
   "source": [
    "# Lets simplify the \"if\" statement above by using \"if else\" statement\n",
    "\n",
    "A = 5\n",
    "\n",
    "if A >= 0:\n",
    "    print(A, \"is a positive number.\")\n",
    "else:\n",
    "    print(A, \"is a negative number.\")"
   ]
  },
  {
   "cell_type": "markdown",
   "metadata": {},
   "source": [
    "\n",
    "In order to chain conditions to each other to simplify/solve more complex logics **_\"elif\"_** can be used as a concentration version of else and if. \n",
    "If the **_\"if\"_** statement condition is False, then the code will check the **_\"elif\"_** condition on the next block, and so on. Even all of them are False, **_\" else\"_** will be executed.\n",
    "\n",
    "![](./Figures/elif-else-statement.png)\n"
   ]
  },
  {
   "cell_type": "code",
   "execution_count": null,
   "metadata": {},
   "outputs": [],
   "source": [
    "A = 5\n",
    "B = 8\n",
    "\n",
    "if A > 7:\n",
    "    print(A, \"is greater than 7\")\n",
    "elif B > 7:\n",
    "    print(B, \"is greater than 7.\")\n",
    "else:\n",
    "    print('what is going on!!')"
   ]
  },
  {
   "cell_type": "markdown",
   "metadata": {},
   "source": [
    "Or, we can set more complex chain;"
   ]
  },
  {
   "cell_type": "code",
   "execution_count": null,
   "metadata": {},
   "outputs": [],
   "source": [
    "A = 4\n",
    "B = 8\n",
    "\n",
    "if A > 7 and B > 7 :\n",
    "    print(\"Everything is awsome\")\n",
    "elif B > 7 or A < 5 :\n",
    "    print(\"Confusing\")\n",
    "else:\n",
    "    print('Nothing to do')"
   ]
  },
  {
   "cell_type": "markdown",
   "metadata": {},
   "source": [
    "#### _Short hand statements;_"
   ]
  },
  {
   "cell_type": "code",
   "execution_count": null,
   "metadata": {},
   "outputs": [],
   "source": [
    "if a > b: print(\"a is greater than b\")"
   ]
  },
  {
   "cell_type": "code",
   "execution_count": null,
   "metadata": {},
   "outputs": [],
   "source": [
    "a = 3\n",
    "b = 5\n",
    "print(\"bigger a\") if a > b else print(\"smaller a\") "
   ]
  },
  {
   "cell_type": "code",
   "execution_count": null,
   "metadata": {},
   "outputs": [],
   "source": [
    "a = 5\n",
    "b = 5\n",
    "print(\"bigger a\") if a > b else print(\"a = b\") if a == b else print(\"smaller a\") "
   ]
  },
  {
   "cell_type": "code",
   "execution_count": null,
   "metadata": {},
   "outputs": [],
   "source": [
    "a = 6\n",
    "b = 5\n",
    "c = 8\n",
    "if a > b and c > a:\n",
    "  print(\"c > a > b\")"
   ]
  },
  {
   "cell_type": "code",
   "execution_count": null,
   "metadata": {},
   "outputs": [],
   "source": [
    "a = 5\n",
    "b = 3\n",
    "c = 8\n",
    "if a > b or a > c:\n",
    "  print(\"At least one of the conditions is True\")"
   ]
  },
  {
   "cell_type": "markdown",
   "metadata": {},
   "source": [
    "---\n",
    "## The **_\" for \"_**  Statement\n",
    "\n",
    "Loops are another type of flow control structure in programming language. By using loop conditions, a code can be repeated multiple times under specific conditions.\n",
    "\n",
    "![](./Figures/for-loop.png)\n"
   ]
  },
  {
   "cell_type": "code",
   "execution_count": null,
   "metadata": {},
   "outputs": [],
   "source": [
    "# define a list of values and iterate each of the values\n",
    "\n",
    "spring_semester = ['CE 102', 'CE 103', 'CE 105']\n",
    "\n",
    "for lectures in spring_semester:       #  searches for \"lecture\" variable in the list assigned to \"spring_semester\"\n",
    "    print(lectures)"
   ]
  },
  {
   "cell_type": "code",
   "execution_count": null,
   "metadata": {},
   "outputs": [],
   "source": [
    "# Find the summation of the numbers in a list\n",
    "\n",
    "sum = 0     # what if I dit not define it?? \n",
    "\n",
    "digit = [1, 2, 3, 4, 5, 6, 7, 8, 9, 10]   # create the list\n",
    "\n",
    "for i in digit:\n",
    "    sum = sum + i\n",
    "\n",
    "print(\"Sum = \", sum)"
   ]
  },
  {
   "cell_type": "code",
   "execution_count": null,
   "metadata": {},
   "outputs": [],
   "source": [
    "# for loop with else statement \n",
    "\n",
    "digits = [1, 3, 5, 7, 9, 11, 13]\n",
    "\n",
    "for i in digits:\n",
    "    print(i)\n",
    "else:\n",
    "    print(\"Listed them all\")"
   ]
  },
  {
   "cell_type": "code",
   "execution_count": null,
   "metadata": {},
   "outputs": [],
   "source": [
    "# create two column list output with for loop\n",
    "\n",
    "for x in digits:           \n",
    "    print(x, '\\t', x**2)     # ('\\t') character makes the output align with tab between values "
   ]
  },
  {
   "cell_type": "markdown",
   "metadata": {},
   "source": [
    "---\n",
    "#### _**keys( )**_ function"
   ]
  },
  {
   "cell_type": "code",
   "execution_count": null,
   "metadata": {},
   "outputs": [],
   "source": [
    "# do the same iteration in a dictionary using \".keys()\" function, which goes through each item in the dictionary. \n",
    "# It returns a view object which contains the key of the dictionary. \n",
    "\n",
    "credits = {'CE 102': 2, 'CE 103': 3, 'CE 105': 3}\n",
    "\n",
    "for x in credits.keys():     # allows to iterate over each entry\n",
    "    print(credits[x])"
   ]
  },
  {
   "cell_type": "markdown",
   "metadata": {},
   "source": [
    "\n",
    "#### _**range( )**_ function"
   ]
  },
  {
   "cell_type": "code",
   "execution_count": null,
   "metadata": {},
   "outputs": [],
   "source": [
    "# range() function can be used to create basic loop as below;\n",
    "\n",
    "print(range(8))   # Generate numbers from 0 up to 8\n",
    "\n",
    "for i in range(8):        \n",
    "    print('count', i)"
   ]
  },
  {
   "cell_type": "code",
   "execution_count": null,
   "metadata": {},
   "outputs": [],
   "source": [
    "spring_semester = ['CE 102', 'CE 103', 'CE 105']\n",
    "\n",
    "for lectures in range(len(spring_semester)):       #  combine range() and len() functions, tries the range() function to the length of a list\n",
    "    print(lectures)"
   ]
  },
  {
   "cell_type": "markdown",
   "metadata": {},
   "source": [
    "\n",
    "#### _**enumerate( )**_ function"
   ]
  },
  {
   "cell_type": "code",
   "execution_count": null,
   "metadata": {},
   "outputs": [],
   "source": [
    "# enumerate() function is another way to access a a list and returns both item and index\n",
    "\n",
    "spring_semester = ['CE 102', 'CE 103', 'CE 105']\n",
    "\n",
    "for i, lectures in enumerate(spring_semester):       # takes in a list and returns both the item and its index\n",
    "    print(lectures + ' is a spring semester lecture' + str(i))"
   ]
  },
  {
   "cell_type": "markdown",
   "metadata": {},
   "source": [
    "---\n",
    "## The **_\" while \"_** statement\n",
    "\n",
    "A while loop statement is used to repeatedly iterate a block of target statement as long as the given expression is True. If the condition becomes False, the code will pass that line and continue with upcoming command line. The while loop generally prefers for the conditions that we don't know the number of times to iterate.\n",
    "\n",
    "![](./Figures/while-loop.png)"
   ]
  },
  {
   "cell_type": "code",
   "execution_count": null,
   "metadata": {},
   "outputs": [],
   "source": [
    "a = 0\n",
    "while (a < 5):      \n",
    "    a = a + 1\n",
    "    print(\"pisi\")     # will print \"pisi\" as long as a < 5"
   ]
  },
  {
   "cell_type": "markdown",
   "metadata": {},
   "source": [
    "![](./Figures/cat.png)"
   ]
  },
  {
   "cell_type": "code",
   "execution_count": null,
   "metadata": {},
   "outputs": [],
   "source": [
    "# Lets use \"else\" with \"while\" loop\n",
    "\n",
    "a = 0\n",
    "while a < 3:\n",
    "    print(a, \" is  less than 3\")\n",
    "    a = a + 1\n",
    "else:\n",
    "    print(a, \" is not less than 3\")  "
   ]
  },
  {
   "cell_type": "code",
   "execution_count": null,
   "metadata": {},
   "outputs": [],
   "source": [
    "digit = 10\n",
    "\n",
    "sum = 0    # set sum as summation variable\n",
    "i = 1      # set \" i \" as a counter\n",
    " \n",
    "while i <= digit:\n",
    "    sum = sum + i\n",
    "    i = i+1    # increase counter\n",
    "\n",
    "print(\"The sum is\", sum)  # calculate the summation of all numbers between 0 and 'digit', till 'digit' = 10. "
   ]
  },
  {
   "cell_type": "markdown",
   "metadata": {},
   "source": [
    "---\n",
    "## The **_\" break \"_**  Statement\n",
    "\n",
    "This statement terminates the current loop and proceed with next statement. It can be used with both for and while loops. \n"
   ]
  },
  {
   "cell_type": "code",
   "execution_count": null,
   "metadata": {},
   "outputs": [],
   "source": [
    "for numbers in '0123456789': \n",
    "    if numbers == '5':\n",
    "        break\n",
    "    print('Current number is :', numbers)   # will print out all the numbers till its equal 5"
   ]
  },
  {
   "cell_type": "code",
   "execution_count": null,
   "metadata": {},
   "outputs": [],
   "source": [
    "a = 6\n",
    "while a > 0:              \n",
    "    print('Current variable value :', a)\n",
    "    a = a -1\n",
    "    if a == 3:\n",
    "        break\n",
    "print(\"That\\'s all!\")    # will break the code when the condition \"a = 5\""
   ]
  },
  {
   "cell_type": "markdown",
   "metadata": {},
   "source": [
    "---\n",
    "## The **_\" continue \"_**  Statement\n",
    "\n",
    "This statement returns the control to the beginning of the loop and skip all the remaining statements. And, control moves to the beginning of the loop. It can be used with both for and while loops.  "
   ]
  },
  {
   "cell_type": "code",
   "execution_count": null,
   "metadata": {},
   "outputs": [],
   "source": [
    "for numbers in '0123456789': \n",
    "    if numbers == '5':\n",
    "        continue\n",
    "    print('Current number is :', numbers)   # will not print out the '5'"
   ]
  },
  {
   "cell_type": "code",
   "execution_count": null,
   "metadata": {},
   "outputs": [],
   "source": [
    "a = 6\n",
    "while a > 0:              \n",
    "    print('Current variable value :', a)\n",
    "    a = a -1\n",
    "    if a == 5:\n",
    "        continue\n",
    "print(\"That\\'s all!\")   # will keep doing the condition again as long as \"a > 0\""
   ]
  },
  {
   "cell_type": "markdown",
   "metadata": {},
   "source": [
    "---\n",
    "## The **_\" pass \"_**  Statement\n",
    "\n",
    "The pass statement is used to write empty statements, functions or classes. It is a \"null\" opretion which means nothing happens when its executed. "
   ]
  },
  {
   "cell_type": "code",
   "execution_count": null,
   "metadata": {},
   "outputs": [],
   "source": [
    "for numbers in '1234567890': \n",
    "    if numbers == '5':\n",
    "        pass\n",
    "        print('5 is my favorite number')\n",
    "    print('Current number is :', numbers)   # will not print out the '5'"
   ]
  },
  {
   "cell_type": "markdown",
   "metadata": {},
   "source": [
    "---\n",
    "## The _**\" Nested \"**_ Loops\n",
    "\n",
    "A loop inside another loop is called _\"Nested Loop\"_, which is allowed in Python. If you have while and/or for loop inside any loop, this is also allowed."
   ]
  },
  {
   "cell_type": "markdown",
   "metadata": {},
   "source": [
    "### _Nested **If**_\n",
    "\n",
    "If you have if statement inside if statement, this is called nested if statements.\n"
   ]
  },
  {
   "cell_type": "code",
   "execution_count": null,
   "metadata": {},
   "outputs": [],
   "source": [
    "a = 30\n",
    "\n",
    "if a > 10:\n",
    "    print(\"Above ten,\")\n",
    "    if a > 50:\n",
    "        print(\"and also above 50!\")\n",
    "    else:\n",
    "        print(\"but not above 51.\") "
   ]
  },
  {
   "cell_type": "code",
   "execution_count": null,
   "metadata": {},
   "outputs": [],
   "source": [
    "a = -5\n",
    "if a >= 0:\n",
    "    if a == 0:\n",
    "        print(\"Zero\")\n",
    "    else:\n",
    "        print(\"Positive number\")\n",
    "else:\n",
    "    print(\"Negative number\")"
   ]
  },
  {
   "cell_type": "markdown",
   "metadata": {},
   "source": [
    "\n",
    "### _Nested **while / for**_\n",
    "\n",
    "\n"
   ]
  },
  {
   "cell_type": "code",
   "execution_count": null,
   "metadata": {},
   "outputs": [],
   "source": [
    "# Lets find prime numbers between 1 to 50\n",
    "i = 1\n",
    "while(i < 50):\n",
    "    j = 2\n",
    "    while(j <= (i/j)):\n",
    "        if not(i%j):   # means that the value(boolean) is False or the value(collection) is not empty\n",
    "            break\n",
    "        j = j + 1\n",
    "    if (j > i/j) : \n",
    "        print(i, \" is prime\")\n",
    "    i = i + 1"
   ]
  },
  {
   "cell_type": "markdown",
   "metadata": {},
   "source": [
    "---\n",
    "\n",
    "## Homework #4\n",
    "\n",
    "\n",
    "Please write a code to draw a figure of \"Galata Tower\" on screen by using only **\" * \"** shape, as below. And also a clue is given below:\n",
    "\n",
    "![](./Figures/galata.png)\n",
    "\n",
    "![](./Figures/clue.png)\n",
    "\n",
    "PS: Do not forget to upload your \"HWX_namesurname.ipynb\" files to http://gtuzem.gtu.edu.tr/\n",
    "\n",
    "---"
   ]
  }
 ],
 "metadata": {
  "kernelspec": {
   "display_name": "Python 3",
   "language": "python",
   "name": "python3"
  },
  "language_info": {
   "codemirror_mode": {
    "name": "ipython",
    "version": 3
   },
   "file_extension": ".py",
   "mimetype": "text/x-python",
   "name": "python",
   "nbconvert_exporter": "python",
   "pygments_lexer": "ipython3",
   "version": "3.8.7"
  }
 },
 "nbformat": 4,
 "nbformat_minor": 4
}
