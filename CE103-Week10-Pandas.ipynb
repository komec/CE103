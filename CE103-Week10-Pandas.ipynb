{
 "cells": [
  {
   "cell_type": "markdown",
   "metadata": {},
   "source": [
    "### CE 103- INTRODUCTION TO COMPUTERS and PROGRAMMING"
   ]
  },
  {
   "cell_type": "markdown",
   "metadata": {},
   "source": [
    "### _The topics of the week !_\n",
    "\n",
    "- PANDAS\n",
    "    - Data Structures in Pandas\n",
    "    - Data Manipulation\n",
    "    - Import/Export Data \n",
    "    - Time Series Analysis\n",
    "    - Visualization\n",
    "    \n"
   ]
  },
  {
   "cell_type": "markdown",
   "metadata": {},
   "source": [
    "Pandas (derived from the term \"Panel Data\") stands for “Python Data Analysis Library”, which is mostly preferred and widely used library of Python. Its very helpful tool especially for Data Scientists and Analysts, and its built on top of the NumPy package just as SciPy does.\n"
   ]
  },
  {
   "cell_type": "code",
   "execution_count": 7,
   "metadata": {},
   "outputs": [],
   "source": [
    "import numpy as np\n",
    "import pandas as pd"
   ]
  },
  {
   "cell_type": "markdown",
   "metadata": {},
   "source": [
    "---\n",
    "# DATA STRUCTURES\n"
   ]
  },
  {
   "cell_type": "markdown",
   "metadata": {},
   "source": [
    "> ## 1. Series(1D)\n",
    "\n",
    "A one-dimensional labeled array which can be in integer, string, python object format etc. The axis labels are referred as index."
   ]
  },
  {
   "cell_type": "markdown",
   "metadata": {},
   "source": [
    "> s = pd.Series(data, index = index)"
   ]
  },
  {
   "cell_type": "code",
   "execution_count": 8,
   "metadata": {},
   "outputs": [
    {
     "name": "stdout",
     "output_type": "stream",
     "text": [
      "Good Morning      1\n",
      "Good Afternoon    2\n",
      "Good Evening      3\n",
      "dtype: int64\n"
     ]
    }
   ],
   "source": [
    "greetings = pd.Series([1, 2, 3], index = ['Good Morning','Good Afternoon','Good Evening'])\n",
    "print(greetings)"
   ]
  },
  {
   "cell_type": "code",
   "execution_count": 9,
   "metadata": {},
   "outputs": [
    {
     "data": {
      "text/plain": [
       "0     3\n",
       "1     5\n",
       "2     7\n",
       "3     9\n",
       "4    11\n",
       "5    13\n",
       "6    15\n",
       "dtype: int64"
      ]
     },
     "execution_count": 9,
     "metadata": {},
     "output_type": "execute_result"
    }
   ],
   "source": [
    "mixed = np.array([3,5,7,9,11,13,15])\n",
    "s = pd.Series(mixed)        # create a pandas series by using Numpy Array\n",
    "s"
   ]
  },
  {
   "cell_type": "code",
   "execution_count": 10,
   "metadata": {},
   "outputs": [
    {
     "name": "stderr",
     "output_type": "stream",
     "text": [
      "<ipython-input-10-438f19861951>:1: FutureWarning: Series.itemsize is deprecated and will be removed in a future version\n",
      "  s.itemsize    # number of bytes allocated to each item\n"
     ]
    },
    {
     "data": {
      "text/plain": [
       "8"
      ]
     },
     "execution_count": 10,
     "metadata": {},
     "output_type": "execute_result"
    }
   ],
   "source": [
    "s.itemsize    # number of bytes allocated to each item"
   ]
  },
  {
   "cell_type": "code",
   "execution_count": 11,
   "metadata": {},
   "outputs": [
    {
     "data": {
      "text/plain": [
       "(7,)"
      ]
     },
     "execution_count": 11,
     "metadata": {},
     "output_type": "execute_result"
    }
   ],
   "source": [
    "s.shape  # gets shape of the series"
   ]
  },
  {
   "cell_type": "code",
   "execution_count": 12,
   "metadata": {},
   "outputs": [
    {
     "data": {
      "text/plain": [
       "7"
      ]
     },
     "execution_count": 12,
     "metadata": {},
     "output_type": "execute_result"
    }
   ],
   "source": [
    "s.count()  # counts values of array"
   ]
  },
  {
   "cell_type": "code",
   "execution_count": 13,
   "metadata": {},
   "outputs": [
    {
     "data": {
      "text/plain": [
       "array([ 3,  5,  7,  9, 11, 13, 15])"
      ]
     },
     "execution_count": 13,
     "metadata": {},
     "output_type": "execute_result"
    }
   ],
   "source": [
    "s.values  # gets values of array"
   ]
  },
  {
   "cell_type": "code",
   "execution_count": 14,
   "metadata": {},
   "outputs": [
    {
     "data": {
      "text/plain": [
       "RangeIndex(start=0, stop=7, step=1)"
      ]
     },
     "execution_count": 14,
     "metadata": {},
     "output_type": "execute_result"
    }
   ],
   "source": [
    "s.index  # indexing the array values"
   ]
  },
  {
   "cell_type": "code",
   "execution_count": 15,
   "metadata": {},
   "outputs": [
    {
     "data": {
      "text/plain": [
       "a    1.0\n",
       "b    3.0\n",
       "c    5.0\n",
       "d    NaN\n",
       "e    9.0\n",
       "dtype: float64"
      ]
     },
     "execution_count": 15,
     "metadata": {},
     "output_type": "execute_result"
    }
   ],
   "source": [
    "# create series from list with missing data\n",
    "\n",
    "s1 = pd.Series([1,3,5,np.nan,9], index = ['a','b','c','d','e'])   \n",
    "s1"
   ]
  },
  {
   "cell_type": "code",
   "execution_count": 16,
   "metadata": {},
   "outputs": [
    {
     "data": {
      "text/plain": [
       "(array([0.17930395, 0.78369823, 0.4044145 , 0.86236364, 0.71521072,\n",
       "        0.61736286, 0.00193033, 0.958318  , 0.75331052, 0.88846329,\n",
       "        0.69838958, 0.76939309, 0.48207812, 0.22068393, 0.51606892]),\n",
       " array([15, 16, 17, 18, 19, 20, 21, 22, 23, 24, 25, 26, 27, 28, 29]))"
      ]
     },
     "execution_count": 16,
     "metadata": {},
     "output_type": "execute_result"
    }
   ],
   "source": [
    "# create series with random and range fucntions\n",
    "\n",
    "rows = np.random.rand(15)\n",
    "columns = np.arange(15,30)\n",
    "r = pd.Series(rows, columns)\n",
    "rows, columns"
   ]
  },
  {
   "cell_type": "code",
   "execution_count": 17,
   "metadata": {},
   "outputs": [
    {
     "data": {
      "text/plain": [
       "15    0.179304\n",
       "16    0.783698\n",
       "17    0.404414\n",
       "18    0.862364\n",
       "19    0.715211\n",
       "20    0.617363\n",
       "21    0.001930\n",
       "22    0.958318\n",
       "23    0.753311\n",
       "24    0.888463\n",
       "25    0.698390\n",
       "26    0.769393\n",
       "27    0.482078\n",
       "28    0.220684\n",
       "29    0.516069\n",
       "dtype: float64"
      ]
     },
     "execution_count": 17,
     "metadata": {},
     "output_type": "execute_result"
    }
   ],
   "source": [
    "r"
   ]
  },
  {
   "cell_type": "code",
   "execution_count": 18,
   "metadata": {},
   "outputs": [
    {
     "data": {
      "text/plain": [
       "27    0.482078\n",
       "28    0.220684\n",
       "dtype: float64"
      ]
     },
     "execution_count": 18,
     "metadata": {},
     "output_type": "execute_result"
    }
   ],
   "source": [
    "# slicing values from series\n",
    "#r[:]\n",
    "#r[0:5]\n",
    "r[-3:-1]"
   ]
  },
  {
   "cell_type": "code",
   "execution_count": 19,
   "metadata": {},
   "outputs": [
    {
     "data": {
      "text/plain": [
       "LectureCodes             [GTU_CE103, GTU_CE105, GTU_CE247]\n",
       "Avg_StudentPerLecture                                   75\n",
       "NumberOfClass                                           12\n",
       "dtype: object"
      ]
     },
     "execution_count": 19,
     "metadata": {},
     "output_type": "execute_result"
    }
   ],
   "source": [
    "# create series from dictionary\n",
    "\n",
    "dictionary ={ \"LectureCodes\" : [\"GTU_CE103\",\"GTU_CE105\",\"GTU_CE247\"],  # create a dictionary to convert json object\n",
    "              \"Avg_StudentPerLecture\" : 75, \n",
    "              \"NumberOfClass\" : 12 \n",
    "            }\n",
    "s2 = pd.Series(dictionary)\n",
    "s2"
   ]
  },
  {
   "cell_type": "code",
   "execution_count": 20,
   "metadata": {},
   "outputs": [
    {
     "data": {
      "text/plain": [
       "LectureCodes             [GTU_CE103, GTU_CE105, GTU_CE247]\n",
       "Avg_StudentPerLecture                                   75\n",
       "NumberOfClass                                           12\n",
       "27                                                0.482078\n",
       "28                                                0.220684\n",
       "29                                                0.516069\n",
       "dtype: object"
      ]
     },
     "execution_count": 20,
     "metadata": {},
     "output_type": "execute_result"
    }
   ],
   "source": [
    "# append series\n",
    "\n",
    "s3 = s2.append(r[-3:])\n",
    "s3"
   ]
  },
  {
   "cell_type": "code",
   "execution_count": 21,
   "metadata": {},
   "outputs": [
    {
     "data": {
      "text/plain": [
       "LectureCodes             [GTU_CE103, GTU_CE105, GTU_CE247]\n",
       "Avg_StudentPerLecture                                   75\n",
       "27                                                0.482078\n",
       "28                                                0.220684\n",
       "29                                                0.516069\n",
       "dtype: object"
      ]
     },
     "execution_count": 21,
     "metadata": {},
     "output_type": "execute_result"
    }
   ],
   "source": [
    "# delete item from series\n",
    "\n",
    "s3.drop('NumberOfClass', inplace = True)\n",
    "s3"
   ]
  },
  {
   "cell_type": "code",
   "execution_count": 22,
   "metadata": {},
   "outputs": [
    {
     "data": {
      "text/plain": [
       "Avg_StudentPerLecture          75\n",
       "27                       0.482078\n",
       "28                       0.220684\n",
       "29                       0.516069\n",
       "dtype: object"
      ]
     },
     "execution_count": 22,
     "metadata": {},
     "output_type": "execute_result"
    }
   ],
   "source": [
    "# delete item from series\n",
    "\n",
    "s3.drop('LectureCodes', inplace = True)\n",
    "s3"
   ]
  },
  {
   "cell_type": "code",
   "execution_count": 23,
   "metadata": {},
   "outputs": [
    {
     "data": {
      "text/plain": [
       "Avg_StudentPerLecture          75\n",
       "27                       0.482078\n",
       "28                       0.220684\n",
       "dtype: object"
      ]
     },
     "execution_count": 23,
     "metadata": {},
     "output_type": "execute_result"
    }
   ],
   "source": [
    "s3.drop(29, inplace = True)\n",
    "s3"
   ]
  },
  {
   "cell_type": "code",
   "execution_count": 24,
   "metadata": {},
   "outputs": [
    {
     "data": {
      "text/plain": [
       "(0    3\n",
       " 1    5\n",
       " 2    7\n",
       " 3    9\n",
       " dtype: int64,\n",
       " 0    2\n",
       " 1    4\n",
       " 2    6\n",
       " 3    8\n",
       " dtype: int64)"
      ]
     },
     "execution_count": 24,
     "metadata": {},
     "output_type": "execute_result"
    }
   ],
   "source": [
    "# operations with series\n",
    "\n",
    "a, b = np.array([3,5,7,9]),np.array([2,4,6,8])\n",
    "s1 = pd.Series(a) \n",
    "s2 = pd.Series(b)\n",
    "s1 , s2"
   ]
  },
  {
   "cell_type": "code",
   "execution_count": 25,
   "metadata": {},
   "outputs": [
    {
     "data": {
      "text/plain": [
       "0    1.500000\n",
       "1    1.250000\n",
       "2    1.166667\n",
       "3    1.125000\n",
       "dtype: float64"
      ]
     },
     "execution_count": 25,
     "metadata": {},
     "output_type": "execute_result"
    }
   ],
   "source": [
    "s1.add(s2) # add series to each other\n",
    "s1.add(10) # add fix number to all values in the series\n",
    "s1.mul(s2) # multiply two series with each other\n",
    "s1.div(s2) # division of series"
   ]
  },
  {
   "cell_type": "code",
   "execution_count": 26,
   "metadata": {},
   "outputs": [
    {
     "data": {
      "text/plain": [
       "6.0"
      ]
     },
     "execution_count": 26,
     "metadata": {},
     "output_type": "execute_result"
    }
   ],
   "source": [
    "s1.max()\n",
    "s2.mean()\n",
    "s1.median()"
   ]
  },
  {
   "cell_type": "markdown",
   "metadata": {},
   "source": [
    "> ## 2. Dataframe (2D)\n",
    "\n",
    "It is a 2-dimensional labeled data structure with different types of columns. Dataframe is main object in pandas which used to represent data with rows and columns such as excel spreadsheets."
   ]
  },
  {
   "cell_type": "code",
   "execution_count": 27,
   "metadata": {},
   "outputs": [
    {
     "data": {
      "text/html": [
       "<div>\n",
       "<style scoped>\n",
       "    .dataframe tbody tr th:only-of-type {\n",
       "        vertical-align: middle;\n",
       "    }\n",
       "\n",
       "    .dataframe tbody tr th {\n",
       "        vertical-align: top;\n",
       "    }\n",
       "\n",
       "    .dataframe thead th {\n",
       "        text-align: right;\n",
       "    }\n",
       "</style>\n",
       "<table border=\"1\" class=\"dataframe\">\n",
       "  <thead>\n",
       "    <tr style=\"text-align: right;\">\n",
       "      <th></th>\n",
       "    </tr>\n",
       "  </thead>\n",
       "  <tbody>\n",
       "  </tbody>\n",
       "</table>\n",
       "</div>"
      ],
      "text/plain": [
       "Empty DataFrame\n",
       "Columns: []\n",
       "Index: []"
      ]
     },
     "execution_count": 27,
     "metadata": {},
     "output_type": "execute_result"
    }
   ],
   "source": [
    "# create a dataframe \n",
    "\n",
    "df = pd.DataFrame()\n",
    "df"
   ]
  },
  {
   "cell_type": "code",
   "execution_count": 28,
   "metadata": {},
   "outputs": [
    {
     "data": {
      "text/html": [
       "<div>\n",
       "<style scoped>\n",
       "    .dataframe tbody tr th:only-of-type {\n",
       "        vertical-align: middle;\n",
       "    }\n",
       "\n",
       "    .dataframe tbody tr th {\n",
       "        vertical-align: top;\n",
       "    }\n",
       "\n",
       "    .dataframe thead th {\n",
       "        text-align: right;\n",
       "    }\n",
       "</style>\n",
       "<table border=\"1\" class=\"dataframe\">\n",
       "  <thead>\n",
       "    <tr style=\"text-align: right;\">\n",
       "      <th></th>\n",
       "      <th>0</th>\n",
       "    </tr>\n",
       "  </thead>\n",
       "  <tbody>\n",
       "    <tr>\n",
       "      <th>0</th>\n",
       "      <td>monday</td>\n",
       "    </tr>\n",
       "    <tr>\n",
       "      <th>1</th>\n",
       "      <td>wednesday</td>\n",
       "    </tr>\n",
       "    <tr>\n",
       "      <th>2</th>\n",
       "      <td>friday</td>\n",
       "    </tr>\n",
       "    <tr>\n",
       "      <th>3</th>\n",
       "      <td>sunday</td>\n",
       "    </tr>\n",
       "  </tbody>\n",
       "</table>\n",
       "</div>"
      ],
      "text/plain": [
       "           0\n",
       "0     monday\n",
       "1  wednesday\n",
       "2     friday\n",
       "3     sunday"
      ]
     },
     "execution_count": 28,
     "metadata": {},
     "output_type": "execute_result"
    }
   ],
   "source": [
    "# create a dataframe using list\n",
    "\n",
    "consump_df = pd.DataFrame(['monday','wednesday','friday', 'sunday']) \n",
    "consump_df"
   ]
  },
  {
   "cell_type": "code",
   "execution_count": 29,
   "metadata": {},
   "outputs": [
    {
     "data": {
      "text/html": [
       "<div>\n",
       "<style scoped>\n",
       "    .dataframe tbody tr th:only-of-type {\n",
       "        vertical-align: middle;\n",
       "    }\n",
       "\n",
       "    .dataframe tbody tr th {\n",
       "        vertical-align: top;\n",
       "    }\n",
       "\n",
       "    .dataframe thead th {\n",
       "        text-align: right;\n",
       "    }\n",
       "</style>\n",
       "<table border=\"1\" class=\"dataframe\">\n",
       "  <thead>\n",
       "    <tr style=\"text-align: right;\">\n",
       "      <th></th>\n",
       "      <th>0</th>\n",
       "      <th>1</th>\n",
       "      <th>2</th>\n",
       "    </tr>\n",
       "  </thead>\n",
       "  <tbody>\n",
       "    <tr>\n",
       "      <th>0</th>\n",
       "      <td>monday</td>\n",
       "      <td>milk</td>\n",
       "      <td>4</td>\n",
       "    </tr>\n",
       "    <tr>\n",
       "      <th>1</th>\n",
       "      <td>wednesday</td>\n",
       "      <td>bread</td>\n",
       "      <td>2</td>\n",
       "    </tr>\n",
       "    <tr>\n",
       "      <th>2</th>\n",
       "      <td>friday</td>\n",
       "      <td>egg</td>\n",
       "      <td>4</td>\n",
       "    </tr>\n",
       "    <tr>\n",
       "      <th>3</th>\n",
       "      <td>sunday</td>\n",
       "      <td>newspaper</td>\n",
       "      <td>1</td>\n",
       "    </tr>\n",
       "  </tbody>\n",
       "</table>\n",
       "</div>"
      ],
      "text/plain": [
       "           0          1  2\n",
       "0     monday       milk  4\n",
       "1  wednesday      bread  2\n",
       "2     friday        egg  4\n",
       "3     sunday  newspaper  1"
      ]
     },
     "execution_count": 29,
     "metadata": {},
     "output_type": "execute_result"
    }
   ],
   "source": [
    "# add columns to an existing dataframe\n",
    "\n",
    "shop_lst = ['milk','bread','egg','newspaper']\n",
    "consump_df[1] = shop_lst\n",
    "consump_df[2] = [4, 2, 4, 1] \n",
    "consump_df"
   ]
  },
  {
   "cell_type": "code",
   "execution_count": 30,
   "metadata": {},
   "outputs": [
    {
     "data": {
      "text/html": [
       "<div>\n",
       "<style scoped>\n",
       "    .dataframe tbody tr th:only-of-type {\n",
       "        vertical-align: middle;\n",
       "    }\n",
       "\n",
       "    .dataframe tbody tr th {\n",
       "        vertical-align: top;\n",
       "    }\n",
       "\n",
       "    .dataframe thead th {\n",
       "        text-align: right;\n",
       "    }\n",
       "</style>\n",
       "<table border=\"1\" class=\"dataframe\">\n",
       "  <thead>\n",
       "    <tr style=\"text-align: right;\">\n",
       "      <th></th>\n",
       "      <th>Service Days</th>\n",
       "      <th>Item</th>\n",
       "      <th>Cost in TL</th>\n",
       "    </tr>\n",
       "  </thead>\n",
       "  <tbody>\n",
       "    <tr>\n",
       "      <th>0</th>\n",
       "      <td>monday</td>\n",
       "      <td>milk</td>\n",
       "      <td>4</td>\n",
       "    </tr>\n",
       "    <tr>\n",
       "      <th>1</th>\n",
       "      <td>wednesday</td>\n",
       "      <td>bread</td>\n",
       "      <td>2</td>\n",
       "    </tr>\n",
       "    <tr>\n",
       "      <th>2</th>\n",
       "      <td>friday</td>\n",
       "      <td>egg</td>\n",
       "      <td>4</td>\n",
       "    </tr>\n",
       "    <tr>\n",
       "      <th>3</th>\n",
       "      <td>sunday</td>\n",
       "      <td>newspaper</td>\n",
       "      <td>1</td>\n",
       "    </tr>\n",
       "  </tbody>\n",
       "</table>\n",
       "</div>"
      ],
      "text/plain": [
       "  Service Days       Item  Cost in TL\n",
       "0       monday       milk           4\n",
       "1    wednesday      bread           2\n",
       "2       friday        egg           4\n",
       "3       sunday  newspaper           1"
      ]
     },
     "execution_count": 30,
     "metadata": {},
     "output_type": "execute_result"
    }
   ],
   "source": [
    "# Assign header information to each column\n",
    "\n",
    "consump_df.columns = ['Service Days', 'Item', 'Cost in TL']\n",
    "consump_df"
   ]
  },
  {
   "cell_type": "code",
   "execution_count": 31,
   "metadata": {},
   "outputs": [
    {
     "data": {
      "text/plain": [
       "Index(['Service Days', 'Item', 'Cost in TL'], dtype='object')"
      ]
     },
     "execution_count": 31,
     "metadata": {},
     "output_type": "execute_result"
    }
   ],
   "source": [
    "# call data with columns or raws\n",
    "\n",
    "consump_df.columns\n",
    "#consump_df.index"
   ]
  },
  {
   "cell_type": "code",
   "execution_count": 32,
   "metadata": {},
   "outputs": [
    {
     "data": {
      "text/plain": [
       "0       monday\n",
       "1    wednesday\n",
       "2       friday\n",
       "3       sunday\n",
       "Name: Service Days, dtype: object"
      ]
     },
     "execution_count": 32,
     "metadata": {},
     "output_type": "execute_result"
    }
   ],
   "source": [
    "consump_df['Service Days']"
   ]
  },
  {
   "cell_type": "code",
   "execution_count": 33,
   "metadata": {},
   "outputs": [
    {
     "data": {
      "text/html": [
       "<div>\n",
       "<style scoped>\n",
       "    .dataframe tbody tr th:only-of-type {\n",
       "        vertical-align: middle;\n",
       "    }\n",
       "\n",
       "    .dataframe tbody tr th {\n",
       "        vertical-align: top;\n",
       "    }\n",
       "\n",
       "    .dataframe thead th {\n",
       "        text-align: right;\n",
       "    }\n",
       "</style>\n",
       "<table border=\"1\" class=\"dataframe\">\n",
       "  <thead>\n",
       "    <tr style=\"text-align: right;\">\n",
       "      <th></th>\n",
       "      <th>Service Days</th>\n",
       "      <th>Item</th>\n",
       "      <th>Cost in TL</th>\n",
       "      <th>Customer Name</th>\n",
       "    </tr>\n",
       "  </thead>\n",
       "  <tbody>\n",
       "    <tr>\n",
       "      <th>0</th>\n",
       "      <td>monday</td>\n",
       "      <td>milk</td>\n",
       "      <td>4</td>\n",
       "      <td>Aylin</td>\n",
       "    </tr>\n",
       "    <tr>\n",
       "      <th>1</th>\n",
       "      <td>wednesday</td>\n",
       "      <td>bread</td>\n",
       "      <td>2</td>\n",
       "      <td>Hasan</td>\n",
       "    </tr>\n",
       "    <tr>\n",
       "      <th>2</th>\n",
       "      <td>friday</td>\n",
       "      <td>egg</td>\n",
       "      <td>4</td>\n",
       "      <td>Murat</td>\n",
       "    </tr>\n",
       "    <tr>\n",
       "      <th>3</th>\n",
       "      <td>sunday</td>\n",
       "      <td>newspaper</td>\n",
       "      <td>1</td>\n",
       "      <td>Selin</td>\n",
       "    </tr>\n",
       "  </tbody>\n",
       "</table>\n",
       "</div>"
      ],
      "text/plain": [
       "  Service Days       Item  Cost in TL Customer Name\n",
       "0       monday       milk           4         Aylin\n",
       "1    wednesday      bread           2         Hasan\n",
       "2       friday        egg           4         Murat\n",
       "3       sunday  newspaper           1         Selin"
      ]
     },
     "execution_count": 33,
     "metadata": {},
     "output_type": "execute_result"
    }
   ],
   "source": [
    "# create a new column by assigning a column that does not exist\n",
    "\n",
    "consump_df['Customer Name'] = ['Aylin','Hasan','Murat','Selin']\n",
    "consump_df"
   ]
  },
  {
   "cell_type": "code",
   "execution_count": 34,
   "metadata": {},
   "outputs": [
    {
     "data": {
      "text/html": [
       "<div>\n",
       "<style scoped>\n",
       "    .dataframe tbody tr th:only-of-type {\n",
       "        vertical-align: middle;\n",
       "    }\n",
       "\n",
       "    .dataframe tbody tr th {\n",
       "        vertical-align: top;\n",
       "    }\n",
       "\n",
       "    .dataframe thead th {\n",
       "        text-align: right;\n",
       "    }\n",
       "</style>\n",
       "<table border=\"1\" class=\"dataframe\">\n",
       "  <thead>\n",
       "    <tr style=\"text-align: right;\">\n",
       "      <th></th>\n",
       "      <th>Service Days</th>\n",
       "      <th>Item</th>\n",
       "      <th>Customer Name</th>\n",
       "    </tr>\n",
       "  </thead>\n",
       "  <tbody>\n",
       "    <tr>\n",
       "      <th>0</th>\n",
       "      <td>monday</td>\n",
       "      <td>milk</td>\n",
       "      <td>Aylin</td>\n",
       "    </tr>\n",
       "    <tr>\n",
       "      <th>1</th>\n",
       "      <td>wednesday</td>\n",
       "      <td>bread</td>\n",
       "      <td>Hasan</td>\n",
       "    </tr>\n",
       "    <tr>\n",
       "      <th>2</th>\n",
       "      <td>friday</td>\n",
       "      <td>egg</td>\n",
       "      <td>Murat</td>\n",
       "    </tr>\n",
       "    <tr>\n",
       "      <th>3</th>\n",
       "      <td>sunday</td>\n",
       "      <td>newspaper</td>\n",
       "      <td>Selin</td>\n",
       "    </tr>\n",
       "  </tbody>\n",
       "</table>\n",
       "</div>"
      ],
      "text/plain": [
       "  Service Days       Item Customer Name\n",
       "0       monday       milk         Aylin\n",
       "1    wednesday      bread         Hasan\n",
       "2       friday        egg         Murat\n",
       "3       sunday  newspaper         Selin"
      ]
     },
     "execution_count": 34,
     "metadata": {},
     "output_type": "execute_result"
    }
   ],
   "source": [
    "# delete column from dataframe\n",
    "\n",
    "del consump_df['Cost in TL']\n",
    "consump_df"
   ]
  },
  {
   "cell_type": "code",
   "execution_count": 35,
   "metadata": {},
   "outputs": [
    {
     "data": {
      "text/html": [
       "<div>\n",
       "<style scoped>\n",
       "    .dataframe tbody tr th:only-of-type {\n",
       "        vertical-align: middle;\n",
       "    }\n",
       "\n",
       "    .dataframe tbody tr th {\n",
       "        vertical-align: top;\n",
       "    }\n",
       "\n",
       "    .dataframe thead th {\n",
       "        text-align: right;\n",
       "    }\n",
       "</style>\n",
       "<table border=\"1\" class=\"dataframe\">\n",
       "  <thead>\n",
       "    <tr style=\"text-align: right;\">\n",
       "      <th></th>\n",
       "      <th>0</th>\n",
       "      <th>1</th>\n",
       "      <th>2</th>\n",
       "      <th>3</th>\n",
       "    </tr>\n",
       "  </thead>\n",
       "  <tbody>\n",
       "    <tr>\n",
       "      <th>Service Days</th>\n",
       "      <td>monday</td>\n",
       "      <td>wednesday</td>\n",
       "      <td>friday</td>\n",
       "      <td>sunday</td>\n",
       "    </tr>\n",
       "    <tr>\n",
       "      <th>Item</th>\n",
       "      <td>milk</td>\n",
       "      <td>bread</td>\n",
       "      <td>egg</td>\n",
       "      <td>newspaper</td>\n",
       "    </tr>\n",
       "    <tr>\n",
       "      <th>Customer Name</th>\n",
       "      <td>Aylin</td>\n",
       "      <td>Hasan</td>\n",
       "      <td>Murat</td>\n",
       "      <td>Selin</td>\n",
       "    </tr>\n",
       "  </tbody>\n",
       "</table>\n",
       "</div>"
      ],
      "text/plain": [
       "                    0          1       2          3\n",
       "Service Days   monday  wednesday  friday     sunday\n",
       "Item             milk      bread     egg  newspaper\n",
       "Customer Name   Aylin      Hasan   Murat      Selin"
      ]
     },
     "execution_count": 35,
     "metadata": {},
     "output_type": "execute_result"
    }
   ],
   "source": [
    "# colomn to raw switch\n",
    "\n",
    "consump_df.T"
   ]
  },
  {
   "cell_type": "code",
   "execution_count": 36,
   "metadata": {},
   "outputs": [
    {
     "data": {
      "text/plain": [
       "Service Days        sunday\n",
       "Item             newspaper\n",
       "Customer Name        Selin\n",
       "Name: 3, dtype: object"
      ]
     },
     "execution_count": 36,
     "metadata": {},
     "output_type": "execute_result"
    }
   ],
   "source": [
    "# Data selection in dataframe usinf row label\n",
    "\n",
    "consump_df.loc[3]                                                                                                                                                          "
   ]
  },
  {
   "cell_type": "markdown",
   "metadata": {},
   "source": [
    "> ## 3. Indexing\n",
    "\n",
    "Indexing refers to select specific rows and columns of data from a dataframe. It can handle different combination of row-column selection. "
   ]
  },
  {
   "cell_type": "code",
   "execution_count": 37,
   "metadata": {},
   "outputs": [
    {
     "data": {
      "text/html": [
       "<div>\n",
       "<style scoped>\n",
       "    .dataframe tbody tr th:only-of-type {\n",
       "        vertical-align: middle;\n",
       "    }\n",
       "\n",
       "    .dataframe tbody tr th {\n",
       "        vertical-align: top;\n",
       "    }\n",
       "\n",
       "    .dataframe thead th {\n",
       "        text-align: right;\n",
       "    }\n",
       "</style>\n",
       "<table border=\"1\" class=\"dataframe\">\n",
       "  <thead>\n",
       "    <tr style=\"text-align: right;\">\n",
       "      <th></th>\n",
       "      <th>Site A</th>\n",
       "      <th>Site B</th>\n",
       "      <th>Site C</th>\n",
       "      <th>Site D</th>\n",
       "    </tr>\n",
       "  </thead>\n",
       "  <tbody>\n",
       "    <tr>\n",
       "      <th>a</th>\n",
       "      <td>0.935329</td>\n",
       "      <td>0.102643</td>\n",
       "      <td>-0.373751</td>\n",
       "      <td>1.510658</td>\n",
       "    </tr>\n",
       "    <tr>\n",
       "      <th>b</th>\n",
       "      <td>-2.415352</td>\n",
       "      <td>-0.038518</td>\n",
       "      <td>0.438362</td>\n",
       "      <td>-0.563975</td>\n",
       "    </tr>\n",
       "    <tr>\n",
       "      <th>c</th>\n",
       "      <td>1.040873</td>\n",
       "      <td>0.722236</td>\n",
       "      <td>-0.683323</td>\n",
       "      <td>0.998207</td>\n",
       "    </tr>\n",
       "    <tr>\n",
       "      <th>4</th>\n",
       "      <td>0.855606</td>\n",
       "      <td>1.416956</td>\n",
       "      <td>0.987088</td>\n",
       "      <td>1.704515</td>\n",
       "    </tr>\n",
       "    <tr>\n",
       "      <th>5</th>\n",
       "      <td>-0.964835</td>\n",
       "      <td>-2.035745</td>\n",
       "      <td>1.499951</td>\n",
       "      <td>-0.171351</td>\n",
       "    </tr>\n",
       "  </tbody>\n",
       "</table>\n",
       "</div>"
      ],
      "text/plain": [
       "     Site A    Site B    Site C    Site D\n",
       "a  0.935329  0.102643 -0.373751  1.510658\n",
       "b -2.415352 -0.038518  0.438362 -0.563975\n",
       "c  1.040873  0.722236 -0.683323  0.998207\n",
       "4  0.855606  1.416956  0.987088  1.704515\n",
       "5 -0.964835 -2.035745  1.499951 -0.171351"
      ]
     },
     "execution_count": 37,
     "metadata": {},
     "output_type": "execute_result"
    }
   ],
   "source": [
    "shift_df = pd.DataFrame(np.random.randn(5, 4), index=['a','b','c', 4, 5], columns=['Site A', 'Site B', 'Site C', 'Site D'])\n",
    "shift_df"
   ]
  },
  {
   "cell_type": "code",
   "execution_count": 38,
   "metadata": {},
   "outputs": [
    {
     "data": {
      "text/plain": [
       "name  number\n",
       "a     3         0.616591\n",
       "b     5         0.048444\n",
       "c     8         0.294892\n",
       "dtype: float64"
      ]
     },
     "execution_count": 38,
     "metadata": {},
     "output_type": "execute_result"
    }
   ],
   "source": [
    "# multi-index level\n",
    "\n",
    "s = pd.Series(np.random.rand(3), index = [['a','b','c'],[3,5,8]])\n",
    "s.index.names = ['name','number']\n",
    "s"
   ]
  },
  {
   "cell_type": "code",
   "execution_count": 39,
   "metadata": {},
   "outputs": [
    {
     "data": {
      "text/plain": [
       "number\n",
       "3    0.616591\n",
       "dtype: float64"
      ]
     },
     "execution_count": 39,
     "metadata": {},
     "output_type": "execute_result"
    }
   ],
   "source": [
    "s['a']  # select a row"
   ]
  },
  {
   "cell_type": "code",
   "execution_count": 40,
   "metadata": {},
   "outputs": [
    {
     "data": {
      "text/html": [
       "<div>\n",
       "<style scoped>\n",
       "    .dataframe tbody tr th:only-of-type {\n",
       "        vertical-align: middle;\n",
       "    }\n",
       "\n",
       "    .dataframe tbody tr th {\n",
       "        vertical-align: top;\n",
       "    }\n",
       "\n",
       "    .dataframe thead th {\n",
       "        text-align: right;\n",
       "    }\n",
       "</style>\n",
       "<table border=\"1\" class=\"dataframe\">\n",
       "  <thead>\n",
       "    <tr style=\"text-align: right;\">\n",
       "      <th></th>\n",
       "      <th>A</th>\n",
       "      <th>B</th>\n",
       "      <th>C</th>\n",
       "      <th>D</th>\n",
       "    </tr>\n",
       "  </thead>\n",
       "  <tbody>\n",
       "    <tr>\n",
       "      <th>a</th>\n",
       "      <td>-0.087852</td>\n",
       "      <td>-0.671507</td>\n",
       "      <td>1.821136</td>\n",
       "      <td>0.927293</td>\n",
       "    </tr>\n",
       "    <tr>\n",
       "      <th>b</th>\n",
       "      <td>-0.579540</td>\n",
       "      <td>1.009775</td>\n",
       "      <td>-0.828617</td>\n",
       "      <td>0.156660</td>\n",
       "    </tr>\n",
       "    <tr>\n",
       "      <th>c</th>\n",
       "      <td>0.984147</td>\n",
       "      <td>0.879012</td>\n",
       "      <td>0.653540</td>\n",
       "      <td>-1.120316</td>\n",
       "    </tr>\n",
       "    <tr>\n",
       "      <th>d</th>\n",
       "      <td>0.066700</td>\n",
       "      <td>0.378908</td>\n",
       "      <td>0.801398</td>\n",
       "      <td>-0.319704</td>\n",
       "    </tr>\n",
       "    <tr>\n",
       "      <th>e</th>\n",
       "      <td>-1.317968</td>\n",
       "      <td>-1.896691</td>\n",
       "      <td>-1.438155</td>\n",
       "      <td>0.458146</td>\n",
       "    </tr>\n",
       "    <tr>\n",
       "      <th>f</th>\n",
       "      <td>-1.180045</td>\n",
       "      <td>-1.181145</td>\n",
       "      <td>-0.912480</td>\n",
       "      <td>0.730556</td>\n",
       "    </tr>\n",
       "  </tbody>\n",
       "</table>\n",
       "</div>"
      ],
      "text/plain": [
       "          A         B         C         D\n",
       "a -0.087852 -0.671507  1.821136  0.927293\n",
       "b -0.579540  1.009775 -0.828617  0.156660\n",
       "c  0.984147  0.879012  0.653540 -1.120316\n",
       "d  0.066700  0.378908  0.801398 -0.319704\n",
       "e -1.317968 -1.896691 -1.438155  0.458146\n",
       "f -1.180045 -1.181145 -0.912480  0.730556"
      ]
     },
     "execution_count": 40,
     "metadata": {},
     "output_type": "execute_result"
    }
   ],
   "source": [
    "df5 = pd.DataFrame(np.random.randn(6, 4), index=list('abcdef'), columns=list('ABCD'))\n",
    "df5"
   ]
  },
  {
   "cell_type": "code",
   "execution_count": 41,
   "metadata": {},
   "outputs": [
    {
     "data": {
      "text/html": [
       "<div>\n",
       "<style scoped>\n",
       "    .dataframe tbody tr th:only-of-type {\n",
       "        vertical-align: middle;\n",
       "    }\n",
       "\n",
       "    .dataframe tbody tr th {\n",
       "        vertical-align: top;\n",
       "    }\n",
       "\n",
       "    .dataframe thead th {\n",
       "        text-align: right;\n",
       "    }\n",
       "</style>\n",
       "<table border=\"1\" class=\"dataframe\">\n",
       "  <thead>\n",
       "    <tr style=\"text-align: right;\">\n",
       "      <th></th>\n",
       "      <th>B</th>\n",
       "      <th>C</th>\n",
       "      <th>D</th>\n",
       "    </tr>\n",
       "  </thead>\n",
       "  <tbody>\n",
       "    <tr>\n",
       "      <th>e</th>\n",
       "      <td>-1.896691</td>\n",
       "      <td>-1.438155</td>\n",
       "      <td>0.458146</td>\n",
       "    </tr>\n",
       "    <tr>\n",
       "      <th>f</th>\n",
       "      <td>-1.181145</td>\n",
       "      <td>-0.912480</td>\n",
       "      <td>0.730556</td>\n",
       "    </tr>\n",
       "  </tbody>\n",
       "</table>\n",
       "</div>"
      ],
      "text/plain": [
       "          B         C         D\n",
       "e -1.896691 -1.438155  0.458146\n",
       "f -1.181145 -0.912480  0.730556"
      ]
     },
     "execution_count": 41,
     "metadata": {},
     "output_type": "execute_result"
    }
   ],
   "source": [
    "df5.loc['e':, 'B':'D']  # select specific rows and columns"
   ]
  },
  {
   "cell_type": "markdown",
   "metadata": {},
   "source": [
    "---\n",
    "# NaN vs Null \n",
    "\n",
    "NaN or None are not number, they refers to the missing/not available data. In databases _**pd.notnull()**_ or _**df.isnull()**_ are very usefull to detect missing data."
   ]
  },
  {
   "cell_type": "code",
   "execution_count": 42,
   "metadata": {},
   "outputs": [
    {
     "data": {
      "text/plain": [
       "0     NaN\n",
       "1     NaN\n",
       "2     8.0\n",
       "3     9.0\n",
       "4    10.0\n",
       "dtype: float64"
      ]
     },
     "execution_count": 42,
     "metadata": {},
     "output_type": "execute_result"
    }
   ],
   "source": [
    "s = pd.Series([np.nan,np.NaN,8,9,10])\n",
    "s"
   ]
  },
  {
   "cell_type": "code",
   "execution_count": 43,
   "metadata": {},
   "outputs": [
    {
     "data": {
      "text/plain": [
       "0     True\n",
       "1     True\n",
       "2    False\n",
       "3    False\n",
       "4    False\n",
       "dtype: bool"
      ]
     },
     "execution_count": 43,
     "metadata": {},
     "output_type": "execute_result"
    }
   ],
   "source": [
    "s.isnull()"
   ]
  },
  {
   "cell_type": "code",
   "execution_count": 44,
   "metadata": {},
   "outputs": [
    {
     "data": {
      "text/plain": [
       "0     True\n",
       "1     True\n",
       "2    False\n",
       "3    False\n",
       "4    False\n",
       "dtype: bool"
      ]
     },
     "execution_count": 44,
     "metadata": {},
     "output_type": "execute_result"
    }
   ],
   "source": [
    "s.isna()"
   ]
  },
  {
   "cell_type": "code",
   "execution_count": 45,
   "metadata": {},
   "outputs": [
    {
     "data": {
      "text/plain": [
       "2     8.0\n",
       "3     9.0\n",
       "4    10.0\n",
       "dtype: float64"
      ]
     },
     "execution_count": 45,
     "metadata": {},
     "output_type": "execute_result"
    }
   ],
   "source": [
    "s.dropna()"
   ]
  },
  {
   "cell_type": "code",
   "execution_count": 46,
   "metadata": {},
   "outputs": [
    {
     "data": {
      "text/plain": [
       "0    33.0\n",
       "1    33.0\n",
       "2     8.0\n",
       "3     9.0\n",
       "4    10.0\n",
       "dtype: float64"
      ]
     },
     "execution_count": 46,
     "metadata": {},
     "output_type": "execute_result"
    }
   ],
   "source": [
    "s.fillna(33)"
   ]
  },
  {
   "cell_type": "code",
   "execution_count": 47,
   "metadata": {},
   "outputs": [
    {
     "data": {
      "text/plain": [
       "0    hello\n",
       "1    hello\n",
       "2        8\n",
       "3        9\n",
       "4       10\n",
       "dtype: object"
      ]
     },
     "execution_count": 47,
     "metadata": {},
     "output_type": "execute_result"
    }
   ],
   "source": [
    "s.fillna('hello')"
   ]
  },
  {
   "cell_type": "markdown",
   "metadata": {},
   "source": [
    "---\n",
    "# IMPORT DATA"
   ]
  },
  {
   "cell_type": "code",
   "execution_count": 59,
   "metadata": {},
   "outputs": [
    {
     "data": {
      "text/html": [
       "<div>\n",
       "<style scoped>\n",
       "    .dataframe tbody tr th:only-of-type {\n",
       "        vertical-align: middle;\n",
       "    }\n",
       "\n",
       "    .dataframe tbody tr th {\n",
       "        vertical-align: top;\n",
       "    }\n",
       "\n",
       "    .dataframe thead th {\n",
       "        text-align: right;\n",
       "    }\n",
       "</style>\n",
       "<table border=\"1\" class=\"dataframe\">\n",
       "  <thead>\n",
       "    <tr style=\"text-align: right;\">\n",
       "      <th></th>\n",
       "      <th>Year</th>\n",
       "      <th>01-Ocak</th>\n",
       "      <th>02-Şubat</th>\n",
       "      <th>03-Mart</th>\n",
       "      <th>04-Nisan</th>\n",
       "      <th>05-Mayıs</th>\n",
       "      <th>06-Haziran</th>\n",
       "      <th>07-Temmuz</th>\n",
       "      <th>08-Ağustos</th>\n",
       "      <th>09-Eylül</th>\n",
       "      <th>10-Ekim</th>\n",
       "      <th>11-Kasım</th>\n",
       "      <th>12-Aralık</th>\n",
       "    </tr>\n",
       "  </thead>\n",
       "  <tbody>\n",
       "    <tr>\n",
       "      <th>0</th>\n",
       "      <td>2012</td>\n",
       "      <td>-4.25</td>\n",
       "      <td>-2.19</td>\n",
       "      <td>-4.24</td>\n",
       "      <td>8.31</td>\n",
       "      <td>1.14</td>\n",
       "      <td>1.58</td>\n",
       "      <td>-5.35</td>\n",
       "      <td>0.02</td>\n",
       "      <td>-0.18</td>\n",
       "      <td>-0.98</td>\n",
       "      <td>-4.06</td>\n",
       "      <td>-2.51</td>\n",
       "    </tr>\n",
       "    <tr>\n",
       "      <th>1</th>\n",
       "      <td>2013</td>\n",
       "      <td>1.24</td>\n",
       "      <td>2.89</td>\n",
       "      <td>6.72</td>\n",
       "      <td>-3.98</td>\n",
       "      <td>-2.69</td>\n",
       "      <td>-1.36</td>\n",
       "      <td>2.59</td>\n",
       "      <td>0.29</td>\n",
       "      <td>1.69</td>\n",
       "      <td>-3.96</td>\n",
       "      <td>3.59</td>\n",
       "      <td>-1.79</td>\n",
       "    </tr>\n",
       "    <tr>\n",
       "      <th>2</th>\n",
       "      <td>2014</td>\n",
       "      <td>1.67</td>\n",
       "      <td>-2.32</td>\n",
       "      <td>-1.75</td>\n",
       "      <td>-1.42</td>\n",
       "      <td>-1.13</td>\n",
       "      <td>0.74</td>\n",
       "      <td>-0.54</td>\n",
       "      <td>-0.03</td>\n",
       "      <td>1.12</td>\n",
       "      <td>1.13</td>\n",
       "      <td>2.40</td>\n",
       "      <td>-3.67</td>\n",
       "    </tr>\n",
       "    <tr>\n",
       "      <th>3</th>\n",
       "      <td>2015</td>\n",
       "      <td>1.13</td>\n",
       "      <td>2.75</td>\n",
       "      <td>-0.65</td>\n",
       "      <td>-2.27</td>\n",
       "      <td>2.51</td>\n",
       "      <td>-1.86</td>\n",
       "      <td>-1.67</td>\n",
       "      <td>1.64</td>\n",
       "      <td>-1.93</td>\n",
       "      <td>0.06</td>\n",
       "      <td>1.01</td>\n",
       "      <td>2.93</td>\n",
       "    </tr>\n",
       "    <tr>\n",
       "      <th>4</th>\n",
       "      <td>2016</td>\n",
       "      <td>-0.91</td>\n",
       "      <td>-2.58</td>\n",
       "      <td>7.33</td>\n",
       "      <td>1.78</td>\n",
       "      <td>-10.87</td>\n",
       "      <td>-1.94</td>\n",
       "      <td>9.08</td>\n",
       "      <td>-5.38</td>\n",
       "      <td>5.90</td>\n",
       "      <td>-5.58</td>\n",
       "      <td>-3.13</td>\n",
       "      <td>-4.26</td>\n",
       "    </tr>\n",
       "    <tr>\n",
       "      <th>5</th>\n",
       "      <td>2017</td>\n",
       "      <td>-0.99</td>\n",
       "      <td>2.85</td>\n",
       "      <td>5.95</td>\n",
       "      <td>2.36</td>\n",
       "      <td>6.07</td>\n",
       "      <td>-0.79</td>\n",
       "      <td>-2.51</td>\n",
       "      <td>5.02</td>\n",
       "      <td>-8.00</td>\n",
       "      <td>1.77</td>\n",
       "      <td>-0.04</td>\n",
       "      <td>-0.20</td>\n",
       "    </tr>\n",
       "    <tr>\n",
       "      <th>6</th>\n",
       "      <td>2018</td>\n",
       "      <td>2.07</td>\n",
       "      <td>0.68</td>\n",
       "      <td>-4.58</td>\n",
       "      <td>-3.26</td>\n",
       "      <td>-5.66</td>\n",
       "      <td>-5.17</td>\n",
       "      <td>1.60</td>\n",
       "      <td>-6.81</td>\n",
       "      <td>-18.34</td>\n",
       "      <td>1.73</td>\n",
       "      <td>-4.14</td>\n",
       "      <td>-0.04</td>\n",
       "    </tr>\n",
       "    <tr>\n",
       "      <th>7</th>\n",
       "      <td>2019</td>\n",
       "      <td>-8.57</td>\n",
       "      <td>10.04</td>\n",
       "      <td>7.99</td>\n",
       "      <td>-8.37</td>\n",
       "      <td>-3.70</td>\n",
       "      <td>-3.53</td>\n",
       "      <td>6.60</td>\n",
       "      <td>5.11</td>\n",
       "      <td>7.52</td>\n",
       "      <td>8.46</td>\n",
       "      <td>-0.54</td>\n",
       "      <td>11.17</td>\n",
       "    </tr>\n",
       "  </tbody>\n",
       "</table>\n",
       "</div>"
      ],
      "text/plain": [
       "   Year  01-Ocak  02-Şubat  03-Mart  04-Nisan  05-Mayıs  06-Haziran  \\\n",
       "0  2012    -4.25     -2.19    -4.24      8.31      1.14        1.58   \n",
       "1  2013     1.24      2.89     6.72     -3.98     -2.69       -1.36   \n",
       "2  2014     1.67     -2.32    -1.75     -1.42     -1.13        0.74   \n",
       "3  2015     1.13      2.75    -0.65     -2.27      2.51       -1.86   \n",
       "4  2016    -0.91     -2.58     7.33      1.78    -10.87       -1.94   \n",
       "5  2017    -0.99      2.85     5.95      2.36      6.07       -0.79   \n",
       "6  2018     2.07      0.68    -4.58     -3.26     -5.66       -5.17   \n",
       "7  2019    -8.57     10.04     7.99     -8.37     -3.70       -3.53   \n",
       "\n",
       "   07-Temmuz  08-Ağustos  09-Eylül  10-Ekim  11-Kasım  12-Aralık  \n",
       "0      -5.35        0.02     -0.18    -0.98     -4.06      -2.51  \n",
       "1       2.59        0.29      1.69    -3.96      3.59      -1.79  \n",
       "2      -0.54       -0.03      1.12     1.13      2.40      -3.67  \n",
       "3      -1.67        1.64     -1.93     0.06      1.01       2.93  \n",
       "4       9.08       -5.38      5.90    -5.58     -3.13      -4.26  \n",
       "5      -2.51        5.02     -8.00     1.77     -0.04      -0.20  \n",
       "6       1.60       -6.81    -18.34     1.73     -4.14      -0.04  \n",
       "7       6.60        5.11      7.52     8.46     -0.54      11.17  "
      ]
     },
     "execution_count": 59,
     "metadata": {},
     "output_type": "execute_result"
    }
   ],
   "source": [
    "# read csv file from storage\n",
    "\n",
    "df_tuik = pd.read_csv('Test_Input/tuik.csv', sep = '|')  # read csv file with delimiter \"|\"\n",
    "df_tuik"
   ]
  },
  {
   "cell_type": "code",
   "execution_count": 60,
   "metadata": {},
   "outputs": [
    {
     "data": {
      "text/html": [
       "<div>\n",
       "<style scoped>\n",
       "    .dataframe tbody tr th:only-of-type {\n",
       "        vertical-align: middle;\n",
       "    }\n",
       "\n",
       "    .dataframe tbody tr th {\n",
       "        vertical-align: top;\n",
       "    }\n",
       "\n",
       "    .dataframe thead th {\n",
       "        text-align: right;\n",
       "    }\n",
       "</style>\n",
       "<table border=\"1\" class=\"dataframe\">\n",
       "  <thead>\n",
       "    <tr style=\"text-align: right;\">\n",
       "      <th></th>\n",
       "      <th>Year</th>\n",
       "      <th>01-Ocak</th>\n",
       "      <th>02-Şubat</th>\n",
       "      <th>03-Mart</th>\n",
       "      <th>04-Nisan</th>\n",
       "      <th>05-Mayıs</th>\n",
       "      <th>06-Haziran</th>\n",
       "      <th>07-Temmuz</th>\n",
       "      <th>08-Ağustos</th>\n",
       "      <th>09-Eylül</th>\n",
       "      <th>10-Ekim</th>\n",
       "      <th>11-Kasım</th>\n",
       "      <th>12-Aralık</th>\n",
       "    </tr>\n",
       "  </thead>\n",
       "  <tbody>\n",
       "    <tr>\n",
       "      <th>0</th>\n",
       "      <td>2012</td>\n",
       "      <td>-4.25</td>\n",
       "      <td>-2.19</td>\n",
       "      <td>-4.24</td>\n",
       "      <td>8.31</td>\n",
       "      <td>1.14</td>\n",
       "      <td>1.58</td>\n",
       "      <td>-5.35</td>\n",
       "      <td>0.02</td>\n",
       "      <td>-0.18</td>\n",
       "      <td>-0.98</td>\n",
       "      <td>-4.06</td>\n",
       "      <td>-2.51</td>\n",
       "    </tr>\n",
       "    <tr>\n",
       "      <th>1</th>\n",
       "      <td>2013</td>\n",
       "      <td>1.24</td>\n",
       "      <td>2.89</td>\n",
       "      <td>6.72</td>\n",
       "      <td>-3.98</td>\n",
       "      <td>-2.69</td>\n",
       "      <td>-1.36</td>\n",
       "      <td>2.59</td>\n",
       "      <td>0.29</td>\n",
       "      <td>1.69</td>\n",
       "      <td>-3.96</td>\n",
       "      <td>3.59</td>\n",
       "      <td>-1.79</td>\n",
       "    </tr>\n",
       "    <tr>\n",
       "      <th>2</th>\n",
       "      <td>2014</td>\n",
       "      <td>1.67</td>\n",
       "      <td>-2.32</td>\n",
       "      <td>-1.75</td>\n",
       "      <td>-1.42</td>\n",
       "      <td>-1.13</td>\n",
       "      <td>0.74</td>\n",
       "      <td>-0.54</td>\n",
       "      <td>-0.03</td>\n",
       "      <td>1.12</td>\n",
       "      <td>1.13</td>\n",
       "      <td>2.40</td>\n",
       "      <td>-3.67</td>\n",
       "    </tr>\n",
       "    <tr>\n",
       "      <th>3</th>\n",
       "      <td>2015</td>\n",
       "      <td>1.13</td>\n",
       "      <td>2.75</td>\n",
       "      <td>-0.65</td>\n",
       "      <td>-2.27</td>\n",
       "      <td>2.51</td>\n",
       "      <td>-1.86</td>\n",
       "      <td>-1.67</td>\n",
       "      <td>1.64</td>\n",
       "      <td>-1.93</td>\n",
       "      <td>0.06</td>\n",
       "      <td>1.01</td>\n",
       "      <td>2.93</td>\n",
       "    </tr>\n",
       "    <tr>\n",
       "      <th>4</th>\n",
       "      <td>2016</td>\n",
       "      <td>-0.91</td>\n",
       "      <td>-2.58</td>\n",
       "      <td>7.33</td>\n",
       "      <td>1.78</td>\n",
       "      <td>-10.87</td>\n",
       "      <td>-1.94</td>\n",
       "      <td>9.08</td>\n",
       "      <td>-5.38</td>\n",
       "      <td>5.90</td>\n",
       "      <td>-5.58</td>\n",
       "      <td>-3.13</td>\n",
       "      <td>-4.26</td>\n",
       "    </tr>\n",
       "  </tbody>\n",
       "</table>\n",
       "</div>"
      ],
      "text/plain": [
       "   Year  01-Ocak  02-Şubat  03-Mart  04-Nisan  05-Mayıs  06-Haziran  \\\n",
       "0  2012    -4.25     -2.19    -4.24      8.31      1.14        1.58   \n",
       "1  2013     1.24      2.89     6.72     -3.98     -2.69       -1.36   \n",
       "2  2014     1.67     -2.32    -1.75     -1.42     -1.13        0.74   \n",
       "3  2015     1.13      2.75    -0.65     -2.27      2.51       -1.86   \n",
       "4  2016    -0.91     -2.58     7.33      1.78    -10.87       -1.94   \n",
       "\n",
       "   07-Temmuz  08-Ağustos  09-Eylül  10-Ekim  11-Kasım  12-Aralık  \n",
       "0      -5.35        0.02     -0.18    -0.98     -4.06      -2.51  \n",
       "1       2.59        0.29      1.69    -3.96      3.59      -1.79  \n",
       "2      -0.54       -0.03      1.12     1.13      2.40      -3.67  \n",
       "3      -1.67        1.64     -1.93     0.06      1.01       2.93  \n",
       "4       9.08       -5.38      5.90    -5.58     -3.13      -4.26  "
      ]
     },
     "execution_count": 60,
     "metadata": {},
     "output_type": "execute_result"
    }
   ],
   "source": [
    "df_tuik = df_tuik.rename(columns = {'Unnamed: 2':'YEAR'}) # change the column name\n",
    "df_tuik.head()"
   ]
  },
  {
   "cell_type": "code",
   "execution_count": 61,
   "metadata": {},
   "outputs": [
    {
     "data": {
      "text/html": [
       "<div>\n",
       "<style scoped>\n",
       "    .dataframe tbody tr th:only-of-type {\n",
       "        vertical-align: middle;\n",
       "    }\n",
       "\n",
       "    .dataframe tbody tr th {\n",
       "        vertical-align: top;\n",
       "    }\n",
       "\n",
       "    .dataframe thead th {\n",
       "        text-align: right;\n",
       "    }\n",
       "</style>\n",
       "<table border=\"1\" class=\"dataframe\">\n",
       "  <thead>\n",
       "    <tr style=\"text-align: right;\">\n",
       "      <th></th>\n",
       "      <th>Year</th>\n",
       "      <th>01-Ocak</th>\n",
       "      <th>02-Şubat</th>\n",
       "      <th>03-Mart</th>\n",
       "      <th>04-Nisan</th>\n",
       "      <th>05-Mayıs</th>\n",
       "      <th>06-Haziran</th>\n",
       "      <th>07-Temmuz</th>\n",
       "      <th>08-Ağustos</th>\n",
       "      <th>09-Eylül</th>\n",
       "      <th>10-Ekim</th>\n",
       "      <th>11-Kasım</th>\n",
       "      <th>12-Aralık</th>\n",
       "    </tr>\n",
       "  </thead>\n",
       "  <tbody>\n",
       "  </tbody>\n",
       "</table>\n",
       "</div>"
      ],
      "text/plain": [
       "Empty DataFrame\n",
       "Columns: [Year, 01-Ocak, 02-Şubat, 03-Mart, 04-Nisan, 05-Mayıs, 06-Haziran, 07-Temmuz, 08-Ağustos, 09-Eylül, 10-Ekim, 11-Kasım, 12-Aralık]\n",
       "Index: []"
      ]
     },
     "execution_count": 61,
     "metadata": {},
     "output_type": "execute_result"
    }
   ],
   "source": [
    "df_tuik.loc[df_tuik['Year'] == 2011]  # indexing rows and columns"
   ]
  },
  {
   "cell_type": "code",
   "execution_count": 62,
   "metadata": {},
   "outputs": [
    {
     "data": {
      "text/html": [
       "<div>\n",
       "<style scoped>\n",
       "    .dataframe tbody tr th:only-of-type {\n",
       "        vertical-align: middle;\n",
       "    }\n",
       "\n",
       "    .dataframe tbody tr th {\n",
       "        vertical-align: top;\n",
       "    }\n",
       "\n",
       "    .dataframe thead th {\n",
       "        text-align: right;\n",
       "    }\n",
       "</style>\n",
       "<table border=\"1\" class=\"dataframe\">\n",
       "  <thead>\n",
       "    <tr style=\"text-align: right;\">\n",
       "      <th></th>\n",
       "      <th>Year</th>\n",
       "      <th>01-Ocak</th>\n",
       "      <th>02-Şubat</th>\n",
       "      <th>03-Mart</th>\n",
       "      <th>04-Nisan</th>\n",
       "      <th>05-Mayıs</th>\n",
       "      <th>06-Haziran</th>\n",
       "      <th>07-Temmuz</th>\n",
       "      <th>08-Ağustos</th>\n",
       "      <th>09-Eylül</th>\n",
       "      <th>10-Ekim</th>\n",
       "      <th>11-Kasım</th>\n",
       "      <th>12-Aralık</th>\n",
       "    </tr>\n",
       "  </thead>\n",
       "  <tbody>\n",
       "    <tr>\n",
       "      <th>0</th>\n",
       "      <td>2012</td>\n",
       "      <td>-4.25</td>\n",
       "      <td>-2.19</td>\n",
       "      <td>-4.24</td>\n",
       "      <td>8.31</td>\n",
       "      <td>1.14</td>\n",
       "      <td>1.58</td>\n",
       "      <td>-5.35</td>\n",
       "      <td>0.02</td>\n",
       "      <td>-0.18</td>\n",
       "      <td>-0.98</td>\n",
       "      <td>-4.06</td>\n",
       "      <td>-2.51</td>\n",
       "    </tr>\n",
       "    <tr>\n",
       "      <th>1</th>\n",
       "      <td>2013</td>\n",
       "      <td>1.24</td>\n",
       "      <td>2.89</td>\n",
       "      <td>6.72</td>\n",
       "      <td>-3.98</td>\n",
       "      <td>-2.69</td>\n",
       "      <td>-1.36</td>\n",
       "      <td>2.59</td>\n",
       "      <td>0.29</td>\n",
       "      <td>1.69</td>\n",
       "      <td>-3.96</td>\n",
       "      <td>3.59</td>\n",
       "      <td>-1.79</td>\n",
       "    </tr>\n",
       "    <tr>\n",
       "      <th>2</th>\n",
       "      <td>2014</td>\n",
       "      <td>1.67</td>\n",
       "      <td>-2.32</td>\n",
       "      <td>-1.75</td>\n",
       "      <td>-1.42</td>\n",
       "      <td>-1.13</td>\n",
       "      <td>0.74</td>\n",
       "      <td>-0.54</td>\n",
       "      <td>-0.03</td>\n",
       "      <td>1.12</td>\n",
       "      <td>1.13</td>\n",
       "      <td>2.40</td>\n",
       "      <td>-3.67</td>\n",
       "    </tr>\n",
       "    <tr>\n",
       "      <th>3</th>\n",
       "      <td>2015</td>\n",
       "      <td>1.13</td>\n",
       "      <td>2.75</td>\n",
       "      <td>-0.65</td>\n",
       "      <td>-2.27</td>\n",
       "      <td>2.51</td>\n",
       "      <td>-1.86</td>\n",
       "      <td>-1.67</td>\n",
       "      <td>1.64</td>\n",
       "      <td>-1.93</td>\n",
       "      <td>0.06</td>\n",
       "      <td>1.01</td>\n",
       "      <td>2.93</td>\n",
       "    </tr>\n",
       "    <tr>\n",
       "      <th>4</th>\n",
       "      <td>2016</td>\n",
       "      <td>-0.91</td>\n",
       "      <td>-2.58</td>\n",
       "      <td>7.33</td>\n",
       "      <td>1.78</td>\n",
       "      <td>-10.87</td>\n",
       "      <td>-1.94</td>\n",
       "      <td>9.08</td>\n",
       "      <td>-5.38</td>\n",
       "      <td>5.90</td>\n",
       "      <td>-5.58</td>\n",
       "      <td>-3.13</td>\n",
       "      <td>-4.26</td>\n",
       "    </tr>\n",
       "    <tr>\n",
       "      <th>5</th>\n",
       "      <td>2017</td>\n",
       "      <td>-0.99</td>\n",
       "      <td>2.85</td>\n",
       "      <td>5.95</td>\n",
       "      <td>2.36</td>\n",
       "      <td>6.07</td>\n",
       "      <td>-0.79</td>\n",
       "      <td>-2.51</td>\n",
       "      <td>5.02</td>\n",
       "      <td>-8.00</td>\n",
       "      <td>1.77</td>\n",
       "      <td>-0.04</td>\n",
       "      <td>-0.20</td>\n",
       "    </tr>\n",
       "    <tr>\n",
       "      <th>6</th>\n",
       "      <td>2018</td>\n",
       "      <td>2.07</td>\n",
       "      <td>0.68</td>\n",
       "      <td>-4.58</td>\n",
       "      <td>-3.26</td>\n",
       "      <td>-5.66</td>\n",
       "      <td>-5.17</td>\n",
       "      <td>1.60</td>\n",
       "      <td>-6.81</td>\n",
       "      <td>-18.34</td>\n",
       "      <td>1.73</td>\n",
       "      <td>-4.14</td>\n",
       "      <td>-0.04</td>\n",
       "    </tr>\n",
       "    <tr>\n",
       "      <th>7</th>\n",
       "      <td>2019</td>\n",
       "      <td>-8.57</td>\n",
       "      <td>10.04</td>\n",
       "      <td>7.99</td>\n",
       "      <td>-8.37</td>\n",
       "      <td>-3.70</td>\n",
       "      <td>-3.53</td>\n",
       "      <td>6.60</td>\n",
       "      <td>5.11</td>\n",
       "      <td>7.52</td>\n",
       "      <td>8.46</td>\n",
       "      <td>-0.54</td>\n",
       "      <td>11.17</td>\n",
       "    </tr>\n",
       "  </tbody>\n",
       "</table>\n",
       "</div>"
      ],
      "text/plain": [
       "   Year  01-Ocak  02-Şubat  03-Mart  04-Nisan  05-Mayıs  06-Haziran  \\\n",
       "0  2012    -4.25     -2.19    -4.24      8.31      1.14        1.58   \n",
       "1  2013     1.24      2.89     6.72     -3.98     -2.69       -1.36   \n",
       "2  2014     1.67     -2.32    -1.75     -1.42     -1.13        0.74   \n",
       "3  2015     1.13      2.75    -0.65     -2.27      2.51       -1.86   \n",
       "4  2016    -0.91     -2.58     7.33      1.78    -10.87       -1.94   \n",
       "5  2017    -0.99      2.85     5.95      2.36      6.07       -0.79   \n",
       "6  2018     2.07      0.68    -4.58     -3.26     -5.66       -5.17   \n",
       "7  2019    -8.57     10.04     7.99     -8.37     -3.70       -3.53   \n",
       "\n",
       "   07-Temmuz  08-Ağustos  09-Eylül  10-Ekim  11-Kasım  12-Aralık  \n",
       "0      -5.35        0.02     -0.18    -0.98     -4.06      -2.51  \n",
       "1       2.59        0.29      1.69    -3.96      3.59      -1.79  \n",
       "2      -0.54       -0.03      1.12     1.13      2.40      -3.67  \n",
       "3      -1.67        1.64     -1.93     0.06      1.01       2.93  \n",
       "4       9.08       -5.38      5.90    -5.58     -3.13      -4.26  \n",
       "5      -2.51        5.02     -8.00     1.77     -0.04      -0.20  \n",
       "6       1.60       -6.81    -18.34     1.73     -4.14      -0.04  \n",
       "7       6.60        5.11      7.52     8.46     -0.54      11.17  "
      ]
     },
     "execution_count": 62,
     "metadata": {},
     "output_type": "execute_result"
    }
   ],
   "source": [
    "df_tuik_new = df_tuik.loc[(df_tuik['Year'] >= 2000) & (df_tuik['Year'] <= 2020)] # indexing\n",
    "df_tuik_new"
   ]
  },
  {
   "cell_type": "code",
   "execution_count": 63,
   "metadata": {},
   "outputs": [
    {
     "data": {
      "text/html": [
       "<div>\n",
       "<style scoped>\n",
       "    .dataframe tbody tr th:only-of-type {\n",
       "        vertical-align: middle;\n",
       "    }\n",
       "\n",
       "    .dataframe tbody tr th {\n",
       "        vertical-align: top;\n",
       "    }\n",
       "\n",
       "    .dataframe thead th {\n",
       "        text-align: right;\n",
       "    }\n",
       "</style>\n",
       "<table border=\"1\" class=\"dataframe\">\n",
       "  <thead>\n",
       "    <tr style=\"text-align: right;\">\n",
       "      <th></th>\n",
       "      <th>Year</th>\n",
       "      <th>01-Ocak</th>\n",
       "      <th>02-Şubat</th>\n",
       "      <th>03-Mart</th>\n",
       "      <th>04-Nisan</th>\n",
       "      <th>05-Mayıs</th>\n",
       "      <th>06-Haziran</th>\n",
       "      <th>07-Temmuz</th>\n",
       "      <th>08-Ağustos</th>\n",
       "      <th>09-Eylül</th>\n",
       "      <th>10-Ekim</th>\n",
       "      <th>11-Kasım</th>\n",
       "      <th>12-Aralık</th>\n",
       "    </tr>\n",
       "  </thead>\n",
       "  <tbody>\n",
       "    <tr>\n",
       "      <th>0</th>\n",
       "      <td>2012</td>\n",
       "      <td>-4.25</td>\n",
       "      <td>-2.19</td>\n",
       "      <td>-4.24</td>\n",
       "      <td>8.31</td>\n",
       "      <td>1.14</td>\n",
       "      <td>1.58</td>\n",
       "      <td>-5.35</td>\n",
       "      <td>0.02</td>\n",
       "      <td>-0.18</td>\n",
       "      <td>-0.98</td>\n",
       "      <td>-4.06</td>\n",
       "      <td>-2.51</td>\n",
       "    </tr>\n",
       "    <tr>\n",
       "      <th>1</th>\n",
       "      <td>2013</td>\n",
       "      <td>1.24</td>\n",
       "      <td>2.89</td>\n",
       "      <td>6.72</td>\n",
       "      <td>-3.98</td>\n",
       "      <td>-2.69</td>\n",
       "      <td>-1.36</td>\n",
       "      <td>2.59</td>\n",
       "      <td>0.29</td>\n",
       "      <td>1.69</td>\n",
       "      <td>-3.96</td>\n",
       "      <td>3.59</td>\n",
       "      <td>-1.79</td>\n",
       "    </tr>\n",
       "    <tr>\n",
       "      <th>2</th>\n",
       "      <td>2014</td>\n",
       "      <td>1.67</td>\n",
       "      <td>-2.32</td>\n",
       "      <td>-1.75</td>\n",
       "      <td>-1.42</td>\n",
       "      <td>-1.13</td>\n",
       "      <td>0.74</td>\n",
       "      <td>-0.54</td>\n",
       "      <td>-0.03</td>\n",
       "      <td>1.12</td>\n",
       "      <td>1.13</td>\n",
       "      <td>2.40</td>\n",
       "      <td>-3.67</td>\n",
       "    </tr>\n",
       "    <tr>\n",
       "      <th>3</th>\n",
       "      <td>2015</td>\n",
       "      <td>1.13</td>\n",
       "      <td>2.75</td>\n",
       "      <td>-0.65</td>\n",
       "      <td>-2.27</td>\n",
       "      <td>2.51</td>\n",
       "      <td>-1.86</td>\n",
       "      <td>-1.67</td>\n",
       "      <td>1.64</td>\n",
       "      <td>-1.93</td>\n",
       "      <td>0.06</td>\n",
       "      <td>1.01</td>\n",
       "      <td>2.93</td>\n",
       "    </tr>\n",
       "    <tr>\n",
       "      <th>4</th>\n",
       "      <td>2016</td>\n",
       "      <td>-0.91</td>\n",
       "      <td>-2.58</td>\n",
       "      <td>7.33</td>\n",
       "      <td>1.78</td>\n",
       "      <td>-10.87</td>\n",
       "      <td>-1.94</td>\n",
       "      <td>9.08</td>\n",
       "      <td>-5.38</td>\n",
       "      <td>5.90</td>\n",
       "      <td>-5.58</td>\n",
       "      <td>-3.13</td>\n",
       "      <td>-4.26</td>\n",
       "    </tr>\n",
       "    <tr>\n",
       "      <th>5</th>\n",
       "      <td>2017</td>\n",
       "      <td>-0.99</td>\n",
       "      <td>2.85</td>\n",
       "      <td>5.95</td>\n",
       "      <td>2.36</td>\n",
       "      <td>6.07</td>\n",
       "      <td>-0.79</td>\n",
       "      <td>-2.51</td>\n",
       "      <td>5.02</td>\n",
       "      <td>-8.00</td>\n",
       "      <td>1.77</td>\n",
       "      <td>-0.04</td>\n",
       "      <td>-0.20</td>\n",
       "    </tr>\n",
       "    <tr>\n",
       "      <th>6</th>\n",
       "      <td>2018</td>\n",
       "      <td>2.07</td>\n",
       "      <td>0.68</td>\n",
       "      <td>-4.58</td>\n",
       "      <td>-3.26</td>\n",
       "      <td>-5.66</td>\n",
       "      <td>-5.17</td>\n",
       "      <td>1.60</td>\n",
       "      <td>-6.81</td>\n",
       "      <td>-18.34</td>\n",
       "      <td>1.73</td>\n",
       "      <td>-4.14</td>\n",
       "      <td>-0.04</td>\n",
       "    </tr>\n",
       "    <tr>\n",
       "      <th>7</th>\n",
       "      <td>2019</td>\n",
       "      <td>-8.57</td>\n",
       "      <td>10.04</td>\n",
       "      <td>7.99</td>\n",
       "      <td>-8.37</td>\n",
       "      <td>-3.70</td>\n",
       "      <td>-3.53</td>\n",
       "      <td>6.60</td>\n",
       "      <td>5.11</td>\n",
       "      <td>7.52</td>\n",
       "      <td>8.46</td>\n",
       "      <td>-0.54</td>\n",
       "      <td>11.17</td>\n",
       "    </tr>\n",
       "  </tbody>\n",
       "</table>\n",
       "</div>"
      ],
      "text/plain": [
       "   Year  01-Ocak  02-Şubat  03-Mart  04-Nisan  05-Mayıs  06-Haziran  \\\n",
       "0  2012    -4.25     -2.19    -4.24      8.31      1.14        1.58   \n",
       "1  2013     1.24      2.89     6.72     -3.98     -2.69       -1.36   \n",
       "2  2014     1.67     -2.32    -1.75     -1.42     -1.13        0.74   \n",
       "3  2015     1.13      2.75    -0.65     -2.27      2.51       -1.86   \n",
       "4  2016    -0.91     -2.58     7.33      1.78    -10.87       -1.94   \n",
       "5  2017    -0.99      2.85     5.95      2.36      6.07       -0.79   \n",
       "6  2018     2.07      0.68    -4.58     -3.26     -5.66       -5.17   \n",
       "7  2019    -8.57     10.04     7.99     -8.37     -3.70       -3.53   \n",
       "\n",
       "   07-Temmuz  08-Ağustos  09-Eylül  10-Ekim  11-Kasım  12-Aralık  \n",
       "0      -5.35        0.02     -0.18    -0.98     -4.06      -2.51  \n",
       "1       2.59        0.29      1.69    -3.96      3.59      -1.79  \n",
       "2      -0.54       -0.03      1.12     1.13      2.40      -3.67  \n",
       "3      -1.67        1.64     -1.93     0.06      1.01       2.93  \n",
       "4       9.08       -5.38      5.90    -5.58     -3.13      -4.26  \n",
       "5      -2.51        5.02     -8.00     1.77     -0.04      -0.20  \n",
       "6       1.60       -6.81    -18.34     1.73     -4.14      -0.04  \n",
       "7       6.60        5.11      7.52     8.46     -0.54      11.17  "
      ]
     },
     "execution_count": 63,
     "metadata": {},
     "output_type": "execute_result"
    }
   ],
   "source": [
    "data_df = df_tuik_new.dropna(axis='columns')  # delete columns with NaN values\n",
    "data_df"
   ]
  },
  {
   "cell_type": "code",
   "execution_count": 64,
   "metadata": {},
   "outputs": [
    {
     "data": {
      "text/plain": [
       "Year            int64\n",
       "01-Ocak       float64\n",
       "02-Şubat      float64\n",
       "03-Mart       float64\n",
       "04-Nisan      float64\n",
       "05-Mayıs      float64\n",
       "06-Haziran    float64\n",
       "07-Temmuz     float64\n",
       "08-Ağustos    float64\n",
       "09-Eylül      float64\n",
       "10-Ekim       float64\n",
       "11-Kasım      float64\n",
       "12-Aralık     float64\n",
       "dtype: object"
      ]
     },
     "execution_count": 64,
     "metadata": {},
     "output_type": "execute_result"
    }
   ],
   "source": [
    "data_df.dtypes"
   ]
  },
  {
   "cell_type": "code",
   "execution_count": 65,
   "metadata": {},
   "outputs": [],
   "source": [
    "data_df.to_csv('Test_Input/tuik_new.csv')  # write data_df to a new csv file "
   ]
  },
  {
   "cell_type": "markdown",
   "metadata": {},
   "source": [
    " In order to write a data frame to an excel file you should import _**\"ExcelWriter\"**_ module, which you may need to install by using pip command.\n",
    "\n",
    "> pip install XlsxWriter "
   ]
  },
  {
   "cell_type": "code",
   "execution_count": 66,
   "metadata": {},
   "outputs": [],
   "source": [
    "#!pip install --user xlsxwriter"
   ]
  },
  {
   "cell_type": "code",
   "execution_count": 67,
   "metadata": {},
   "outputs": [],
   "source": [
    "#### OR, you may clone the module as below:\n",
    "\n",
    "#!git clone https://github.com/jmcnamara/XlsxWriter.git\n",
    "#\n",
    "# Change the current working directory\n",
    "#os.chdir('XlsxWriter')\n",
    "# \n",
    "#!python setup.py install"
   ]
  },
  {
   "cell_type": "code",
   "execution_count": 68,
   "metadata": {},
   "outputs": [],
   "source": [
    "import numpy as np\n",
    "import pandas as pd\n",
    "import xlsxwriter\n",
    "\n",
    "workbook = xlsxwriter.Workbook('hello.xlsx')\n",
    "worksheet = workbook.add_worksheet()\n",
    "\n",
    "worksheet.write('A1', 'Hello world')\n",
    "\n",
    "workbook.close()"
   ]
  },
  {
   "cell_type": "code",
   "execution_count": 69,
   "metadata": {},
   "outputs": [],
   "source": [
    "# lets write to excel file\n",
    "import xlsxwriter\n",
    "\n",
    "writer = pd.ExcelWriter('Test_Input/tuik.xlsx', engine='xlsxwriter')\n",
    "data_df.to_excel(writer, 'tuik_sheet')\n",
    "writer.save()"
   ]
  },
  {
   "cell_type": "code",
   "execution_count": 70,
   "metadata": {},
   "outputs": [
    {
     "data": {
      "text/html": [
       "<div>\n",
       "<style scoped>\n",
       "    .dataframe tbody tr th:only-of-type {\n",
       "        vertical-align: middle;\n",
       "    }\n",
       "\n",
       "    .dataframe tbody tr th {\n",
       "        vertical-align: top;\n",
       "    }\n",
       "\n",
       "    .dataframe thead th {\n",
       "        text-align: right;\n",
       "    }\n",
       "</style>\n",
       "<table border=\"1\" class=\"dataframe\">\n",
       "  <thead>\n",
       "    <tr style=\"text-align: right;\">\n",
       "      <th></th>\n",
       "      <th>Unnamed: 0</th>\n",
       "      <th>Year</th>\n",
       "      <th>01-Ocak</th>\n",
       "      <th>02-Şubat</th>\n",
       "      <th>03-Mart</th>\n",
       "      <th>04-Nisan</th>\n",
       "      <th>05-Mayıs</th>\n",
       "      <th>06-Haziran</th>\n",
       "      <th>07-Temmuz</th>\n",
       "      <th>08-Ağustos</th>\n",
       "      <th>09-Eylül</th>\n",
       "      <th>10-Ekim</th>\n",
       "      <th>11-Kasım</th>\n",
       "      <th>12-Aralık</th>\n",
       "    </tr>\n",
       "  </thead>\n",
       "  <tbody>\n",
       "    <tr>\n",
       "      <th>0</th>\n",
       "      <td>0</td>\n",
       "      <td>2012</td>\n",
       "      <td>-4.25</td>\n",
       "      <td>-2.19</td>\n",
       "      <td>-4.24</td>\n",
       "      <td>8.31</td>\n",
       "      <td>1.14</td>\n",
       "      <td>1.58</td>\n",
       "      <td>-5.35</td>\n",
       "      <td>0.02</td>\n",
       "      <td>-0.18</td>\n",
       "      <td>-0.98</td>\n",
       "      <td>-4.06</td>\n",
       "      <td>-2.51</td>\n",
       "    </tr>\n",
       "    <tr>\n",
       "      <th>1</th>\n",
       "      <td>1</td>\n",
       "      <td>2013</td>\n",
       "      <td>1.24</td>\n",
       "      <td>2.89</td>\n",
       "      <td>6.72</td>\n",
       "      <td>-3.98</td>\n",
       "      <td>-2.69</td>\n",
       "      <td>-1.36</td>\n",
       "      <td>2.59</td>\n",
       "      <td>0.29</td>\n",
       "      <td>1.69</td>\n",
       "      <td>-3.96</td>\n",
       "      <td>3.59</td>\n",
       "      <td>-1.79</td>\n",
       "    </tr>\n",
       "    <tr>\n",
       "      <th>2</th>\n",
       "      <td>2</td>\n",
       "      <td>2014</td>\n",
       "      <td>1.67</td>\n",
       "      <td>-2.32</td>\n",
       "      <td>-1.75</td>\n",
       "      <td>-1.42</td>\n",
       "      <td>-1.13</td>\n",
       "      <td>0.74</td>\n",
       "      <td>-0.54</td>\n",
       "      <td>-0.03</td>\n",
       "      <td>1.12</td>\n",
       "      <td>1.13</td>\n",
       "      <td>2.40</td>\n",
       "      <td>-3.67</td>\n",
       "    </tr>\n",
       "    <tr>\n",
       "      <th>3</th>\n",
       "      <td>3</td>\n",
       "      <td>2015</td>\n",
       "      <td>1.13</td>\n",
       "      <td>2.75</td>\n",
       "      <td>-0.65</td>\n",
       "      <td>-2.27</td>\n",
       "      <td>2.51</td>\n",
       "      <td>-1.86</td>\n",
       "      <td>-1.67</td>\n",
       "      <td>1.64</td>\n",
       "      <td>-1.93</td>\n",
       "      <td>0.06</td>\n",
       "      <td>1.01</td>\n",
       "      <td>2.93</td>\n",
       "    </tr>\n",
       "    <tr>\n",
       "      <th>4</th>\n",
       "      <td>4</td>\n",
       "      <td>2016</td>\n",
       "      <td>-0.91</td>\n",
       "      <td>-2.58</td>\n",
       "      <td>7.33</td>\n",
       "      <td>1.78</td>\n",
       "      <td>-10.87</td>\n",
       "      <td>-1.94</td>\n",
       "      <td>9.08</td>\n",
       "      <td>-5.38</td>\n",
       "      <td>5.90</td>\n",
       "      <td>-5.58</td>\n",
       "      <td>-3.13</td>\n",
       "      <td>-4.26</td>\n",
       "    </tr>\n",
       "    <tr>\n",
       "      <th>5</th>\n",
       "      <td>5</td>\n",
       "      <td>2017</td>\n",
       "      <td>-0.99</td>\n",
       "      <td>2.85</td>\n",
       "      <td>5.95</td>\n",
       "      <td>2.36</td>\n",
       "      <td>6.07</td>\n",
       "      <td>-0.79</td>\n",
       "      <td>-2.51</td>\n",
       "      <td>5.02</td>\n",
       "      <td>-8.00</td>\n",
       "      <td>1.77</td>\n",
       "      <td>-0.04</td>\n",
       "      <td>-0.20</td>\n",
       "    </tr>\n",
       "    <tr>\n",
       "      <th>6</th>\n",
       "      <td>6</td>\n",
       "      <td>2018</td>\n",
       "      <td>2.07</td>\n",
       "      <td>0.68</td>\n",
       "      <td>-4.58</td>\n",
       "      <td>-3.26</td>\n",
       "      <td>-5.66</td>\n",
       "      <td>-5.17</td>\n",
       "      <td>1.60</td>\n",
       "      <td>-6.81</td>\n",
       "      <td>-18.34</td>\n",
       "      <td>1.73</td>\n",
       "      <td>-4.14</td>\n",
       "      <td>-0.04</td>\n",
       "    </tr>\n",
       "    <tr>\n",
       "      <th>7</th>\n",
       "      <td>7</td>\n",
       "      <td>2019</td>\n",
       "      <td>-8.57</td>\n",
       "      <td>10.04</td>\n",
       "      <td>7.99</td>\n",
       "      <td>-8.37</td>\n",
       "      <td>-3.70</td>\n",
       "      <td>-3.53</td>\n",
       "      <td>6.60</td>\n",
       "      <td>5.11</td>\n",
       "      <td>7.52</td>\n",
       "      <td>8.46</td>\n",
       "      <td>-0.54</td>\n",
       "      <td>11.17</td>\n",
       "    </tr>\n",
       "  </tbody>\n",
       "</table>\n",
       "</div>"
      ],
      "text/plain": [
       "   Unnamed: 0  Year  01-Ocak  02-Şubat  03-Mart  04-Nisan  05-Mayıs  \\\n",
       "0           0  2012    -4.25     -2.19    -4.24      8.31      1.14   \n",
       "1           1  2013     1.24      2.89     6.72     -3.98     -2.69   \n",
       "2           2  2014     1.67     -2.32    -1.75     -1.42     -1.13   \n",
       "3           3  2015     1.13      2.75    -0.65     -2.27      2.51   \n",
       "4           4  2016    -0.91     -2.58     7.33      1.78    -10.87   \n",
       "5           5  2017    -0.99      2.85     5.95      2.36      6.07   \n",
       "6           6  2018     2.07      0.68    -4.58     -3.26     -5.66   \n",
       "7           7  2019    -8.57     10.04     7.99     -8.37     -3.70   \n",
       "\n",
       "   06-Haziran  07-Temmuz  08-Ağustos  09-Eylül  10-Ekim  11-Kasım  12-Aralık  \n",
       "0        1.58      -5.35        0.02     -0.18    -0.98     -4.06      -2.51  \n",
       "1       -1.36       2.59        0.29      1.69    -3.96      3.59      -1.79  \n",
       "2        0.74      -0.54       -0.03      1.12     1.13      2.40      -3.67  \n",
       "3       -1.86      -1.67        1.64     -1.93     0.06      1.01       2.93  \n",
       "4       -1.94       9.08       -5.38      5.90    -5.58     -3.13      -4.26  \n",
       "5       -0.79      -2.51        5.02     -8.00     1.77     -0.04      -0.20  \n",
       "6       -5.17       1.60       -6.81    -18.34     1.73     -4.14      -0.04  \n",
       "7       -3.53       6.60        5.11      7.52     8.46     -0.54      11.17  "
      ]
     },
     "execution_count": 70,
     "metadata": {},
     "output_type": "execute_result"
    }
   ],
   "source": [
    "# read from excel file\n",
    "\n",
    "xl = pd.ExcelFile('Test_Input/tuik.xlsx')       # load spreadsheet\n",
    "df1 = xl.parse('tuik_sheet')                    # assign sheet to the dataframe\n",
    "df1"
   ]
  },
  {
   "cell_type": "markdown",
   "metadata": {},
   "source": [
    " Append new sheet to an existing excel file, we need to import (or even install) _**\"openpyxl\"**_ module because _**\"xlswriter\"**_ does not support append mode"
   ]
  },
  {
   "cell_type": "code",
   "execution_count": 79,
   "metadata": {},
   "outputs": [],
   "source": [
    "#!pip install --user openpyxl\n",
    "import openpyxl\n",
    "\n",
    "from openpyxl import load_workbook\n",
    "\n",
    "path = pd.ExcelFile('Test_Input/tuik.xlsx')\n",
    "\n",
    "df2 = pd.DataFrame({'Percentage': np.random.rand(20)})   # define a new dataframe\n",
    "\n",
    "with pd.ExcelWriter('Test_Input/tuik.xlsx', engine = 'openpyxl', mode = 'a') as f:\n",
    "    f.book = load_workbook('Test_Input/tuik.xlsx')\n",
    "    df2.to_excel(f, 'tuik_NEW_sheet')"
   ]
  },
  {
   "cell_type": "markdown",
   "metadata": {},
   "source": [
    "---\n",
    "# DATA MANIPULATION"
   ]
  },
  {
   "cell_type": "code",
   "execution_count": 80,
   "metadata": {},
   "outputs": [
    {
     "data": {
      "text/html": [
       "<div>\n",
       "<style scoped>\n",
       "    .dataframe tbody tr th:only-of-type {\n",
       "        vertical-align: middle;\n",
       "    }\n",
       "\n",
       "    .dataframe tbody tr th {\n",
       "        vertical-align: top;\n",
       "    }\n",
       "\n",
       "    .dataframe thead th {\n",
       "        text-align: right;\n",
       "    }\n",
       "</style>\n",
       "<table border=\"1\" class=\"dataframe\">\n",
       "  <thead>\n",
       "    <tr style=\"text-align: right;\">\n",
       "      <th></th>\n",
       "      <th>Row ID</th>\n",
       "      <th>Order ID</th>\n",
       "      <th>Order Date</th>\n",
       "      <th>Ship Date</th>\n",
       "      <th>Ship Mode</th>\n",
       "      <th>Customer ID</th>\n",
       "      <th>Customer Name</th>\n",
       "      <th>Segment</th>\n",
       "      <th>Country</th>\n",
       "      <th>City</th>\n",
       "      <th>...</th>\n",
       "      <th>Postal Code</th>\n",
       "      <th>Region</th>\n",
       "      <th>Product ID</th>\n",
       "      <th>Category</th>\n",
       "      <th>Sub-Category</th>\n",
       "      <th>Product Name</th>\n",
       "      <th>Sales</th>\n",
       "      <th>Quantity</th>\n",
       "      <th>Discount</th>\n",
       "      <th>Profit</th>\n",
       "    </tr>\n",
       "  </thead>\n",
       "  <tbody>\n",
       "    <tr>\n",
       "      <th>0</th>\n",
       "      <td>1</td>\n",
       "      <td>CA-2016-152156</td>\n",
       "      <td>2016-11-08</td>\n",
       "      <td>2016-11-11</td>\n",
       "      <td>Second Class</td>\n",
       "      <td>CG-12520</td>\n",
       "      <td>Claire Gute</td>\n",
       "      <td>Consumer</td>\n",
       "      <td>United States</td>\n",
       "      <td>Henderson</td>\n",
       "      <td>...</td>\n",
       "      <td>42420</td>\n",
       "      <td>South</td>\n",
       "      <td>FUR-BO-10001798</td>\n",
       "      <td>Furniture</td>\n",
       "      <td>Bookcases</td>\n",
       "      <td>Bush Somerset Collection Bookcase</td>\n",
       "      <td>261.9600</td>\n",
       "      <td>2</td>\n",
       "      <td>0.00</td>\n",
       "      <td>41.9136</td>\n",
       "    </tr>\n",
       "    <tr>\n",
       "      <th>1</th>\n",
       "      <td>2</td>\n",
       "      <td>CA-2016-152156</td>\n",
       "      <td>2016-11-08</td>\n",
       "      <td>2016-11-11</td>\n",
       "      <td>Second Class</td>\n",
       "      <td>CG-12520</td>\n",
       "      <td>Claire Gute</td>\n",
       "      <td>Consumer</td>\n",
       "      <td>United States</td>\n",
       "      <td>Henderson</td>\n",
       "      <td>...</td>\n",
       "      <td>42420</td>\n",
       "      <td>South</td>\n",
       "      <td>FUR-CH-10000454</td>\n",
       "      <td>Furniture</td>\n",
       "      <td>Chairs</td>\n",
       "      <td>Hon Deluxe Fabric Upholstered Stacking Chairs,...</td>\n",
       "      <td>731.9400</td>\n",
       "      <td>3</td>\n",
       "      <td>0.00</td>\n",
       "      <td>219.5820</td>\n",
       "    </tr>\n",
       "    <tr>\n",
       "      <th>2</th>\n",
       "      <td>3</td>\n",
       "      <td>CA-2016-138688</td>\n",
       "      <td>2016-06-12</td>\n",
       "      <td>2016-06-16</td>\n",
       "      <td>Second Class</td>\n",
       "      <td>DV-13045</td>\n",
       "      <td>Darrin Van Huff</td>\n",
       "      <td>Corporate</td>\n",
       "      <td>United States</td>\n",
       "      <td>Los Angeles</td>\n",
       "      <td>...</td>\n",
       "      <td>90036</td>\n",
       "      <td>West</td>\n",
       "      <td>OFF-LA-10000240</td>\n",
       "      <td>Office Supplies</td>\n",
       "      <td>Labels</td>\n",
       "      <td>Self-Adhesive Address Labels for Typewriters b...</td>\n",
       "      <td>14.6200</td>\n",
       "      <td>2</td>\n",
       "      <td>0.00</td>\n",
       "      <td>6.8714</td>\n",
       "    </tr>\n",
       "    <tr>\n",
       "      <th>3</th>\n",
       "      <td>4</td>\n",
       "      <td>US-2015-108966</td>\n",
       "      <td>2015-10-11</td>\n",
       "      <td>2015-10-18</td>\n",
       "      <td>Standard Class</td>\n",
       "      <td>SO-20335</td>\n",
       "      <td>Sean O'Donnell</td>\n",
       "      <td>Consumer</td>\n",
       "      <td>United States</td>\n",
       "      <td>Fort Lauderdale</td>\n",
       "      <td>...</td>\n",
       "      <td>33311</td>\n",
       "      <td>South</td>\n",
       "      <td>FUR-TA-10000577</td>\n",
       "      <td>Furniture</td>\n",
       "      <td>Tables</td>\n",
       "      <td>Bretford CR4500 Series Slim Rectangular Table</td>\n",
       "      <td>957.5775</td>\n",
       "      <td>5</td>\n",
       "      <td>0.45</td>\n",
       "      <td>-383.0310</td>\n",
       "    </tr>\n",
       "    <tr>\n",
       "      <th>4</th>\n",
       "      <td>5</td>\n",
       "      <td>US-2015-108966</td>\n",
       "      <td>2015-10-11</td>\n",
       "      <td>2015-10-18</td>\n",
       "      <td>Standard Class</td>\n",
       "      <td>SO-20335</td>\n",
       "      <td>Sean O'Donnell</td>\n",
       "      <td>Consumer</td>\n",
       "      <td>United States</td>\n",
       "      <td>Fort Lauderdale</td>\n",
       "      <td>...</td>\n",
       "      <td>33311</td>\n",
       "      <td>South</td>\n",
       "      <td>OFF-ST-10000760</td>\n",
       "      <td>Office Supplies</td>\n",
       "      <td>Storage</td>\n",
       "      <td>Eldon Fold 'N Roll Cart System</td>\n",
       "      <td>22.3680</td>\n",
       "      <td>2</td>\n",
       "      <td>0.20</td>\n",
       "      <td>2.5164</td>\n",
       "    </tr>\n",
       "  </tbody>\n",
       "</table>\n",
       "<p>5 rows × 21 columns</p>\n",
       "</div>"
      ],
      "text/plain": [
       "   Row ID        Order ID Order Date  Ship Date       Ship Mode Customer ID  \\\n",
       "0       1  CA-2016-152156 2016-11-08 2016-11-11    Second Class    CG-12520   \n",
       "1       2  CA-2016-152156 2016-11-08 2016-11-11    Second Class    CG-12520   \n",
       "2       3  CA-2016-138688 2016-06-12 2016-06-16    Second Class    DV-13045   \n",
       "3       4  US-2015-108966 2015-10-11 2015-10-18  Standard Class    SO-20335   \n",
       "4       5  US-2015-108966 2015-10-11 2015-10-18  Standard Class    SO-20335   \n",
       "\n",
       "     Customer Name    Segment        Country             City  ...  \\\n",
       "0      Claire Gute   Consumer  United States        Henderson  ...   \n",
       "1      Claire Gute   Consumer  United States        Henderson  ...   \n",
       "2  Darrin Van Huff  Corporate  United States      Los Angeles  ...   \n",
       "3   Sean O'Donnell   Consumer  United States  Fort Lauderdale  ...   \n",
       "4   Sean O'Donnell   Consumer  United States  Fort Lauderdale  ...   \n",
       "\n",
       "  Postal Code  Region       Product ID         Category Sub-Category  \\\n",
       "0       42420   South  FUR-BO-10001798        Furniture    Bookcases   \n",
       "1       42420   South  FUR-CH-10000454        Furniture       Chairs   \n",
       "2       90036    West  OFF-LA-10000240  Office Supplies       Labels   \n",
       "3       33311   South  FUR-TA-10000577        Furniture       Tables   \n",
       "4       33311   South  OFF-ST-10000760  Office Supplies      Storage   \n",
       "\n",
       "                                        Product Name     Sales  Quantity  \\\n",
       "0                  Bush Somerset Collection Bookcase  261.9600         2   \n",
       "1  Hon Deluxe Fabric Upholstered Stacking Chairs,...  731.9400         3   \n",
       "2  Self-Adhesive Address Labels for Typewriters b...   14.6200         2   \n",
       "3      Bretford CR4500 Series Slim Rectangular Table  957.5775         5   \n",
       "4                     Eldon Fold 'N Roll Cart System   22.3680         2   \n",
       "\n",
       "   Discount    Profit  \n",
       "0      0.00   41.9136  \n",
       "1      0.00  219.5820  \n",
       "2      0.00    6.8714  \n",
       "3      0.45 -383.0310  \n",
       "4      0.20    2.5164  \n",
       "\n",
       "[5 rows x 21 columns]"
      ]
     },
     "execution_count": 80,
     "metadata": {},
     "output_type": "execute_result"
    }
   ],
   "source": [
    "sales_df = pd.read_excel('Test_Input/sales.xlsx')\n",
    "sales_df.head()"
   ]
  },
  {
   "cell_type": "code",
   "execution_count": 81,
   "metadata": {},
   "outputs": [
    {
     "data": {
      "text/html": [
       "<div>\n",
       "<style scoped>\n",
       "    .dataframe tbody tr th:only-of-type {\n",
       "        vertical-align: middle;\n",
       "    }\n",
       "\n",
       "    .dataframe tbody tr th {\n",
       "        vertical-align: top;\n",
       "    }\n",
       "\n",
       "    .dataframe thead th {\n",
       "        text-align: right;\n",
       "    }\n",
       "</style>\n",
       "<table border=\"1\" class=\"dataframe\">\n",
       "  <thead>\n",
       "    <tr style=\"text-align: right;\">\n",
       "      <th></th>\n",
       "      <th>Row ID</th>\n",
       "      <th>Order ID</th>\n",
       "      <th>Order Date</th>\n",
       "      <th>Ship Date</th>\n",
       "      <th>Ship Mode</th>\n",
       "      <th>Customer ID</th>\n",
       "      <th>Customer Name</th>\n",
       "      <th>Segment</th>\n",
       "      <th>Country</th>\n",
       "      <th>City</th>\n",
       "      <th>...</th>\n",
       "      <th>Postal Code</th>\n",
       "      <th>Region</th>\n",
       "      <th>Product ID</th>\n",
       "      <th>Category</th>\n",
       "      <th>Sub-Category</th>\n",
       "      <th>Product Name</th>\n",
       "      <th>Sales</th>\n",
       "      <th>Quantity</th>\n",
       "      <th>Discount</th>\n",
       "      <th>Profit</th>\n",
       "    </tr>\n",
       "  </thead>\n",
       "  <tbody>\n",
       "    <tr>\n",
       "      <th>9989</th>\n",
       "      <td>9990</td>\n",
       "      <td>CA-2014-110422</td>\n",
       "      <td>2014-01-21</td>\n",
       "      <td>2014-01-23</td>\n",
       "      <td>Second Class</td>\n",
       "      <td>TB-21400</td>\n",
       "      <td>Tom Boeckenhauer</td>\n",
       "      <td>Consumer</td>\n",
       "      <td>United States</td>\n",
       "      <td>Miami</td>\n",
       "      <td>...</td>\n",
       "      <td>33180</td>\n",
       "      <td>South</td>\n",
       "      <td>FUR-FU-10001889</td>\n",
       "      <td>Furniture</td>\n",
       "      <td>Furnishings</td>\n",
       "      <td>Ultra Door Pull Handle</td>\n",
       "      <td>25.248</td>\n",
       "      <td>3</td>\n",
       "      <td>0.2</td>\n",
       "      <td>4.1028</td>\n",
       "    </tr>\n",
       "    <tr>\n",
       "      <th>9990</th>\n",
       "      <td>9991</td>\n",
       "      <td>CA-2017-121258</td>\n",
       "      <td>2017-02-26</td>\n",
       "      <td>2017-03-03</td>\n",
       "      <td>Standard Class</td>\n",
       "      <td>DB-13060</td>\n",
       "      <td>Dave Brooks</td>\n",
       "      <td>Consumer</td>\n",
       "      <td>United States</td>\n",
       "      <td>Costa Mesa</td>\n",
       "      <td>...</td>\n",
       "      <td>92627</td>\n",
       "      <td>West</td>\n",
       "      <td>FUR-FU-10000747</td>\n",
       "      <td>Furniture</td>\n",
       "      <td>Furnishings</td>\n",
       "      <td>Tenex B1-RE Series Chair Mats for Low Pile Car...</td>\n",
       "      <td>91.960</td>\n",
       "      <td>2</td>\n",
       "      <td>0.0</td>\n",
       "      <td>15.6332</td>\n",
       "    </tr>\n",
       "    <tr>\n",
       "      <th>9991</th>\n",
       "      <td>9992</td>\n",
       "      <td>CA-2017-121258</td>\n",
       "      <td>2017-02-26</td>\n",
       "      <td>2017-03-03</td>\n",
       "      <td>Standard Class</td>\n",
       "      <td>DB-13060</td>\n",
       "      <td>Dave Brooks</td>\n",
       "      <td>Consumer</td>\n",
       "      <td>United States</td>\n",
       "      <td>Costa Mesa</td>\n",
       "      <td>...</td>\n",
       "      <td>92627</td>\n",
       "      <td>West</td>\n",
       "      <td>TEC-PH-10003645</td>\n",
       "      <td>Technology</td>\n",
       "      <td>Phones</td>\n",
       "      <td>Aastra 57i VoIP phone</td>\n",
       "      <td>258.576</td>\n",
       "      <td>2</td>\n",
       "      <td>0.2</td>\n",
       "      <td>19.3932</td>\n",
       "    </tr>\n",
       "    <tr>\n",
       "      <th>9992</th>\n",
       "      <td>9993</td>\n",
       "      <td>CA-2017-121258</td>\n",
       "      <td>2017-02-26</td>\n",
       "      <td>2017-03-03</td>\n",
       "      <td>Standard Class</td>\n",
       "      <td>DB-13060</td>\n",
       "      <td>Dave Brooks</td>\n",
       "      <td>Consumer</td>\n",
       "      <td>United States</td>\n",
       "      <td>Costa Mesa</td>\n",
       "      <td>...</td>\n",
       "      <td>92627</td>\n",
       "      <td>West</td>\n",
       "      <td>OFF-PA-10004041</td>\n",
       "      <td>Office Supplies</td>\n",
       "      <td>Paper</td>\n",
       "      <td>It's Hot Message Books with Stickers, 2 3/4\" x 5\"</td>\n",
       "      <td>29.600</td>\n",
       "      <td>4</td>\n",
       "      <td>0.0</td>\n",
       "      <td>13.3200</td>\n",
       "    </tr>\n",
       "    <tr>\n",
       "      <th>9993</th>\n",
       "      <td>9994</td>\n",
       "      <td>CA-2017-119914</td>\n",
       "      <td>2017-05-04</td>\n",
       "      <td>2017-05-09</td>\n",
       "      <td>Second Class</td>\n",
       "      <td>CC-12220</td>\n",
       "      <td>Chris Cortes</td>\n",
       "      <td>Consumer</td>\n",
       "      <td>United States</td>\n",
       "      <td>Westminster</td>\n",
       "      <td>...</td>\n",
       "      <td>92683</td>\n",
       "      <td>West</td>\n",
       "      <td>OFF-AP-10002684</td>\n",
       "      <td>Office Supplies</td>\n",
       "      <td>Appliances</td>\n",
       "      <td>Acco 7-Outlet Masterpiece Power Center, Wihtou...</td>\n",
       "      <td>243.160</td>\n",
       "      <td>2</td>\n",
       "      <td>0.0</td>\n",
       "      <td>72.9480</td>\n",
       "    </tr>\n",
       "  </tbody>\n",
       "</table>\n",
       "<p>5 rows × 21 columns</p>\n",
       "</div>"
      ],
      "text/plain": [
       "      Row ID        Order ID Order Date  Ship Date       Ship Mode  \\\n",
       "9989    9990  CA-2014-110422 2014-01-21 2014-01-23    Second Class   \n",
       "9990    9991  CA-2017-121258 2017-02-26 2017-03-03  Standard Class   \n",
       "9991    9992  CA-2017-121258 2017-02-26 2017-03-03  Standard Class   \n",
       "9992    9993  CA-2017-121258 2017-02-26 2017-03-03  Standard Class   \n",
       "9993    9994  CA-2017-119914 2017-05-04 2017-05-09    Second Class   \n",
       "\n",
       "     Customer ID     Customer Name   Segment        Country         City  ...  \\\n",
       "9989    TB-21400  Tom Boeckenhauer  Consumer  United States        Miami  ...   \n",
       "9990    DB-13060       Dave Brooks  Consumer  United States   Costa Mesa  ...   \n",
       "9991    DB-13060       Dave Brooks  Consumer  United States   Costa Mesa  ...   \n",
       "9992    DB-13060       Dave Brooks  Consumer  United States   Costa Mesa  ...   \n",
       "9993    CC-12220      Chris Cortes  Consumer  United States  Westminster  ...   \n",
       "\n",
       "     Postal Code  Region       Product ID         Category Sub-Category  \\\n",
       "9989       33180   South  FUR-FU-10001889        Furniture  Furnishings   \n",
       "9990       92627    West  FUR-FU-10000747        Furniture  Furnishings   \n",
       "9991       92627    West  TEC-PH-10003645       Technology       Phones   \n",
       "9992       92627    West  OFF-PA-10004041  Office Supplies        Paper   \n",
       "9993       92683    West  OFF-AP-10002684  Office Supplies   Appliances   \n",
       "\n",
       "                                           Product Name    Sales  Quantity  \\\n",
       "9989                             Ultra Door Pull Handle   25.248         3   \n",
       "9990  Tenex B1-RE Series Chair Mats for Low Pile Car...   91.960         2   \n",
       "9991                              Aastra 57i VoIP phone  258.576         2   \n",
       "9992  It's Hot Message Books with Stickers, 2 3/4\" x 5\"   29.600         4   \n",
       "9993  Acco 7-Outlet Masterpiece Power Center, Wihtou...  243.160         2   \n",
       "\n",
       "      Discount   Profit  \n",
       "9989       0.2   4.1028  \n",
       "9990       0.0  15.6332  \n",
       "9991       0.2  19.3932  \n",
       "9992       0.0  13.3200  \n",
       "9993       0.0  72.9480  \n",
       "\n",
       "[5 rows x 21 columns]"
      ]
     },
     "execution_count": 81,
     "metadata": {},
     "output_type": "execute_result"
    }
   ],
   "source": [
    "sales_df.tail()"
   ]
  },
  {
   "cell_type": "code",
   "execution_count": 82,
   "metadata": {},
   "outputs": [
    {
     "data": {
      "text/html": [
       "<div>\n",
       "<style scoped>\n",
       "    .dataframe tbody tr th:only-of-type {\n",
       "        vertical-align: middle;\n",
       "    }\n",
       "\n",
       "    .dataframe tbody tr th {\n",
       "        vertical-align: top;\n",
       "    }\n",
       "\n",
       "    .dataframe thead th {\n",
       "        text-align: right;\n",
       "    }\n",
       "</style>\n",
       "<table border=\"1\" class=\"dataframe\">\n",
       "  <thead>\n",
       "    <tr style=\"text-align: right;\">\n",
       "      <th></th>\n",
       "      <th>Row ID</th>\n",
       "      <th>Postal Code</th>\n",
       "      <th>Sales</th>\n",
       "      <th>Quantity</th>\n",
       "      <th>Discount</th>\n",
       "      <th>Profit</th>\n",
       "    </tr>\n",
       "  </thead>\n",
       "  <tbody>\n",
       "    <tr>\n",
       "      <th>count</th>\n",
       "      <td>9994.000000</td>\n",
       "      <td>9994.000000</td>\n",
       "      <td>9994.000000</td>\n",
       "      <td>9994.000000</td>\n",
       "      <td>9994.000000</td>\n",
       "      <td>9994.000000</td>\n",
       "    </tr>\n",
       "    <tr>\n",
       "      <th>mean</th>\n",
       "      <td>4997.500000</td>\n",
       "      <td>55190.379428</td>\n",
       "      <td>229.858001</td>\n",
       "      <td>3.789574</td>\n",
       "      <td>0.156203</td>\n",
       "      <td>28.656896</td>\n",
       "    </tr>\n",
       "    <tr>\n",
       "      <th>std</th>\n",
       "      <td>2885.163629</td>\n",
       "      <td>32063.693350</td>\n",
       "      <td>623.245101</td>\n",
       "      <td>2.225110</td>\n",
       "      <td>0.206452</td>\n",
       "      <td>234.260108</td>\n",
       "    </tr>\n",
       "    <tr>\n",
       "      <th>min</th>\n",
       "      <td>1.000000</td>\n",
       "      <td>1040.000000</td>\n",
       "      <td>0.444000</td>\n",
       "      <td>1.000000</td>\n",
       "      <td>0.000000</td>\n",
       "      <td>-6599.978000</td>\n",
       "    </tr>\n",
       "    <tr>\n",
       "      <th>25%</th>\n",
       "      <td>2499.250000</td>\n",
       "      <td>23223.000000</td>\n",
       "      <td>17.280000</td>\n",
       "      <td>2.000000</td>\n",
       "      <td>0.000000</td>\n",
       "      <td>1.728750</td>\n",
       "    </tr>\n",
       "    <tr>\n",
       "      <th>50%</th>\n",
       "      <td>4997.500000</td>\n",
       "      <td>56430.500000</td>\n",
       "      <td>54.490000</td>\n",
       "      <td>3.000000</td>\n",
       "      <td>0.200000</td>\n",
       "      <td>8.666500</td>\n",
       "    </tr>\n",
       "    <tr>\n",
       "      <th>75%</th>\n",
       "      <td>7495.750000</td>\n",
       "      <td>90008.000000</td>\n",
       "      <td>209.940000</td>\n",
       "      <td>5.000000</td>\n",
       "      <td>0.200000</td>\n",
       "      <td>29.364000</td>\n",
       "    </tr>\n",
       "    <tr>\n",
       "      <th>max</th>\n",
       "      <td>9994.000000</td>\n",
       "      <td>99301.000000</td>\n",
       "      <td>22638.480000</td>\n",
       "      <td>14.000000</td>\n",
       "      <td>0.800000</td>\n",
       "      <td>8399.976000</td>\n",
       "    </tr>\n",
       "  </tbody>\n",
       "</table>\n",
       "</div>"
      ],
      "text/plain": [
       "            Row ID   Postal Code         Sales     Quantity     Discount  \\\n",
       "count  9994.000000   9994.000000   9994.000000  9994.000000  9994.000000   \n",
       "mean   4997.500000  55190.379428    229.858001     3.789574     0.156203   \n",
       "std    2885.163629  32063.693350    623.245101     2.225110     0.206452   \n",
       "min       1.000000   1040.000000      0.444000     1.000000     0.000000   \n",
       "25%    2499.250000  23223.000000     17.280000     2.000000     0.000000   \n",
       "50%    4997.500000  56430.500000     54.490000     3.000000     0.200000   \n",
       "75%    7495.750000  90008.000000    209.940000     5.000000     0.200000   \n",
       "max    9994.000000  99301.000000  22638.480000    14.000000     0.800000   \n",
       "\n",
       "            Profit  \n",
       "count  9994.000000  \n",
       "mean     28.656896  \n",
       "std     234.260108  \n",
       "min   -6599.978000  \n",
       "25%       1.728750  \n",
       "50%       8.666500  \n",
       "75%      29.364000  \n",
       "max    8399.976000  "
      ]
     },
     "execution_count": 82,
     "metadata": {},
     "output_type": "execute_result"
    }
   ],
   "source": [
    "sales_df.describe()"
   ]
  },
  {
   "cell_type": "code",
   "execution_count": 83,
   "metadata": {},
   "outputs": [
    {
     "data": {
      "text/plain": [
       "Row ID           9994\n",
       "Order ID         9994\n",
       "Order Date       9994\n",
       "Ship Date        9994\n",
       "Ship Mode        9994\n",
       "Customer ID      9994\n",
       "Customer Name    9994\n",
       "Segment          9994\n",
       "Country          9994\n",
       "City             9994\n",
       "State            9994\n",
       "Postal Code      9994\n",
       "Region           9994\n",
       "Product ID       9994\n",
       "Category         9994\n",
       "Sub-Category     9994\n",
       "Product Name     9994\n",
       "Sales            9994\n",
       "Quantity         9994\n",
       "Discount         9994\n",
       "Profit           9994\n",
       "dtype: int64"
      ]
     },
     "execution_count": 83,
     "metadata": {},
     "output_type": "execute_result"
    }
   ],
   "source": [
    "sales_df.count()"
   ]
  },
  {
   "cell_type": "code",
   "execution_count": 84,
   "metadata": {},
   "outputs": [
    {
     "data": {
      "text/html": [
       "<div>\n",
       "<style scoped>\n",
       "    .dataframe tbody tr th:only-of-type {\n",
       "        vertical-align: middle;\n",
       "    }\n",
       "\n",
       "    .dataframe tbody tr th {\n",
       "        vertical-align: top;\n",
       "    }\n",
       "\n",
       "    .dataframe thead th {\n",
       "        text-align: right;\n",
       "    }\n",
       "</style>\n",
       "<table border=\"1\" class=\"dataframe\">\n",
       "  <thead>\n",
       "    <tr style=\"text-align: right;\">\n",
       "      <th></th>\n",
       "      <th>Order ID</th>\n",
       "      <th>Order Date</th>\n",
       "      <th>Ship Date</th>\n",
       "      <th>Ship Mode</th>\n",
       "      <th>Customer ID</th>\n",
       "      <th>Customer Name</th>\n",
       "      <th>Segment</th>\n",
       "      <th>Country</th>\n",
       "      <th>City</th>\n",
       "      <th>State</th>\n",
       "      <th>Postal Code</th>\n",
       "      <th>Region</th>\n",
       "      <th>Product ID</th>\n",
       "      <th>Category</th>\n",
       "      <th>Sub-Category</th>\n",
       "      <th>Product Name</th>\n",
       "      <th>Sales</th>\n",
       "      <th>Quantity</th>\n",
       "      <th>Discount</th>\n",
       "      <th>Profit</th>\n",
       "    </tr>\n",
       "  </thead>\n",
       "  <tbody>\n",
       "    <tr>\n",
       "      <th>0</th>\n",
       "      <td>CA-2016-152156</td>\n",
       "      <td>2016-11-08</td>\n",
       "      <td>2016-11-11</td>\n",
       "      <td>Second Class</td>\n",
       "      <td>CG-12520</td>\n",
       "      <td>Claire Gute</td>\n",
       "      <td>Consumer</td>\n",
       "      <td>United States</td>\n",
       "      <td>Henderson</td>\n",
       "      <td>Kentucky</td>\n",
       "      <td>42420</td>\n",
       "      <td>South</td>\n",
       "      <td>FUR-BO-10001798</td>\n",
       "      <td>Furniture</td>\n",
       "      <td>Bookcases</td>\n",
       "      <td>Bush Somerset Collection Bookcase</td>\n",
       "      <td>261.9600</td>\n",
       "      <td>2</td>\n",
       "      <td>0.00</td>\n",
       "      <td>41.9136</td>\n",
       "    </tr>\n",
       "    <tr>\n",
       "      <th>1</th>\n",
       "      <td>CA-2016-152156</td>\n",
       "      <td>2016-11-08</td>\n",
       "      <td>2016-11-11</td>\n",
       "      <td>Second Class</td>\n",
       "      <td>CG-12520</td>\n",
       "      <td>Claire Gute</td>\n",
       "      <td>Consumer</td>\n",
       "      <td>United States</td>\n",
       "      <td>Henderson</td>\n",
       "      <td>Kentucky</td>\n",
       "      <td>42420</td>\n",
       "      <td>South</td>\n",
       "      <td>FUR-CH-10000454</td>\n",
       "      <td>Furniture</td>\n",
       "      <td>Chairs</td>\n",
       "      <td>Hon Deluxe Fabric Upholstered Stacking Chairs,...</td>\n",
       "      <td>731.9400</td>\n",
       "      <td>3</td>\n",
       "      <td>0.00</td>\n",
       "      <td>219.5820</td>\n",
       "    </tr>\n",
       "    <tr>\n",
       "      <th>2</th>\n",
       "      <td>CA-2016-138688</td>\n",
       "      <td>2016-06-12</td>\n",
       "      <td>2016-06-16</td>\n",
       "      <td>Second Class</td>\n",
       "      <td>DV-13045</td>\n",
       "      <td>Darrin Van Huff</td>\n",
       "      <td>Corporate</td>\n",
       "      <td>United States</td>\n",
       "      <td>Los Angeles</td>\n",
       "      <td>California</td>\n",
       "      <td>90036</td>\n",
       "      <td>West</td>\n",
       "      <td>OFF-LA-10000240</td>\n",
       "      <td>Office Supplies</td>\n",
       "      <td>Labels</td>\n",
       "      <td>Self-Adhesive Address Labels for Typewriters b...</td>\n",
       "      <td>14.6200</td>\n",
       "      <td>2</td>\n",
       "      <td>0.00</td>\n",
       "      <td>6.8714</td>\n",
       "    </tr>\n",
       "    <tr>\n",
       "      <th>3</th>\n",
       "      <td>US-2015-108966</td>\n",
       "      <td>2015-10-11</td>\n",
       "      <td>2015-10-18</td>\n",
       "      <td>Standard Class</td>\n",
       "      <td>SO-20335</td>\n",
       "      <td>Sean O'Donnell</td>\n",
       "      <td>Consumer</td>\n",
       "      <td>United States</td>\n",
       "      <td>Fort Lauderdale</td>\n",
       "      <td>Florida</td>\n",
       "      <td>33311</td>\n",
       "      <td>South</td>\n",
       "      <td>FUR-TA-10000577</td>\n",
       "      <td>Furniture</td>\n",
       "      <td>Tables</td>\n",
       "      <td>Bretford CR4500 Series Slim Rectangular Table</td>\n",
       "      <td>957.5775</td>\n",
       "      <td>5</td>\n",
       "      <td>0.45</td>\n",
       "      <td>-383.0310</td>\n",
       "    </tr>\n",
       "    <tr>\n",
       "      <th>4</th>\n",
       "      <td>US-2015-108966</td>\n",
       "      <td>2015-10-11</td>\n",
       "      <td>2015-10-18</td>\n",
       "      <td>Standard Class</td>\n",
       "      <td>SO-20335</td>\n",
       "      <td>Sean O'Donnell</td>\n",
       "      <td>Consumer</td>\n",
       "      <td>United States</td>\n",
       "      <td>Fort Lauderdale</td>\n",
       "      <td>Florida</td>\n",
       "      <td>33311</td>\n",
       "      <td>South</td>\n",
       "      <td>OFF-ST-10000760</td>\n",
       "      <td>Office Supplies</td>\n",
       "      <td>Storage</td>\n",
       "      <td>Eldon Fold 'N Roll Cart System</td>\n",
       "      <td>22.3680</td>\n",
       "      <td>2</td>\n",
       "      <td>0.20</td>\n",
       "      <td>2.5164</td>\n",
       "    </tr>\n",
       "  </tbody>\n",
       "</table>\n",
       "</div>"
      ],
      "text/plain": [
       "         Order ID Order Date  Ship Date       Ship Mode Customer ID  \\\n",
       "0  CA-2016-152156 2016-11-08 2016-11-11    Second Class    CG-12520   \n",
       "1  CA-2016-152156 2016-11-08 2016-11-11    Second Class    CG-12520   \n",
       "2  CA-2016-138688 2016-06-12 2016-06-16    Second Class    DV-13045   \n",
       "3  US-2015-108966 2015-10-11 2015-10-18  Standard Class    SO-20335   \n",
       "4  US-2015-108966 2015-10-11 2015-10-18  Standard Class    SO-20335   \n",
       "\n",
       "     Customer Name    Segment        Country             City       State  \\\n",
       "0      Claire Gute   Consumer  United States        Henderson    Kentucky   \n",
       "1      Claire Gute   Consumer  United States        Henderson    Kentucky   \n",
       "2  Darrin Van Huff  Corporate  United States      Los Angeles  California   \n",
       "3   Sean O'Donnell   Consumer  United States  Fort Lauderdale     Florida   \n",
       "4   Sean O'Donnell   Consumer  United States  Fort Lauderdale     Florida   \n",
       "\n",
       "   Postal Code Region       Product ID         Category Sub-Category  \\\n",
       "0        42420  South  FUR-BO-10001798        Furniture    Bookcases   \n",
       "1        42420  South  FUR-CH-10000454        Furniture       Chairs   \n",
       "2        90036   West  OFF-LA-10000240  Office Supplies       Labels   \n",
       "3        33311  South  FUR-TA-10000577        Furniture       Tables   \n",
       "4        33311  South  OFF-ST-10000760  Office Supplies      Storage   \n",
       "\n",
       "                                        Product Name     Sales  Quantity  \\\n",
       "0                  Bush Somerset Collection Bookcase  261.9600         2   \n",
       "1  Hon Deluxe Fabric Upholstered Stacking Chairs,...  731.9400         3   \n",
       "2  Self-Adhesive Address Labels for Typewriters b...   14.6200         2   \n",
       "3      Bretford CR4500 Series Slim Rectangular Table  957.5775         5   \n",
       "4                     Eldon Fold 'N Roll Cart System   22.3680         2   \n",
       "\n",
       "   Discount    Profit  \n",
       "0      0.00   41.9136  \n",
       "1      0.00  219.5820  \n",
       "2      0.00    6.8714  \n",
       "3      0.45 -383.0310  \n",
       "4      0.20    2.5164  "
      ]
     },
     "execution_count": 84,
     "metadata": {},
     "output_type": "execute_result"
    }
   ],
   "source": [
    "filt_df = sales_df.drop('Row ID', axis = 1)\n",
    "filt_df.head()"
   ]
  },
  {
   "cell_type": "code",
   "execution_count": 85,
   "metadata": {},
   "outputs": [
    {
     "data": {
      "text/html": [
       "<div>\n",
       "<style scoped>\n",
       "    .dataframe tbody tr th:only-of-type {\n",
       "        vertical-align: middle;\n",
       "    }\n",
       "\n",
       "    .dataframe tbody tr th {\n",
       "        vertical-align: top;\n",
       "    }\n",
       "\n",
       "    .dataframe thead th {\n",
       "        text-align: right;\n",
       "    }\n",
       "</style>\n",
       "<table border=\"1\" class=\"dataframe\">\n",
       "  <thead>\n",
       "    <tr style=\"text-align: right;\">\n",
       "      <th></th>\n",
       "      <th>Row ID</th>\n",
       "      <th>Order ID</th>\n",
       "      <th>Order Date</th>\n",
       "      <th>Ship Date</th>\n",
       "      <th>Ship Mode</th>\n",
       "      <th>Customer ID</th>\n",
       "      <th>Customer Name</th>\n",
       "      <th>Segment</th>\n",
       "      <th>Country</th>\n",
       "      <th>City</th>\n",
       "      <th>...</th>\n",
       "      <th>Postal Code</th>\n",
       "      <th>Region</th>\n",
       "      <th>Product ID</th>\n",
       "      <th>Category</th>\n",
       "      <th>Sub-Category</th>\n",
       "      <th>Product Name</th>\n",
       "      <th>Sales</th>\n",
       "      <th>Quantity</th>\n",
       "      <th>Discount</th>\n",
       "      <th>Profit</th>\n",
       "    </tr>\n",
       "  </thead>\n",
       "  <tbody>\n",
       "    <tr>\n",
       "      <th>2697</th>\n",
       "      <td>2698</td>\n",
       "      <td>CA-2014-145317</td>\n",
       "      <td>2014-03-18</td>\n",
       "      <td>2014-03-23</td>\n",
       "      <td>Standard Class</td>\n",
       "      <td>SM-20320</td>\n",
       "      <td>Sean Miller</td>\n",
       "      <td>Home Office</td>\n",
       "      <td>United States</td>\n",
       "      <td>Jacksonville</td>\n",
       "      <td>...</td>\n",
       "      <td>32216</td>\n",
       "      <td>South</td>\n",
       "      <td>TEC-MA-10002412</td>\n",
       "      <td>Technology</td>\n",
       "      <td>Machines</td>\n",
       "      <td>Cisco TelePresence System EX90 Videoconferenci...</td>\n",
       "      <td>22638.480</td>\n",
       "      <td>6</td>\n",
       "      <td>0.5</td>\n",
       "      <td>-1811.0784</td>\n",
       "    </tr>\n",
       "    <tr>\n",
       "      <th>6826</th>\n",
       "      <td>6827</td>\n",
       "      <td>CA-2016-118689</td>\n",
       "      <td>2016-10-02</td>\n",
       "      <td>2016-10-09</td>\n",
       "      <td>Standard Class</td>\n",
       "      <td>TC-20980</td>\n",
       "      <td>Tamara Chand</td>\n",
       "      <td>Corporate</td>\n",
       "      <td>United States</td>\n",
       "      <td>Lafayette</td>\n",
       "      <td>...</td>\n",
       "      <td>47905</td>\n",
       "      <td>Central</td>\n",
       "      <td>TEC-CO-10004722</td>\n",
       "      <td>Technology</td>\n",
       "      <td>Copiers</td>\n",
       "      <td>Canon imageCLASS 2200 Advanced Copier</td>\n",
       "      <td>17499.950</td>\n",
       "      <td>5</td>\n",
       "      <td>0.0</td>\n",
       "      <td>8399.9760</td>\n",
       "    </tr>\n",
       "    <tr>\n",
       "      <th>8153</th>\n",
       "      <td>8154</td>\n",
       "      <td>CA-2017-140151</td>\n",
       "      <td>2017-03-23</td>\n",
       "      <td>2017-03-25</td>\n",
       "      <td>First Class</td>\n",
       "      <td>RB-19360</td>\n",
       "      <td>Raymond Buch</td>\n",
       "      <td>Consumer</td>\n",
       "      <td>United States</td>\n",
       "      <td>Seattle</td>\n",
       "      <td>...</td>\n",
       "      <td>98115</td>\n",
       "      <td>West</td>\n",
       "      <td>TEC-CO-10004722</td>\n",
       "      <td>Technology</td>\n",
       "      <td>Copiers</td>\n",
       "      <td>Canon imageCLASS 2200 Advanced Copier</td>\n",
       "      <td>13999.960</td>\n",
       "      <td>4</td>\n",
       "      <td>0.0</td>\n",
       "      <td>6719.9808</td>\n",
       "    </tr>\n",
       "    <tr>\n",
       "      <th>2623</th>\n",
       "      <td>2624</td>\n",
       "      <td>CA-2017-127180</td>\n",
       "      <td>2017-10-22</td>\n",
       "      <td>2017-10-24</td>\n",
       "      <td>First Class</td>\n",
       "      <td>TA-21385</td>\n",
       "      <td>Tom Ashbrook</td>\n",
       "      <td>Home Office</td>\n",
       "      <td>United States</td>\n",
       "      <td>New York City</td>\n",
       "      <td>...</td>\n",
       "      <td>10024</td>\n",
       "      <td>East</td>\n",
       "      <td>TEC-CO-10004722</td>\n",
       "      <td>Technology</td>\n",
       "      <td>Copiers</td>\n",
       "      <td>Canon imageCLASS 2200 Advanced Copier</td>\n",
       "      <td>11199.968</td>\n",
       "      <td>4</td>\n",
       "      <td>0.2</td>\n",
       "      <td>3919.9888</td>\n",
       "    </tr>\n",
       "    <tr>\n",
       "      <th>4190</th>\n",
       "      <td>4191</td>\n",
       "      <td>CA-2017-166709</td>\n",
       "      <td>2017-11-17</td>\n",
       "      <td>2017-11-22</td>\n",
       "      <td>Standard Class</td>\n",
       "      <td>HL-15040</td>\n",
       "      <td>Hunter Lopez</td>\n",
       "      <td>Consumer</td>\n",
       "      <td>United States</td>\n",
       "      <td>Newark</td>\n",
       "      <td>...</td>\n",
       "      <td>19711</td>\n",
       "      <td>East</td>\n",
       "      <td>TEC-CO-10004722</td>\n",
       "      <td>Technology</td>\n",
       "      <td>Copiers</td>\n",
       "      <td>Canon imageCLASS 2200 Advanced Copier</td>\n",
       "      <td>10499.970</td>\n",
       "      <td>3</td>\n",
       "      <td>0.0</td>\n",
       "      <td>5039.9856</td>\n",
       "    </tr>\n",
       "  </tbody>\n",
       "</table>\n",
       "<p>5 rows × 21 columns</p>\n",
       "</div>"
      ],
      "text/plain": [
       "      Row ID        Order ID Order Date  Ship Date       Ship Mode  \\\n",
       "2697    2698  CA-2014-145317 2014-03-18 2014-03-23  Standard Class   \n",
       "6826    6827  CA-2016-118689 2016-10-02 2016-10-09  Standard Class   \n",
       "8153    8154  CA-2017-140151 2017-03-23 2017-03-25     First Class   \n",
       "2623    2624  CA-2017-127180 2017-10-22 2017-10-24     First Class   \n",
       "4190    4191  CA-2017-166709 2017-11-17 2017-11-22  Standard Class   \n",
       "\n",
       "     Customer ID Customer Name      Segment        Country           City  \\\n",
       "2697    SM-20320   Sean Miller  Home Office  United States   Jacksonville   \n",
       "6826    TC-20980  Tamara Chand    Corporate  United States      Lafayette   \n",
       "8153    RB-19360  Raymond Buch     Consumer  United States        Seattle   \n",
       "2623    TA-21385  Tom Ashbrook  Home Office  United States  New York City   \n",
       "4190    HL-15040  Hunter Lopez     Consumer  United States         Newark   \n",
       "\n",
       "      ... Postal Code   Region       Product ID    Category Sub-Category  \\\n",
       "2697  ...       32216    South  TEC-MA-10002412  Technology     Machines   \n",
       "6826  ...       47905  Central  TEC-CO-10004722  Technology      Copiers   \n",
       "8153  ...       98115     West  TEC-CO-10004722  Technology      Copiers   \n",
       "2623  ...       10024     East  TEC-CO-10004722  Technology      Copiers   \n",
       "4190  ...       19711     East  TEC-CO-10004722  Technology      Copiers   \n",
       "\n",
       "                                           Product Name      Sales  Quantity  \\\n",
       "2697  Cisco TelePresence System EX90 Videoconferenci...  22638.480         6   \n",
       "6826              Canon imageCLASS 2200 Advanced Copier  17499.950         5   \n",
       "8153              Canon imageCLASS 2200 Advanced Copier  13999.960         4   \n",
       "2623              Canon imageCLASS 2200 Advanced Copier  11199.968         4   \n",
       "4190              Canon imageCLASS 2200 Advanced Copier  10499.970         3   \n",
       "\n",
       "      Discount     Profit  \n",
       "2697       0.5 -1811.0784  \n",
       "6826       0.0  8399.9760  \n",
       "8153       0.0  6719.9808  \n",
       "2623       0.2  3919.9888  \n",
       "4190       0.0  5039.9856  \n",
       "\n",
       "[5 rows x 21 columns]"
      ]
     },
     "execution_count": 85,
     "metadata": {},
     "output_type": "execute_result"
    }
   ],
   "source": [
    "s_df = sales_df.sort_values(by=['Sales'], ascending=False)\n",
    "s_df.head()"
   ]
  },
  {
   "cell_type": "code",
   "execution_count": 86,
   "metadata": {},
   "outputs": [
    {
     "data": {
      "text/html": [
       "<div>\n",
       "<style scoped>\n",
       "    .dataframe tbody tr th:only-of-type {\n",
       "        vertical-align: middle;\n",
       "    }\n",
       "\n",
       "    .dataframe tbody tr th {\n",
       "        vertical-align: top;\n",
       "    }\n",
       "\n",
       "    .dataframe thead th {\n",
       "        text-align: right;\n",
       "    }\n",
       "</style>\n",
       "<table border=\"1\" class=\"dataframe\">\n",
       "  <thead>\n",
       "    <tr style=\"text-align: right;\">\n",
       "      <th></th>\n",
       "      <th>Row ID</th>\n",
       "      <th>Order ID</th>\n",
       "      <th>Order Date</th>\n",
       "      <th>Ship Date</th>\n",
       "      <th>Ship Mode</th>\n",
       "      <th>Customer ID</th>\n",
       "      <th>Customer Name</th>\n",
       "      <th>Segment</th>\n",
       "      <th>Country</th>\n",
       "      <th>City</th>\n",
       "      <th>...</th>\n",
       "      <th>Postal Code</th>\n",
       "      <th>Region</th>\n",
       "      <th>Product ID</th>\n",
       "      <th>Category</th>\n",
       "      <th>Sub-Category</th>\n",
       "      <th>Product Name</th>\n",
       "      <th>Sales</th>\n",
       "      <th>Quantity</th>\n",
       "      <th>Discount</th>\n",
       "      <th>Profit</th>\n",
       "    </tr>\n",
       "  </thead>\n",
       "  <tbody>\n",
       "    <tr>\n",
       "      <th>0</th>\n",
       "      <td>1</td>\n",
       "      <td>CA-2016-152156</td>\n",
       "      <td>2016-11-08</td>\n",
       "      <td>2016-11-11</td>\n",
       "      <td>Second Class</td>\n",
       "      <td>CG-12520</td>\n",
       "      <td>Claire Gute</td>\n",
       "      <td>Consumer</td>\n",
       "      <td>United States</td>\n",
       "      <td>Henderson</td>\n",
       "      <td>...</td>\n",
       "      <td>42420</td>\n",
       "      <td>South</td>\n",
       "      <td>FUR-BO-10001798</td>\n",
       "      <td>Furniture</td>\n",
       "      <td>Bookcases</td>\n",
       "      <td>Bush Somerset Collection Bookcase</td>\n",
       "      <td>261.960</td>\n",
       "      <td>2</td>\n",
       "      <td>0.0</td>\n",
       "      <td>41.9136</td>\n",
       "    </tr>\n",
       "    <tr>\n",
       "      <th>2</th>\n",
       "      <td>3</td>\n",
       "      <td>CA-2016-138688</td>\n",
       "      <td>2016-06-12</td>\n",
       "      <td>2016-06-16</td>\n",
       "      <td>Second Class</td>\n",
       "      <td>DV-13045</td>\n",
       "      <td>Darrin Van Huff</td>\n",
       "      <td>Corporate</td>\n",
       "      <td>United States</td>\n",
       "      <td>Los Angeles</td>\n",
       "      <td>...</td>\n",
       "      <td>90036</td>\n",
       "      <td>West</td>\n",
       "      <td>OFF-LA-10000240</td>\n",
       "      <td>Office Supplies</td>\n",
       "      <td>Labels</td>\n",
       "      <td>Self-Adhesive Address Labels for Typewriters b...</td>\n",
       "      <td>14.620</td>\n",
       "      <td>2</td>\n",
       "      <td>0.0</td>\n",
       "      <td>6.8714</td>\n",
       "    </tr>\n",
       "    <tr>\n",
       "      <th>14</th>\n",
       "      <td>15</td>\n",
       "      <td>US-2015-118983</td>\n",
       "      <td>2015-11-22</td>\n",
       "      <td>2015-11-26</td>\n",
       "      <td>Standard Class</td>\n",
       "      <td>HP-14815</td>\n",
       "      <td>Harold Pawlan</td>\n",
       "      <td>Home Office</td>\n",
       "      <td>United States</td>\n",
       "      <td>Fort Worth</td>\n",
       "      <td>...</td>\n",
       "      <td>76106</td>\n",
       "      <td>Central</td>\n",
       "      <td>OFF-AP-10002311</td>\n",
       "      <td>Office Supplies</td>\n",
       "      <td>Appliances</td>\n",
       "      <td>Holmes Replacement Filter for HEPA Air Cleaner...</td>\n",
       "      <td>68.810</td>\n",
       "      <td>5</td>\n",
       "      <td>0.8</td>\n",
       "      <td>-123.8580</td>\n",
       "    </tr>\n",
       "    <tr>\n",
       "      <th>23</th>\n",
       "      <td>24</td>\n",
       "      <td>US-2017-156909</td>\n",
       "      <td>2017-07-16</td>\n",
       "      <td>2017-07-18</td>\n",
       "      <td>Second Class</td>\n",
       "      <td>SF-20065</td>\n",
       "      <td>Sandra Flanagan</td>\n",
       "      <td>Consumer</td>\n",
       "      <td>United States</td>\n",
       "      <td>Philadelphia</td>\n",
       "      <td>...</td>\n",
       "      <td>19140</td>\n",
       "      <td>East</td>\n",
       "      <td>FUR-CH-10002774</td>\n",
       "      <td>Furniture</td>\n",
       "      <td>Chairs</td>\n",
       "      <td>Global Deluxe Stacking Chair, Gray</td>\n",
       "      <td>71.372</td>\n",
       "      <td>2</td>\n",
       "      <td>0.3</td>\n",
       "      <td>-1.0196</td>\n",
       "    </tr>\n",
       "  </tbody>\n",
       "</table>\n",
       "<p>4 rows × 21 columns</p>\n",
       "</div>"
      ],
      "text/plain": [
       "    Row ID        Order ID Order Date  Ship Date       Ship Mode Customer ID  \\\n",
       "0        1  CA-2016-152156 2016-11-08 2016-11-11    Second Class    CG-12520   \n",
       "2        3  CA-2016-138688 2016-06-12 2016-06-16    Second Class    DV-13045   \n",
       "14      15  US-2015-118983 2015-11-22 2015-11-26  Standard Class    HP-14815   \n",
       "23      24  US-2017-156909 2017-07-16 2017-07-18    Second Class    SF-20065   \n",
       "\n",
       "      Customer Name      Segment        Country          City  ...  \\\n",
       "0       Claire Gute     Consumer  United States     Henderson  ...   \n",
       "2   Darrin Van Huff    Corporate  United States   Los Angeles  ...   \n",
       "14    Harold Pawlan  Home Office  United States    Fort Worth  ...   \n",
       "23  Sandra Flanagan     Consumer  United States  Philadelphia  ...   \n",
       "\n",
       "   Postal Code   Region       Product ID         Category Sub-Category  \\\n",
       "0        42420    South  FUR-BO-10001798        Furniture    Bookcases   \n",
       "2        90036     West  OFF-LA-10000240  Office Supplies       Labels   \n",
       "14       76106  Central  OFF-AP-10002311  Office Supplies   Appliances   \n",
       "23       19140     East  FUR-CH-10002774        Furniture       Chairs   \n",
       "\n",
       "                                         Product Name    Sales  Quantity  \\\n",
       "0                   Bush Somerset Collection Bookcase  261.960         2   \n",
       "2   Self-Adhesive Address Labels for Typewriters b...   14.620         2   \n",
       "14  Holmes Replacement Filter for HEPA Air Cleaner...   68.810         5   \n",
       "23                 Global Deluxe Stacking Chair, Gray   71.372         2   \n",
       "\n",
       "    Discount    Profit  \n",
       "0        0.0   41.9136  \n",
       "2        0.0    6.8714  \n",
       "14       0.8 -123.8580  \n",
       "23       0.3   -1.0196  \n",
       "\n",
       "[4 rows x 21 columns]"
      ]
     },
     "execution_count": 86,
     "metadata": {},
     "output_type": "execute_result"
    }
   ],
   "source": [
    "s_df = sales_df.drop_duplicates('Region')\n",
    "s_df.head()"
   ]
  },
  {
   "cell_type": "code",
   "execution_count": 87,
   "metadata": {},
   "outputs": [
    {
     "data": {
      "text/html": [
       "<div>\n",
       "<style scoped>\n",
       "    .dataframe tbody tr th:only-of-type {\n",
       "        vertical-align: middle;\n",
       "    }\n",
       "\n",
       "    .dataframe tbody tr th {\n",
       "        vertical-align: top;\n",
       "    }\n",
       "\n",
       "    .dataframe thead th {\n",
       "        text-align: right;\n",
       "    }\n",
       "</style>\n",
       "<table border=\"1\" class=\"dataframe\">\n",
       "  <thead>\n",
       "    <tr style=\"text-align: right;\">\n",
       "      <th></th>\n",
       "      <th>Row ID</th>\n",
       "      <th>Order ID</th>\n",
       "      <th>Order Date</th>\n",
       "      <th>Ship Date</th>\n",
       "      <th>Ship Mode</th>\n",
       "      <th>Customer ID</th>\n",
       "      <th>Customer Name</th>\n",
       "      <th>Segment</th>\n",
       "      <th>Country</th>\n",
       "      <th>City</th>\n",
       "      <th>...</th>\n",
       "      <th>Postal Code</th>\n",
       "      <th>Region</th>\n",
       "      <th>Product ID</th>\n",
       "      <th>Category</th>\n",
       "      <th>Sub-Category</th>\n",
       "      <th>Product Name</th>\n",
       "      <th>Sales</th>\n",
       "      <th>Quantity</th>\n",
       "      <th>Discount</th>\n",
       "      <th>Profit</th>\n",
       "    </tr>\n",
       "  </thead>\n",
       "  <tbody>\n",
       "    <tr>\n",
       "      <th>7180</th>\n",
       "      <td>7181</td>\n",
       "      <td>CA-2014-106054</td>\n",
       "      <td>2014-01-06</td>\n",
       "      <td>2014-01-07</td>\n",
       "      <td>First Class</td>\n",
       "      <td>JO-15145</td>\n",
       "      <td>Jack O'Briant</td>\n",
       "      <td>Corporate</td>\n",
       "      <td>United States</td>\n",
       "      <td>Athens</td>\n",
       "      <td>...</td>\n",
       "      <td>30605</td>\n",
       "      <td>South</td>\n",
       "      <td>OFF-AR-10002399</td>\n",
       "      <td>Office Supplies</td>\n",
       "      <td>Art</td>\n",
       "      <td>Dixon Prang Watercolor Pencils, 10-Color Set w...</td>\n",
       "      <td>12.780</td>\n",
       "      <td>3</td>\n",
       "      <td>0.0</td>\n",
       "      <td>5.2398</td>\n",
       "    </tr>\n",
       "    <tr>\n",
       "      <th>7980</th>\n",
       "      <td>7981</td>\n",
       "      <td>CA-2014-103800</td>\n",
       "      <td>2014-01-03</td>\n",
       "      <td>2014-01-07</td>\n",
       "      <td>Standard Class</td>\n",
       "      <td>DP-13000</td>\n",
       "      <td>Darren Powers</td>\n",
       "      <td>Consumer</td>\n",
       "      <td>United States</td>\n",
       "      <td>Houston</td>\n",
       "      <td>...</td>\n",
       "      <td>77095</td>\n",
       "      <td>Central</td>\n",
       "      <td>OFF-PA-10000174</td>\n",
       "      <td>Office Supplies</td>\n",
       "      <td>Paper</td>\n",
       "      <td>Message Book, Wirebound, Four 5 1/2\" X 4\" Form...</td>\n",
       "      <td>16.448</td>\n",
       "      <td>2</td>\n",
       "      <td>0.2</td>\n",
       "      <td>5.5512</td>\n",
       "    </tr>\n",
       "    <tr>\n",
       "      <th>5327</th>\n",
       "      <td>5328</td>\n",
       "      <td>CA-2014-130813</td>\n",
       "      <td>2014-01-06</td>\n",
       "      <td>2014-01-08</td>\n",
       "      <td>Second Class</td>\n",
       "      <td>LS-17230</td>\n",
       "      <td>Lycoris Saunders</td>\n",
       "      <td>Consumer</td>\n",
       "      <td>United States</td>\n",
       "      <td>Los Angeles</td>\n",
       "      <td>...</td>\n",
       "      <td>90049</td>\n",
       "      <td>West</td>\n",
       "      <td>OFF-PA-10002005</td>\n",
       "      <td>Office Supplies</td>\n",
       "      <td>Paper</td>\n",
       "      <td>Xerox 225</td>\n",
       "      <td>19.440</td>\n",
       "      <td>3</td>\n",
       "      <td>0.0</td>\n",
       "      <td>9.3312</td>\n",
       "    </tr>\n",
       "    <tr>\n",
       "      <th>739</th>\n",
       "      <td>740</td>\n",
       "      <td>CA-2014-112326</td>\n",
       "      <td>2014-01-04</td>\n",
       "      <td>2014-01-08</td>\n",
       "      <td>Standard Class</td>\n",
       "      <td>PO-19195</td>\n",
       "      <td>Phillina Ober</td>\n",
       "      <td>Home Office</td>\n",
       "      <td>United States</td>\n",
       "      <td>Naperville</td>\n",
       "      <td>...</td>\n",
       "      <td>60540</td>\n",
       "      <td>Central</td>\n",
       "      <td>OFF-LA-10003223</td>\n",
       "      <td>Office Supplies</td>\n",
       "      <td>Labels</td>\n",
       "      <td>Avery 508</td>\n",
       "      <td>11.784</td>\n",
       "      <td>3</td>\n",
       "      <td>0.2</td>\n",
       "      <td>4.2717</td>\n",
       "    </tr>\n",
       "    <tr>\n",
       "      <th>740</th>\n",
       "      <td>741</td>\n",
       "      <td>CA-2014-112326</td>\n",
       "      <td>2014-01-04</td>\n",
       "      <td>2014-01-08</td>\n",
       "      <td>Standard Class</td>\n",
       "      <td>PO-19195</td>\n",
       "      <td>Phillina Ober</td>\n",
       "      <td>Home Office</td>\n",
       "      <td>United States</td>\n",
       "      <td>Naperville</td>\n",
       "      <td>...</td>\n",
       "      <td>60540</td>\n",
       "      <td>Central</td>\n",
       "      <td>OFF-ST-10002743</td>\n",
       "      <td>Office Supplies</td>\n",
       "      <td>Storage</td>\n",
       "      <td>SAFCO Boltless Steel Shelving</td>\n",
       "      <td>272.736</td>\n",
       "      <td>3</td>\n",
       "      <td>0.2</td>\n",
       "      <td>-64.7748</td>\n",
       "    </tr>\n",
       "  </tbody>\n",
       "</table>\n",
       "<p>5 rows × 21 columns</p>\n",
       "</div>"
      ],
      "text/plain": [
       "      Row ID        Order ID Order Date  Ship Date       Ship Mode  \\\n",
       "7180    7181  CA-2014-106054 2014-01-06 2014-01-07     First Class   \n",
       "7980    7981  CA-2014-103800 2014-01-03 2014-01-07  Standard Class   \n",
       "5327    5328  CA-2014-130813 2014-01-06 2014-01-08    Second Class   \n",
       "739      740  CA-2014-112326 2014-01-04 2014-01-08  Standard Class   \n",
       "740      741  CA-2014-112326 2014-01-04 2014-01-08  Standard Class   \n",
       "\n",
       "     Customer ID     Customer Name      Segment        Country         City  \\\n",
       "7180    JO-15145     Jack O'Briant    Corporate  United States       Athens   \n",
       "7980    DP-13000     Darren Powers     Consumer  United States      Houston   \n",
       "5327    LS-17230  Lycoris Saunders     Consumer  United States  Los Angeles   \n",
       "739     PO-19195     Phillina Ober  Home Office  United States   Naperville   \n",
       "740     PO-19195     Phillina Ober  Home Office  United States   Naperville   \n",
       "\n",
       "      ... Postal Code   Region       Product ID         Category Sub-Category  \\\n",
       "7180  ...       30605    South  OFF-AR-10002399  Office Supplies          Art   \n",
       "7980  ...       77095  Central  OFF-PA-10000174  Office Supplies        Paper   \n",
       "5327  ...       90049     West  OFF-PA-10002005  Office Supplies        Paper   \n",
       "739   ...       60540  Central  OFF-LA-10003223  Office Supplies       Labels   \n",
       "740   ...       60540  Central  OFF-ST-10002743  Office Supplies      Storage   \n",
       "\n",
       "                                           Product Name    Sales  Quantity  \\\n",
       "7180  Dixon Prang Watercolor Pencils, 10-Color Set w...   12.780         3   \n",
       "7980  Message Book, Wirebound, Four 5 1/2\" X 4\" Form...   16.448         2   \n",
       "5327                                          Xerox 225   19.440         3   \n",
       "739                                           Avery 508   11.784         3   \n",
       "740                       SAFCO Boltless Steel Shelving  272.736         3   \n",
       "\n",
       "      Discount   Profit  \n",
       "7180       0.0   5.2398  \n",
       "7980       0.2   5.5512  \n",
       "5327       0.0   9.3312  \n",
       "739        0.2   4.2717  \n",
       "740        0.2 -64.7748  \n",
       "\n",
       "[5 rows x 21 columns]"
      ]
     },
     "execution_count": 87,
     "metadata": {},
     "output_type": "execute_result"
    }
   ],
   "source": [
    "s_df = sales_df.sort_values(by=['Ship Date'], ascending=True)\n",
    "s_df.head()"
   ]
  },
  {
   "cell_type": "markdown",
   "metadata": {},
   "source": [
    "---\n",
    "# TIME SERIES ANALYSIS"
   ]
  },
  {
   "cell_type": "markdown",
   "metadata": {},
   "source": [
    "Python library data types for date and time is 'datetime','time', 'calendar'; for Pandas its 'Timestamp'"
   ]
  },
  {
   "cell_type": "code",
   "execution_count": 88,
   "metadata": {},
   "outputs": [],
   "source": [
    "from datetime import datetime\n",
    "from matplotlib import dates"
   ]
  },
  {
   "cell_type": "code",
   "execution_count": 89,
   "metadata": {},
   "outputs": [
    {
     "data": {
      "text/plain": [
       "datetime.datetime(2021, 5, 3, 9, 16, 3, 477642)"
      ]
     },
     "execution_count": 89,
     "metadata": {},
     "output_type": "execute_result"
    }
   ],
   "source": [
    "now = datetime.now()\n",
    "now"
   ]
  },
  {
   "cell_type": "code",
   "execution_count": 90,
   "metadata": {},
   "outputs": [
    {
     "data": {
      "text/plain": [
       "DatetimeIndex(['2020-03-10', '2020-03-11', '2020-03-12', '2020-03-13',\n",
       "               '2020-03-14', '2020-03-15', '2020-03-16', '2020-03-17',\n",
       "               '2020-03-18', '2020-03-19', '2020-03-20', '2020-03-21',\n",
       "               '2020-03-22', '2020-03-23', '2020-03-24', '2020-03-25',\n",
       "               '2020-03-26', '2020-03-27', '2020-03-28', '2020-03-29',\n",
       "               '2020-03-30', '2020-03-31', '2020-04-01', '2020-04-02',\n",
       "               '2020-04-03', '2020-04-04', '2020-04-05', '2020-04-06',\n",
       "               '2020-04-07', '2020-04-08', '2020-04-09', '2020-04-10',\n",
       "               '2020-04-11', '2020-04-12', '2020-04-13', '2020-04-14',\n",
       "               '2020-04-15', '2020-04-16', '2020-04-17', '2020-04-18',\n",
       "               '2020-04-19', '2020-04-20', '2020-04-21', '2020-04-22',\n",
       "               '2020-04-23', '2020-04-24', '2020-04-25', '2020-04-26',\n",
       "               '2020-04-27', '2020-04-28', '2020-04-29', '2020-04-30',\n",
       "               '2020-05-01', '2020-05-02', '2020-05-03', '2020-05-04',\n",
       "               '2020-05-05', '2020-05-06', '2020-05-07', '2020-05-08'],\n",
       "              dtype='datetime64[ns]', freq='D')"
      ]
     },
     "execution_count": 90,
     "metadata": {},
     "output_type": "execute_result"
    }
   ],
   "source": [
    "pd.date_range('20200310', periods=60)"
   ]
  },
  {
   "cell_type": "code",
   "execution_count": 91,
   "metadata": {},
   "outputs": [
    {
     "data": {
      "text/plain": [
       "datetime.datetime(2005, 11, 28, 0, 0)"
      ]
     },
     "execution_count": 91,
     "metadata": {},
     "output_type": "execute_result"
    }
   ],
   "source": [
    "# convert string to datetime\n",
    "datetime.strptime('11/28/2005','%m/%d/%Y')"
   ]
  },
  {
   "cell_type": "code",
   "execution_count": 92,
   "metadata": {},
   "outputs": [
    {
     "data": {
      "text/plain": [
       "datetime.datetime(2020, 3, 10, 0, 0)"
      ]
     },
     "execution_count": 92,
     "metadata": {},
     "output_type": "execute_result"
    }
   ],
   "source": [
    "date_str = \"10 march, 2020\"\n",
    "datetime.strptime(date_str, \"%d %B, %Y\")"
   ]
  },
  {
   "cell_type": "code",
   "execution_count": 93,
   "metadata": {},
   "outputs": [
    {
     "name": "stdout",
     "output_type": "stream",
     "text": [
      "Type :-  <class 'datetime.datetime'>\n"
     ]
    }
   ],
   "source": [
    "print('Type :- ',type(now))"
   ]
  },
  {
   "cell_type": "code",
   "execution_count": 94,
   "metadata": {},
   "outputs": [
    {
     "name": "stdout",
     "output_type": "stream",
     "text": [
      "Hour:  9\n",
      "Minute:  16\n"
     ]
    }
   ],
   "source": [
    "now = datetime.now()\n",
    "print('Hour: ', now.hour)\n",
    "print('Minute: ', now.minute)"
   ]
  },
  {
   "cell_type": "code",
   "execution_count": 95,
   "metadata": {},
   "outputs": [
    {
     "data": {
      "text/plain": [
       "0"
      ]
     },
     "execution_count": 95,
     "metadata": {},
     "output_type": "execute_result"
    }
   ],
   "source": [
    "now.weekday()  # gets the day of the week"
   ]
  },
  {
   "cell_type": "code",
   "execution_count": 96,
   "metadata": {},
   "outputs": [],
   "source": [
    "# dealing with time zone\n",
    "\n",
    "from datetime import timezone"
   ]
  },
  {
   "cell_type": "code",
   "execution_count": 97,
   "metadata": {},
   "outputs": [
    {
     "data": {
      "text/plain": [
       "datetime.datetime(2021, 5, 3, 6, 16, 7, 117755)"
      ]
     },
     "execution_count": 97,
     "metadata": {},
     "output_type": "execute_result"
    }
   ],
   "source": [
    "# UTC(Coordinated Universal Time) integer representing nanoseconds elapsed since midnight Thursday, January 1, 1970\n",
    "\n",
    "loc_time = datetime.utcnow()   \n",
    "loc_time"
   ]
  },
  {
   "cell_type": "code",
   "execution_count": 98,
   "metadata": {},
   "outputs": [
    {
     "data": {
      "text/plain": [
       "datetime.datetime(1975, 1, 17, 12, 34, 3)"
      ]
     },
     "execution_count": 98,
     "metadata": {},
     "output_type": "execute_result"
    }
   ],
   "source": [
    "ce103_final = datetime.utcfromtimestamp(159194043)   # defines nanoseconds from UTC to Final Exam date\n",
    "ce103_final"
   ]
  },
  {
   "cell_type": "code",
   "execution_count": 99,
   "metadata": {},
   "outputs": [],
   "source": [
    "import calendar  # is also a helpful module to define date operations"
   ]
  },
  {
   "cell_type": "code",
   "execution_count": 100,
   "metadata": {},
   "outputs": [
    {
     "data": {
      "text/plain": [
       "'Friday'"
      ]
     },
     "execution_count": 100,
     "metadata": {},
     "output_type": "execute_result"
    }
   ],
   "source": [
    "calendar.day_name[ce103_final.weekday()]  # find the weekday of given timestamp"
   ]
  },
  {
   "cell_type": "code",
   "execution_count": 101,
   "metadata": {},
   "outputs": [],
   "source": [
    "# Timespan and Time difference settlement\n",
    "\n",
    "from datetime import timedelta"
   ]
  },
  {
   "cell_type": "code",
   "execution_count": 102,
   "metadata": {},
   "outputs": [],
   "source": [
    "# get difference between two datetime objects\n",
    "\n",
    "from datetime import timedelta\n",
    "\n",
    "time_df = datetime(2020, 3, 10) + timedelta(60)  # adds 60 days to start time"
   ]
  },
  {
   "cell_type": "code",
   "execution_count": 103,
   "metadata": {},
   "outputs": [
    {
     "data": {
      "text/plain": [
       "datetime.timedelta(days=130, seconds=78180)"
      ]
     },
     "execution_count": 103,
     "metadata": {},
     "output_type": "execute_result"
    }
   ],
   "source": [
    "timedelta(days = 130, hours = 21, minutes = 43) # gives day, seconds"
   ]
  },
  {
   "cell_type": "code",
   "execution_count": 104,
   "metadata": {},
   "outputs": [
    {
     "data": {
      "text/plain": [
       "Timestamp('2020-03-26 00:00:00')"
      ]
     },
     "execution_count": 104,
     "metadata": {},
     "output_type": "execute_result"
    }
   ],
   "source": [
    "# DateTime objects in Pandas\n",
    "\n",
    "pd.to_datetime(\"26th of march, 2020\")"
   ]
  },
  {
   "cell_type": "code",
   "execution_count": 105,
   "metadata": {},
   "outputs": [
    {
     "data": {
      "text/plain": [
       "Timestamp('2020-03-26 00:00:00')"
      ]
     },
     "execution_count": 105,
     "metadata": {},
     "output_type": "execute_result"
    }
   ],
   "source": [
    "pd.Timestamp(datetime(2020, 3, 26))"
   ]
  },
  {
   "cell_type": "code",
   "execution_count": 106,
   "metadata": {},
   "outputs": [
    {
     "data": {
      "text/plain": [
       "Timestamp('2005-11-28 00:00:00')"
      ]
     },
     "execution_count": 106,
     "metadata": {},
     "output_type": "execute_result"
    }
   ],
   "source": [
    "pd.Timestamp('2005-11-28')"
   ]
  },
  {
   "cell_type": "code",
   "execution_count": 107,
   "metadata": {},
   "outputs": [
    {
     "data": {
      "text/plain": [
       "Timestamp('2012-05-01 00:00:00')"
      ]
     },
     "execution_count": 107,
     "metadata": {},
     "output_type": "execute_result"
    }
   ],
   "source": [
    "pd.Timestamp(2012, 5, 1)"
   ]
  },
  {
   "cell_type": "code",
   "execution_count": 108,
   "metadata": {},
   "outputs": [
    {
     "data": {
      "text/plain": [
       "Period('2011-01', 'M')"
      ]
     },
     "execution_count": 108,
     "metadata": {},
     "output_type": "execute_result"
    }
   ],
   "source": [
    "pd.Period('2011-01') "
   ]
  },
  {
   "cell_type": "code",
   "execution_count": 109,
   "metadata": {},
   "outputs": [
    {
     "data": {
      "text/plain": [
       "Period('2012-05-01', 'D')"
      ]
     },
     "execution_count": 109,
     "metadata": {},
     "output_type": "execute_result"
    }
   ],
   "source": [
    "pd.Period('2012-05', freq='D')  # sets the frequency as Day"
   ]
  },
  {
   "cell_type": "code",
   "execution_count": 110,
   "metadata": {},
   "outputs": [
    {
     "data": {
      "text/plain": [
       "DatetimeIndex(['2005-10-18 20:02:55', '2005-10-19 20:02:55',\n",
       "               '2005-10-20 20:02:55', '2005-10-21 20:02:55',\n",
       "               '2005-10-22 20:02:55'],\n",
       "              dtype='datetime64[ns]', freq='D')"
      ]
     },
     "execution_count": 110,
     "metadata": {},
     "output_type": "execute_result"
    }
   ],
   "source": [
    "# set series with random dates\n",
    "\n",
    "pd.date_range('2005-10-18 20:02:55', periods=5, freq='D')"
   ]
  },
  {
   "cell_type": "code",
   "execution_count": 111,
   "metadata": {},
   "outputs": [
    {
     "data": {
      "text/plain": [
       "[datetime.datetime(2012, 5, 1, 0, 0),\n",
       " datetime.datetime(2012, 5, 2, 0, 0),\n",
       " datetime.datetime(2012, 5, 3, 0, 0)]"
      ]
     },
     "execution_count": 111,
     "metadata": {},
     "output_type": "execute_result"
    }
   ],
   "source": [
    "[datetime(2012, 5, 1), datetime(2012, 5, 2), datetime(2012, 5, 3)]"
   ]
  },
  {
   "cell_type": "code",
   "execution_count": 112,
   "metadata": {},
   "outputs": [
    {
     "data": {
      "text/plain": [
       "DatetimeIndex(['1970-09-08', '1970-01-05', '1970-01-31'], dtype='datetime64[ns]', freq=None)"
      ]
     },
     "execution_count": 112,
     "metadata": {},
     "output_type": "execute_result"
    }
   ],
   "source": [
    "pd.to_datetime([250, 4, 30], unit='D')"
   ]
  },
  {
   "cell_type": "code",
   "execution_count": 113,
   "metadata": {},
   "outputs": [
    {
     "data": {
      "text/plain": [
       "DatetimeIndex(['1900-01-11', '1900-01-21', '1900-01-31'], dtype='datetime64[ns]', freq=None)"
      ]
     },
     "execution_count": 113,
     "metadata": {},
     "output_type": "execute_result"
    }
   ],
   "source": [
    "pd.to_datetime([10, 20, 30], unit='D', origin=pd.Timestamp('1900-01-01'))"
   ]
  },
  {
   "cell_type": "code",
   "execution_count": 114,
   "metadata": {},
   "outputs": [
    {
     "data": {
      "text/plain": [
       "DatetimeIndex([   '1970-02-03 14:37:27.300000',\n",
       "                         '2093-07-14 01:28:01',\n",
       "               '1976-01-12 08:35:49.982837409'],\n",
       "              dtype='datetime64[ns]', freq=None)"
      ]
     },
     "execution_count": 114,
     "metadata": {},
     "output_type": "execute_result"
    }
   ],
   "source": [
    "pd.to_datetime([2903847.3, 3898373281, 190283749.9828374], unit='s')  # unit \"s\" refers to seconds"
   ]
  },
  {
   "cell_type": "code",
   "execution_count": 115,
   "metadata": {},
   "outputs": [
    {
     "data": {
      "text/plain": [
       "DatetimeIndex(['1970-01-01 00:00:00.002903847',\n",
       "               '1970-01-01 00:00:00.038942081',\n",
       "               '1970-01-01 00:00:00.190283749'],\n",
       "              dtype='datetime64[ns]', freq=None)"
      ]
     },
     "execution_count": 115,
     "metadata": {},
     "output_type": "execute_result"
    }
   ],
   "source": [
    "pd.to_datetime([2903847.3, 38942081, 190283749.9828374], unit='ns') "
   ]
  },
  {
   "cell_type": "code",
   "execution_count": 116,
   "metadata": {},
   "outputs": [
    {
     "data": {
      "text/plain": [
       "DatetimeIndex(['2020-03-10', '2020-03-11', '2020-03-12', '2020-03-13',\n",
       "               '2020-03-14', '2020-03-15', '2020-03-16', '2020-03-17',\n",
       "               '2020-03-18', '2020-03-19',\n",
       "               ...\n",
       "               '2021-04-24', '2021-04-25', '2021-04-26', '2021-04-27',\n",
       "               '2021-04-28', '2021-04-29', '2021-04-30', '2021-05-01',\n",
       "               '2021-05-02', '2021-05-03'],\n",
       "              dtype='datetime64[ns]', length=420, freq='D')"
      ]
     },
     "execution_count": 116,
     "metadata": {},
     "output_type": "execute_result"
    }
   ],
   "source": [
    "start = datetime(2020, 3, 10)\n",
    "end = datetime.now()\n",
    "pd.date_range(start, end) # default frequency for date_range is a calendar day"
   ]
  },
  {
   "cell_type": "code",
   "execution_count": 117,
   "metadata": {},
   "outputs": [
    {
     "data": {
      "text/plain": [
       "DatetimeIndex(['2020-03-10', '2020-03-11', '2020-03-12', '2020-03-13',\n",
       "               '2020-03-16', '2020-03-17', '2020-03-18', '2020-03-19',\n",
       "               '2020-03-20', '2020-03-23',\n",
       "               ...\n",
       "               '2021-04-20', '2021-04-21', '2021-04-22', '2021-04-23',\n",
       "               '2021-04-26', '2021-04-27', '2021-04-28', '2021-04-29',\n",
       "               '2021-04-30', '2021-05-03'],\n",
       "              dtype='datetime64[ns]', length=300, freq='B')"
      ]
     },
     "execution_count": 117,
     "metadata": {},
     "output_type": "execute_result"
    }
   ],
   "source": [
    "pd.bdate_range(start, end, freq='B')  # the default for bdate_range is a business day"
   ]
  },
  {
   "cell_type": "markdown",
   "metadata": {},
   "source": [
    "#### _**Timestamp Limitations**_"
   ]
  },
  {
   "cell_type": "code",
   "execution_count": 118,
   "metadata": {},
   "outputs": [
    {
     "data": {
      "text/plain": [
       "Timestamp('1677-09-21 00:12:43.145225')"
      ]
     },
     "execution_count": 118,
     "metadata": {},
     "output_type": "execute_result"
    }
   ],
   "source": [
    "pd.Timestamp.min"
   ]
  },
  {
   "cell_type": "code",
   "execution_count": 119,
   "metadata": {},
   "outputs": [
    {
     "data": {
      "text/plain": [
       "Timestamp('2262-04-11 23:47:16.854775807')"
      ]
     },
     "execution_count": 119,
     "metadata": {},
     "output_type": "execute_result"
    }
   ],
   "source": [
    "pd.Timestamp.max"
   ]
  },
  {
   "cell_type": "markdown",
   "metadata": {},
   "source": [
    "---\n",
    "# VISUALIZATION"
   ]
  },
  {
   "cell_type": "code",
   "execution_count": 120,
   "metadata": {},
   "outputs": [
    {
     "data": {
      "text/plain": [
       "Index(['Row ID', 'Order ID', 'Order Date', 'Ship Date', 'Ship Mode',\n",
       "       'Customer ID', 'Customer Name', 'Segment', 'Country', 'City', 'State',\n",
       "       'Postal Code', 'Region', 'Product ID', 'Category', 'Sub-Category',\n",
       "       'Product Name', 'Sales', 'Quantity', 'Discount', 'Profit'],\n",
       "      dtype='object')"
      ]
     },
     "execution_count": 120,
     "metadata": {},
     "output_type": "execute_result"
    }
   ],
   "source": [
    "shipping_df = sales_df.drop_duplicates('Ship Date')\n",
    "shipping_df.columns"
   ]
  },
  {
   "cell_type": "code",
   "execution_count": 121,
   "metadata": {},
   "outputs": [
    {
     "data": {
      "image/png": "[encoded data removed]",
      "text/plain": [
       "<Figure size 432x288 with 1 Axes>"
      ]
     },
     "metadata": {
      "needs_background": "light"
     },
     "output_type": "display_data"
    }
   ],
   "source": [
    "import matplotlib.pyplot as plt\n",
    "\n",
    "shipping_df['Quantity'].hist(bins=15)\n",
    "\n",
    "plt.xlabel('Quantity')\n",
    "plt.ylabel('Number of Data')\n",
    "labels = [\"Quantity\"]\n",
    "plt.legend(labels)\n",
    "plt.show()"
   ]
  },
  {
   "cell_type": "code",
   "execution_count": 122,
   "metadata": {},
   "outputs": [
    {
     "name": "stderr",
     "output_type": "stream",
     "text": [
      "/usr/lib64/python3.8/site-packages/pandas/plotting/_matplotlib/converter.py:103: FutureWarning: Using an implicitly registered datetime converter for a matplotlib plotting method. The converter was registered by pandas on import. Future versions of pandas will require you to explicitly register matplotlib converters.\n",
      "\n",
      "To register the converters:\n",
      "\t>>> from pandas.plotting import register_matplotlib_converters\n",
      "\t>>> register_matplotlib_converters()\n",
      "  warnings.warn(msg, FutureWarning)\n"
     ]
    },
    {
     "data": {
      "text/plain": [
       "<BarContainer object of 1334 artists>"
      ]
     },
     "execution_count": 122,
     "metadata": {},
     "output_type": "execute_result"
    },
    {
     "data": {
      "image/png": "[encoded data removed]",
      "text/plain": [
       "<Figure size 1440x576 with 1 Axes>"
      ]
     },
     "metadata": {
      "needs_background": "light"
     },
     "output_type": "display_data"
    }
   ],
   "source": [
    "fig = plt.figure(figsize=(20, 8))\n",
    "df_x = shipping_df['Ship Date'].tolist()\n",
    "df_y = shipping_df['Sales'].tolist()\n",
    "plt.bar(df_x,df_y, width=5, color='orange')"
   ]
  },
  {
   "cell_type": "code",
   "execution_count": 123,
   "metadata": {},
   "outputs": [],
   "source": [
    "# lets define time random series with date index\n",
    "\n",
    "ts = pd.Series(np.random.randn(1000), index=pd.date_range('1/1/2000', periods=1000))\n"
   ]
  },
  {
   "cell_type": "code",
   "execution_count": 124,
   "metadata": {},
   "outputs": [
    {
     "data": {
      "text/html": [
       "<div>\n",
       "<style scoped>\n",
       "    .dataframe tbody tr th:only-of-type {\n",
       "        vertical-align: middle;\n",
       "    }\n",
       "\n",
       "    .dataframe tbody tr th {\n",
       "        vertical-align: top;\n",
       "    }\n",
       "\n",
       "    .dataframe thead th {\n",
       "        text-align: right;\n",
       "    }\n",
       "</style>\n",
       "<table border=\"1\" class=\"dataframe\">\n",
       "  <thead>\n",
       "    <tr style=\"text-align: right;\">\n",
       "      <th></th>\n",
       "      <th>BrainCell</th>\n",
       "    </tr>\n",
       "  </thead>\n",
       "  <tbody>\n",
       "    <tr>\n",
       "      <th>2020-03-10 00:00:00</th>\n",
       "      <td>0.811763</td>\n",
       "    </tr>\n",
       "    <tr>\n",
       "      <th>2020-03-10 00:01:00</th>\n",
       "      <td>2.584965</td>\n",
       "    </tr>\n",
       "    <tr>\n",
       "      <th>2020-03-10 00:02:00</th>\n",
       "      <td>3.848785</td>\n",
       "    </tr>\n",
       "    <tr>\n",
       "      <th>2020-03-10 00:03:00</th>\n",
       "      <td>3.734831</td>\n",
       "    </tr>\n",
       "    <tr>\n",
       "      <th>2020-03-10 00:04:00</th>\n",
       "      <td>4.102985</td>\n",
       "    </tr>\n",
       "    <tr>\n",
       "      <th>...</th>\n",
       "      <td>...</td>\n",
       "    </tr>\n",
       "    <tr>\n",
       "      <th>2020-03-10 16:35:00</th>\n",
       "      <td>9.225638</td>\n",
       "    </tr>\n",
       "    <tr>\n",
       "      <th>2020-03-10 16:36:00</th>\n",
       "      <td>8.675522</td>\n",
       "    </tr>\n",
       "    <tr>\n",
       "      <th>2020-03-10 16:37:00</th>\n",
       "      <td>8.813559</td>\n",
       "    </tr>\n",
       "    <tr>\n",
       "      <th>2020-03-10 16:38:00</th>\n",
       "      <td>8.410807</td>\n",
       "    </tr>\n",
       "    <tr>\n",
       "      <th>2020-03-10 16:39:00</th>\n",
       "      <td>7.149297</td>\n",
       "    </tr>\n",
       "  </tbody>\n",
       "</table>\n",
       "<p>1000 rows × 1 columns</p>\n",
       "</div>"
      ],
      "text/plain": [
       "                     BrainCell\n",
       "2020-03-10 00:00:00   0.811763\n",
       "2020-03-10 00:01:00   2.584965\n",
       "2020-03-10 00:02:00   3.848785\n",
       "2020-03-10 00:03:00   3.734831\n",
       "2020-03-10 00:04:00   4.102985\n",
       "...                        ...\n",
       "2020-03-10 16:35:00   9.225638\n",
       "2020-03-10 16:36:00   8.675522\n",
       "2020-03-10 16:37:00   8.813559\n",
       "2020-03-10 16:38:00   8.410807\n",
       "2020-03-10 16:39:00   7.149297\n",
       "\n",
       "[1000 rows x 1 columns]"
      ]
     },
     "execution_count": 124,
     "metadata": {},
     "output_type": "execute_result"
    }
   ],
   "source": [
    "# lets define a random time series and visualize it\n",
    "\n",
    "lockdown_df = pd.DataFrame(np.random.randn(1000,1)*np.sin(30), columns=['BrainCell'], index=pd.date_range('2020-03-10', periods = 1000, freq='T'))\n",
    "df = lockdown_df.cumsum()\n",
    "df"
   ]
  },
  {
   "cell_type": "code",
   "execution_count": 125,
   "metadata": {},
   "outputs": [
    {
     "data": {
      "text/plain": [
       "[<matplotlib.lines.Line2D at 0x7f1afaf9f670>]"
      ]
     },
     "execution_count": 125,
     "metadata": {},
     "output_type": "execute_result"
    },
    {
     "data": {
      "image/png": "[encoded data removed]",
      "text/plain": [
       "<Figure size 1080x576 with 1 Axes>"
      ]
     },
     "metadata": {
      "needs_background": "light"
     },
     "output_type": "display_data"
    }
   ],
   "source": [
    "fig = plt.figure( figsize=(15, 8) )\n",
    "plt.plot(df)"
   ]
  },
  {
   "cell_type": "markdown",
   "metadata": {},
   "source": [
    "---\n",
    "## Homework #10\n",
    "\n",
    "Please follow the instructions below. \n",
    "\n",
    "1 - Visit the following web page and import dataset in excel format. https://data.ibb.gov.tr/dataset/74a7f698-557f-40ff-876a-c28654dff944/resource/9baff1fa-54f3-480c-91ae-986e582d42c7/download/rayl-sistemlere-ait-istasyon-bilgileri.xlsx\n",
    "\n",
    "<p align=\"left\">  <img src=\"./Figures/ibb.png\" width = 50% > </p>\n",
    "\n",
    "2 - Read the columns from the excel file (\"Raylı Sistemler İstasyon B.\" Sheet), classify them belongs to \"İlçe Adı\" column and draw histogram plot to show how many stations in each \"İlçe Adı\" .\n",
    "\n",
    "3 - Create new sheet in the same excel file named as \"Analiz\", copy \"İstasyon Adı\" and \"İstasyon Büyüklüğü\" columns to your new sheet. Create a column in this sheet as \"Günlük Yolcu Sayısı\" as a random number between 2000-7000. Read these columns and plot a figure for İstasyon Büyüklüğü vs Günlük Yolcu Sayısı.  \n",
    "\n",
    "4 - Compute the average \"Günlük Yolcu Sayısı\" per \"İlçe Adı\". \n",
    "\n",
    "\n",
    "*** Be carefull about \"NaN or Null values\" in your data, they may disrupt your calculations.\n",
    "\n",
    "PS : Do not forget to upload your answer sheets to CE_103 Class on MS Teams.\n"
   ]
  }
 ],
 "metadata": {
  "kernelspec": {
   "display_name": "Python 3",
   "language": "python",
   "name": "python3"
  },
  "language_info": {
   "codemirror_mode": {
    "name": "ipython",
    "version": 3
   },
   "file_extension": ".py",
   "mimetype": "text/x-python",
   "name": "python",
   "nbconvert_exporter": "python",
   "pygments_lexer": "ipython3",
   "version": "3.8.7"
  }
 },
 "nbformat": 4,
 "nbformat_minor": 4
}
